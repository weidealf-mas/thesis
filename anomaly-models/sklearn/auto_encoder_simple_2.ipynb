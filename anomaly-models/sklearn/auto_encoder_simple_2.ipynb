{
 "cells": [
  {
   "cell_type": "code",
   "execution_count": 1,
   "metadata": {
    "scrolled": true
   },
   "outputs": [
    {
     "name": "stderr",
     "output_type": "stream",
     "text": [
      "Using TensorFlow backend.\n",
      "/home/administrator/anaconda3/envs/masterthesis/lib/python3.7/site-packages/tensorflow/python/framework/dtypes.py:526: FutureWarning: Passing (type, 1) or '1type' as a synonym of type is deprecated; in a future version of numpy, it will be understood as (type, (1,)) / '(1,)type'.\n",
      "  _np_qint8 = np.dtype([(\"qint8\", np.int8, 1)])\n",
      "/home/administrator/anaconda3/envs/masterthesis/lib/python3.7/site-packages/tensorflow/python/framework/dtypes.py:527: FutureWarning: Passing (type, 1) or '1type' as a synonym of type is deprecated; in a future version of numpy, it will be understood as (type, (1,)) / '(1,)type'.\n",
      "  _np_quint8 = np.dtype([(\"quint8\", np.uint8, 1)])\n",
      "/home/administrator/anaconda3/envs/masterthesis/lib/python3.7/site-packages/tensorflow/python/framework/dtypes.py:528: FutureWarning: Passing (type, 1) or '1type' as a synonym of type is deprecated; in a future version of numpy, it will be understood as (type, (1,)) / '(1,)type'.\n",
      "  _np_qint16 = np.dtype([(\"qint16\", np.int16, 1)])\n",
      "/home/administrator/anaconda3/envs/masterthesis/lib/python3.7/site-packages/tensorflow/python/framework/dtypes.py:529: FutureWarning: Passing (type, 1) or '1type' as a synonym of type is deprecated; in a future version of numpy, it will be understood as (type, (1,)) / '(1,)type'.\n",
      "  _np_quint16 = np.dtype([(\"quint16\", np.uint16, 1)])\n",
      "/home/administrator/anaconda3/envs/masterthesis/lib/python3.7/site-packages/tensorflow/python/framework/dtypes.py:530: FutureWarning: Passing (type, 1) or '1type' as a synonym of type is deprecated; in a future version of numpy, it will be understood as (type, (1,)) / '(1,)type'.\n",
      "  _np_qint32 = np.dtype([(\"qint32\", np.int32, 1)])\n",
      "/home/administrator/anaconda3/envs/masterthesis/lib/python3.7/site-packages/tensorflow/python/framework/dtypes.py:535: FutureWarning: Passing (type, 1) or '1type' as a synonym of type is deprecated; in a future version of numpy, it will be understood as (type, (1,)) / '(1,)type'.\n",
      "  np_resource = np.dtype([(\"resource\", np.ubyte, 1)])\n"
     ]
    }
   ],
   "source": [
    "import sys\n",
    "sys.path.append('../../ml_utils')\n",
    "\n",
    "import config as cfg\n",
    "import data_utils as du\n",
    "import vis_utils as vis\n",
    "import autoencoder as aenc\n",
    "import timeit\n",
    "import joblib\n",
    "\n",
    "import keras\n",
    "from keras import optimizers\n",
    "from keras import losses\n",
    "from keras.models import Sequential, Model\n",
    "from keras.layers import Dense, Input, Dropout, Embedding, LSTM\n",
    "from keras.optimizers import RMSprop, Adam, Nadam\n",
    "from keras.preprocessing import sequence\n",
    "from keras.callbacks import TensorBoard\n",
    "from keras import regularizers\n",
    "\n",
    "import sklearn\n",
    "from sklearn.preprocessing import StandardScaler\n",
    "from sklearn.model_selection import train_test_split\n",
    "from sklearn.metrics import confusion_matrix, roc_auc_score\n",
    "from sklearn.preprocessing import MinMaxScaler\n",
    "from sklearn.metrics import classification_report\n",
    "\n",
    "import seaborn as sns\n",
    "import pandas as pd\n",
    "import numpy as np\n",
    "import matplotlib\n",
    "\n",
    "import matplotlib.pyplot as plt\n",
    "import matplotlib.gridspec as gridspec\n",
    "%matplotlib inline\n",
    "\n",
    "import os\n",
    "os.environ['CUDA_VISIBLE_DEVICES']='-1'\n",
    "\n",
    "import tensorflow "
   ]
  },
  {
   "cell_type": "code",
   "execution_count": 2,
   "metadata": {},
   "outputs": [
    {
     "name": "stdout",
     "output_type": "stream",
     "text": [
      "Python:  3.7.5 (default, Oct 25 2019, 15:51:11) \n",
      "[GCC 7.3.0]\n",
      "pandas:  0.25.3\n",
      "numpy:  1.17.4\n",
      "seaborn:  0.9.0\n",
      "matplotlib:  3.1.1\n",
      "sklearn:  0.22\n",
      "Keras:  2.2.4\n",
      "Tensorflow:  1.13.1\n"
     ]
    }
   ],
   "source": [
    "print(\"Python: \", sys.version)\n",
    "print(\"pandas: \", pd.__version__)\n",
    "print(\"numpy: \", np.__version__)\n",
    "print(\"seaborn: \", sns.__version__)\n",
    "print(\"matplotlib: \", matplotlib.__version__)\n",
    "print(\"sklearn: \", sklearn.__version__)\n",
    "print(\"Keras: \", keras.__version__)\n",
    "print(\"Tensorflow: \", tensorflow.__version__)"
   ]
  },
  {
   "cell_type": "markdown",
   "metadata": {},
   "source": [
    "### Load and clean the data"
   ]
  },
  {
   "cell_type": "code",
   "execution_count": 3,
   "metadata": {},
   "outputs": [
    {
     "name": "stdout",
     "output_type": "stream",
     "text": [
      "Original data frame size: (12417597, 31)\n",
      "\n",
      "Time: 39.11453076900216 seconds\n",
      "\n"
     ]
    }
   ],
   "source": [
    "log_data = './../../shared/data/swissid_authorize_logs_april_to_sept_2019.csv'\n",
    "\n",
    "start = timeit.default_timer()\n",
    "df = pd.read_csv(filepath_or_buffer=log_data, header=0, sep='\\t', names=cfg.complete_feature_list, index_col=None)\n",
    "stop = timeit.default_timer()\n",
    "\n",
    "print(\"Original data frame size: {}\\n\".format(df.shape))\n",
    "print(\"Time: {} seconds\\n\".format(stop - start))"
   ]
  },
  {
   "cell_type": "code",
   "execution_count": 4,
   "metadata": {},
   "outputs": [
    {
     "name": "stdout",
     "output_type": "stream",
     "text": [
      "columns with NaN: loc_country_code\n",
      "loc_country_code is fixed\n"
     ]
    }
   ],
   "source": [
    "df = du.clean_data(df)"
   ]
  },
  {
   "cell_type": "code",
   "execution_count": 5,
   "metadata": {},
   "outputs": [],
   "source": [
    "features = ['label_nr', 'src_software_sub_type', 'src_operating_system_name', 'src_hardware_type', 'response_status_code', \n",
    "            'oidc_client_id', 'oidc_scopes', 'oidc_ui_locales', 'loc_city', 'loc_country_code', 'date_weekday']\n",
    "\n",
    "excludes = list(set(df.columns.tolist()) - set(features))"
   ]
  },
  {
   "cell_type": "code",
   "execution_count": 6,
   "metadata": {},
   "outputs": [
    {
     "name": "stdout",
     "output_type": "stream",
     "text": [
      "reduced data frame size: (12204748, 11)\n",
      "\n"
     ]
    }
   ],
   "source": [
    "reduced_df = du.reduce_features(df, excludes)\n",
    "\n",
    "print(\"reduced data frame size: {}\\n\".format(reduced_df.shape))\n",
    "#display(reduced_df)"
   ]
  },
  {
   "cell_type": "code",
   "execution_count": 7,
   "metadata": {},
   "outputs": [
    {
     "name": "stdout",
     "output_type": "stream",
     "text": [
      "2    7412813\n",
      "0    4769169\n",
      "1      22766\n",
      "Name: label_nr, dtype: int64\n"
     ]
    }
   ],
   "source": [
    "print(reduced_df['label_nr'].value_counts())"
   ]
  },
  {
   "cell_type": "markdown",
   "metadata": {},
   "source": [
    "### Model Training"
   ]
  },
  {
   "cell_type": "code",
   "execution_count": 8,
   "metadata": {},
   "outputs": [
    {
     "name": "stdout",
     "output_type": "stream",
     "text": [
      "(240000, 10) train samples\n",
      "(60000, 10) test samples\n"
     ]
    }
   ],
   "source": [
    "sample_size= 300000\n",
    "exclude = ['label_nr']\n",
    "\n",
    "# load dataset\n",
    "X_df, y_df, anomaly_rate, encoder = du.build_normal_anomaly_sample_df(reduced_df, sample_size, exclude, True, True, False, True)\n",
    "x_train, x_test, y_train, y_test = train_test_split(X_df, y_df, test_size=0.2, random_state=42)\n",
    "\n",
    "print(x_train.shape, 'train samples')\n",
    "print(x_test.shape, 'test samples')"
   ]
  },
  {
   "cell_type": "code",
   "execution_count": 48,
   "metadata": {},
   "outputs": [
    {
     "name": "stdout",
     "output_type": "stream",
     "text": [
      "_________________________________________________________________\n",
      "Layer (type)                 Output Shape              Param #   \n",
      "=================================================================\n",
      "input_2 (InputLayer)         (None, 10)                0         \n",
      "_________________________________________________________________\n",
      "dense_3 (Dense)              (None, 3)                 33        \n",
      "_________________________________________________________________\n",
      "dense_4 (Dense)              (None, 10)                40        \n",
      "=================================================================\n",
      "Total params: 73\n",
      "Trainable params: 73\n",
      "Non-trainable params: 0\n",
      "_________________________________________________________________\n"
     ]
    }
   ],
   "source": [
    "#sparse autoencoder\n",
    "model = aenc.create_simple_auto_encoder(x_train.shape[1], 3)\n",
    "model.summary()"
   ]
  },
  {
   "cell_type": "code",
   "execution_count": 49,
   "metadata": {},
   "outputs": [
    {
     "name": "stdout",
     "output_type": "stream",
     "text": [
      "Train on 240000 samples, validate on 60000 samples\n",
      "Epoch 1/150\n",
      "240000/240000 [==============================] - 4s 18us/step - loss: 0.8866 - mean_absolute_error: 0.5067 - acc: 0.4911 - val_loss: 0.8537 - val_mean_absolute_error: 0.4857 - val_acc: 0.6023\n",
      "Epoch 2/150\n",
      "240000/240000 [==============================] - 4s 18us/step - loss: 0.8367 - mean_absolute_error: 0.4799 - acc: 0.6302 - val_loss: 0.8417 - val_mean_absolute_error: 0.4786 - val_acc: 0.6910\n",
      "Epoch 3/150\n",
      "240000/240000 [==============================] - 4s 17us/step - loss: 0.8279 - mean_absolute_error: 0.4751 - acc: 0.6982 - val_loss: 0.8382 - val_mean_absolute_error: 0.4755 - val_acc: 0.6559\n",
      "Epoch 4/150\n",
      "240000/240000 [==============================] - 4s 17us/step - loss: 0.8263 - mean_absolute_error: 0.4735 - acc: 0.7124 - val_loss: 0.8375 - val_mean_absolute_error: 0.4747 - val_acc: 0.7348\n",
      "Epoch 5/150\n",
      "240000/240000 [==============================] - 4s 17us/step - loss: 0.8258 - mean_absolute_error: 0.4729 - acc: 0.7278 - val_loss: 0.8371 - val_mean_absolute_error: 0.4743 - val_acc: 0.7223\n",
      "Epoch 6/150\n",
      "240000/240000 [==============================] - 4s 18us/step - loss: 0.8256 - mean_absolute_error: 0.4726 - acc: 0.7356 - val_loss: 0.8370 - val_mean_absolute_error: 0.4741 - val_acc: 0.7604\n",
      "Epoch 7/150\n",
      "240000/240000 [==============================] - 4s 17us/step - loss: 0.8255 - mean_absolute_error: 0.4724 - acc: 0.7407 - val_loss: 0.8370 - val_mean_absolute_error: 0.4740 - val_acc: 0.7605\n",
      "Epoch 8/150\n",
      "240000/240000 [==============================] - 4s 17us/step - loss: 0.8254 - mean_absolute_error: 0.4723 - acc: 0.7454 - val_loss: 0.8369 - val_mean_absolute_error: 0.4739 - val_acc: 0.7434\n",
      "Epoch 9/150\n",
      "240000/240000 [==============================] - 4s 17us/step - loss: 0.8253 - mean_absolute_error: 0.4723 - acc: 0.7435 - val_loss: 0.8369 - val_mean_absolute_error: 0.4739 - val_acc: 0.6655\n",
      "Epoch 10/150\n",
      "240000/240000 [==============================] - 4s 17us/step - loss: 0.8253 - mean_absolute_error: 0.4723 - acc: 0.7453 - val_loss: 0.8368 - val_mean_absolute_error: 0.4738 - val_acc: 0.7659\n",
      "Epoch 11/150\n",
      "240000/240000 [==============================] - 4s 17us/step - loss: 0.8253 - mean_absolute_error: 0.4722 - acc: 0.7458 - val_loss: 0.8368 - val_mean_absolute_error: 0.4738 - val_acc: 0.7661\n",
      "Epoch 12/150\n",
      "240000/240000 [==============================] - 4s 17us/step - loss: 0.8253 - mean_absolute_error: 0.4722 - acc: 0.7494 - val_loss: 0.8368 - val_mean_absolute_error: 0.4738 - val_acc: 0.7679\n",
      "Epoch 13/150\n",
      "240000/240000 [==============================] - 4s 18us/step - loss: 0.8253 - mean_absolute_error: 0.4722 - acc: 0.7503 - val_loss: 0.8368 - val_mean_absolute_error: 0.4738 - val_acc: 0.7706\n",
      "Epoch 14/150\n",
      "240000/240000 [==============================] - 4s 17us/step - loss: 0.8252 - mean_absolute_error: 0.4722 - acc: 0.7516 - val_loss: 0.8368 - val_mean_absolute_error: 0.4738 - val_acc: 0.7743\n",
      "Epoch 15/150\n",
      "240000/240000 [==============================] - 4s 17us/step - loss: 0.8252 - mean_absolute_error: 0.4722 - acc: 0.7507 - val_loss: 0.8367 - val_mean_absolute_error: 0.4737 - val_acc: 0.7848\n",
      "Epoch 16/150\n",
      "240000/240000 [==============================] - 4s 17us/step - loss: 0.8252 - mean_absolute_error: 0.4722 - acc: 0.7496 - val_loss: 0.8367 - val_mean_absolute_error: 0.4737 - val_acc: 0.7621\n",
      "Epoch 17/150\n",
      "240000/240000 [==============================] - 4s 17us/step - loss: 0.8252 - mean_absolute_error: 0.4722 - acc: 0.7508 - val_loss: 0.8367 - val_mean_absolute_error: 0.4738 - val_acc: 0.7673\n",
      "Epoch 18/150\n",
      "240000/240000 [==============================] - 4s 17us/step - loss: 0.8252 - mean_absolute_error: 0.4722 - acc: 0.7518 - val_loss: 0.8367 - val_mean_absolute_error: 0.4738 - val_acc: 0.7561\n",
      "Epoch 19/150\n",
      "240000/240000 [==============================] - 4s 17us/step - loss: 0.8252 - mean_absolute_error: 0.4721 - acc: 0.7508 - val_loss: 0.8367 - val_mean_absolute_error: 0.4737 - val_acc: 0.7750\n",
      "Epoch 20/150\n",
      "240000/240000 [==============================] - 4s 17us/step - loss: 0.8252 - mean_absolute_error: 0.4721 - acc: 0.7522 - val_loss: 0.8367 - val_mean_absolute_error: 0.4738 - val_acc: 0.7650\n",
      "Epoch 21/150\n",
      "240000/240000 [==============================] - 4s 17us/step - loss: 0.8252 - mean_absolute_error: 0.4721 - acc: 0.7512 - val_loss: 0.8367 - val_mean_absolute_error: 0.4737 - val_acc: 0.7689\n",
      "Epoch 22/150\n",
      "240000/240000 [==============================] - 4s 17us/step - loss: 0.8252 - mean_absolute_error: 0.4721 - acc: 0.7519 - val_loss: 0.8367 - val_mean_absolute_error: 0.4736 - val_acc: 0.7672\n",
      "Epoch 23/150\n",
      "240000/240000 [==============================] - 4s 17us/step - loss: 0.8252 - mean_absolute_error: 0.4721 - acc: 0.7498 - val_loss: 0.8367 - val_mean_absolute_error: 0.4738 - val_acc: 0.7825\n",
      "Epoch 24/150\n",
      "240000/240000 [==============================] - 4s 17us/step - loss: 0.8252 - mean_absolute_error: 0.4721 - acc: 0.7520 - val_loss: 0.8367 - val_mean_absolute_error: 0.4737 - val_acc: 0.7718\n",
      "Epoch 25/150\n",
      "240000/240000 [==============================] - 4s 18us/step - loss: 0.8252 - mean_absolute_error: 0.4721 - acc: 0.7502 - val_loss: 0.8367 - val_mean_absolute_error: 0.4737 - val_acc: 0.7341\n",
      "Epoch 26/150\n",
      "240000/240000 [==============================] - 4s 18us/step - loss: 0.8252 - mean_absolute_error: 0.4721 - acc: 0.7519 - val_loss: 0.8367 - val_mean_absolute_error: 0.4738 - val_acc: 0.7656\n",
      "Epoch 27/150\n",
      "240000/240000 [==============================] - 4s 18us/step - loss: 0.8252 - mean_absolute_error: 0.4721 - acc: 0.7516 - val_loss: 0.8366 - val_mean_absolute_error: 0.4737 - val_acc: 0.7687\n",
      "Epoch 28/150\n",
      "240000/240000 [==============================] - 4s 18us/step - loss: 0.8251 - mean_absolute_error: 0.4721 - acc: 0.7518 - val_loss: 0.8366 - val_mean_absolute_error: 0.4737 - val_acc: 0.7812\n",
      "Epoch 29/150\n",
      "240000/240000 [==============================] - 4s 18us/step - loss: 0.8251 - mean_absolute_error: 0.4721 - acc: 0.7508 - val_loss: 0.8367 - val_mean_absolute_error: 0.4737 - val_acc: 0.7796\n",
      "Epoch 30/150\n",
      "240000/240000 [==============================] - 4s 17us/step - loss: 0.8251 - mean_absolute_error: 0.4721 - acc: 0.7537 - val_loss: 0.8366 - val_mean_absolute_error: 0.4736 - val_acc: 0.7743\n",
      "Epoch 31/150\n",
      "240000/240000 [==============================] - 4s 18us/step - loss: 0.8251 - mean_absolute_error: 0.4721 - acc: 0.7498 - val_loss: 0.8366 - val_mean_absolute_error: 0.4736 - val_acc: 0.7754\n",
      "Epoch 32/150\n",
      "240000/240000 [==============================] - 4s 18us/step - loss: 0.8251 - mean_absolute_error: 0.4721 - acc: 0.7512 - val_loss: 0.8367 - val_mean_absolute_error: 0.4738 - val_acc: 0.6689\n",
      "Epoch 33/150\n",
      "240000/240000 [==============================] - 4s 18us/step - loss: 0.8251 - mean_absolute_error: 0.4721 - acc: 0.7498 - val_loss: 0.8366 - val_mean_absolute_error: 0.4736 - val_acc: 0.7665\n",
      "Epoch 34/150\n",
      "240000/240000 [==============================] - 4s 17us/step - loss: 0.8251 - mean_absolute_error: 0.4721 - acc: 0.7520 - val_loss: 0.8366 - val_mean_absolute_error: 0.4737 - val_acc: 0.6840\n",
      "Epoch 35/150\n",
      "240000/240000 [==============================] - 4s 18us/step - loss: 0.8251 - mean_absolute_error: 0.4721 - acc: 0.7521 - val_loss: 0.8366 - val_mean_absolute_error: 0.4736 - val_acc: 0.7688\n",
      "Epoch 36/150\n",
      "240000/240000 [==============================] - 4s 18us/step - loss: 0.8251 - mean_absolute_error: 0.4721 - acc: 0.7524 - val_loss: 0.8366 - val_mean_absolute_error: 0.4737 - val_acc: 0.7054\n",
      "Epoch 37/150\n",
      "240000/240000 [==============================] - 4s 18us/step - loss: 0.8251 - mean_absolute_error: 0.4721 - acc: 0.7508 - val_loss: 0.8366 - val_mean_absolute_error: 0.4737 - val_acc: 0.7658\n",
      "Epoch 38/150\n",
      "240000/240000 [==============================] - 4s 18us/step - loss: 0.8251 - mean_absolute_error: 0.4721 - acc: 0.7534 - val_loss: 0.8366 - val_mean_absolute_error: 0.4736 - val_acc: 0.7680\n",
      "Epoch 39/150\n",
      "240000/240000 [==============================] - 4s 18us/step - loss: 0.8251 - mean_absolute_error: 0.4721 - acc: 0.7517 - val_loss: 0.8366 - val_mean_absolute_error: 0.4736 - val_acc: 0.7873\n",
      "Epoch 40/150\n",
      "240000/240000 [==============================] - 4s 18us/step - loss: 0.8251 - mean_absolute_error: 0.4721 - acc: 0.7513 - val_loss: 0.8366 - val_mean_absolute_error: 0.4736 - val_acc: 0.7662\n"
     ]
    },
    {
     "name": "stdout",
     "output_type": "stream",
     "text": [
      "Epoch 41/150\n",
      "240000/240000 [==============================] - 4s 18us/step - loss: 0.8251 - mean_absolute_error: 0.4721 - acc: 0.7511 - val_loss: 0.8366 - val_mean_absolute_error: 0.4736 - val_acc: 0.7666\n",
      "Epoch 42/150\n",
      "240000/240000 [==============================] - 4s 18us/step - loss: 0.8251 - mean_absolute_error: 0.4721 - acc: 0.7521 - val_loss: 0.8367 - val_mean_absolute_error: 0.4737 - val_acc: 0.7689\n",
      "Epoch 43/150\n",
      "240000/240000 [==============================] - 4s 18us/step - loss: 0.8251 - mean_absolute_error: 0.4721 - acc: 0.7535 - val_loss: 0.8366 - val_mean_absolute_error: 0.4737 - val_acc: 0.7704\n",
      "Epoch 44/150\n",
      "240000/240000 [==============================] - 4s 18us/step - loss: 0.8251 - mean_absolute_error: 0.4721 - acc: 0.7525 - val_loss: 0.8366 - val_mean_absolute_error: 0.4737 - val_acc: 0.7657\n",
      "Epoch 45/150\n",
      "240000/240000 [==============================] - 4s 18us/step - loss: 0.8251 - mean_absolute_error: 0.4721 - acc: 0.7520 - val_loss: 0.8366 - val_mean_absolute_error: 0.4737 - val_acc: 0.7604\n",
      "Epoch 46/150\n",
      "240000/240000 [==============================] - 4s 17us/step - loss: 0.8251 - mean_absolute_error: 0.4721 - acc: 0.7520 - val_loss: 0.8366 - val_mean_absolute_error: 0.4736 - val_acc: 0.6999\n",
      "Epoch 47/150\n",
      "240000/240000 [==============================] - 4s 18us/step - loss: 0.8251 - mean_absolute_error: 0.4721 - acc: 0.7512 - val_loss: 0.8366 - val_mean_absolute_error: 0.4737 - val_acc: 0.7653\n",
      "Epoch 48/150\n",
      "240000/240000 [==============================] - 4s 18us/step - loss: 0.8251 - mean_absolute_error: 0.4721 - acc: 0.7519 - val_loss: 0.8366 - val_mean_absolute_error: 0.4737 - val_acc: 0.7746\n",
      "Epoch 49/150\n",
      "240000/240000 [==============================] - 4s 18us/step - loss: 0.8251 - mean_absolute_error: 0.4721 - acc: 0.7506 - val_loss: 0.8366 - val_mean_absolute_error: 0.4735 - val_acc: 0.7881\n",
      "Epoch 50/150\n",
      "240000/240000 [==============================] - 4s 18us/step - loss: 0.8251 - mean_absolute_error: 0.4721 - acc: 0.7532 - val_loss: 0.8366 - val_mean_absolute_error: 0.4736 - val_acc: 0.7422\n",
      "Epoch 51/150\n",
      "240000/240000 [==============================] - 4s 18us/step - loss: 0.8251 - mean_absolute_error: 0.4721 - acc: 0.7507 - val_loss: 0.8366 - val_mean_absolute_error: 0.4737 - val_acc: 0.7675\n",
      "Epoch 52/150\n",
      "240000/240000 [==============================] - 4s 17us/step - loss: 0.8251 - mean_absolute_error: 0.4721 - acc: 0.7524 - val_loss: 0.8366 - val_mean_absolute_error: 0.4737 - val_acc: 0.6672\n",
      "Epoch 53/150\n",
      "240000/240000 [==============================] - 4s 18us/step - loss: 0.8251 - mean_absolute_error: 0.4721 - acc: 0.7525 - val_loss: 0.8366 - val_mean_absolute_error: 0.4736 - val_acc: 0.7645\n",
      "Epoch 54/150\n",
      "240000/240000 [==============================] - 4s 18us/step - loss: 0.8251 - mean_absolute_error: 0.4721 - acc: 0.7511 - val_loss: 0.8366 - val_mean_absolute_error: 0.4737 - val_acc: 0.7247\n",
      "Epoch 55/150\n",
      "240000/240000 [==============================] - 4s 18us/step - loss: 0.8251 - mean_absolute_error: 0.4721 - acc: 0.7506 - val_loss: 0.8366 - val_mean_absolute_error: 0.4736 - val_acc: 0.6917\n",
      "Epoch 56/150\n",
      "240000/240000 [==============================] - 4s 18us/step - loss: 0.8251 - mean_absolute_error: 0.4721 - acc: 0.7526 - val_loss: 0.8366 - val_mean_absolute_error: 0.4736 - val_acc: 0.7791\n",
      "Epoch 57/150\n",
      "240000/240000 [==============================] - 4s 18us/step - loss: 0.8251 - mean_absolute_error: 0.4721 - acc: 0.7528 - val_loss: 0.8366 - val_mean_absolute_error: 0.4737 - val_acc: 0.7653\n",
      "Epoch 58/150\n",
      "240000/240000 [==============================] - 4s 18us/step - loss: 0.8251 - mean_absolute_error: 0.4721 - acc: 0.7536 - val_loss: 0.8366 - val_mean_absolute_error: 0.4737 - val_acc: 0.7649\n",
      "Epoch 59/150\n",
      "240000/240000 [==============================] - 4s 18us/step - loss: 0.8251 - mean_absolute_error: 0.4721 - acc: 0.7523 - val_loss: 0.8366 - val_mean_absolute_error: 0.4737 - val_acc: 0.7696\n",
      "Epoch 60/150\n",
      "240000/240000 [==============================] - 4s 18us/step - loss: 0.8251 - mean_absolute_error: 0.4721 - acc: 0.7531 - val_loss: 0.8366 - val_mean_absolute_error: 0.4737 - val_acc: 0.7648\n",
      "Epoch 61/150\n",
      "240000/240000 [==============================] - 4s 18us/step - loss: 0.8251 - mean_absolute_error: 0.4721 - acc: 0.7538 - val_loss: 0.8366 - val_mean_absolute_error: 0.4736 - val_acc: 0.7662\n",
      "Epoch 62/150\n",
      "240000/240000 [==============================] - 4s 18us/step - loss: 0.8251 - mean_absolute_error: 0.4721 - acc: 0.7523 - val_loss: 0.8366 - val_mean_absolute_error: 0.4737 - val_acc: 0.6845\n",
      "Epoch 63/150\n",
      "240000/240000 [==============================] - 4s 18us/step - loss: 0.8251 - mean_absolute_error: 0.4721 - acc: 0.7530 - val_loss: 0.8366 - val_mean_absolute_error: 0.4736 - val_acc: 0.7825\n",
      "Epoch 64/150\n",
      "240000/240000 [==============================] - 4s 18us/step - loss: 0.8251 - mean_absolute_error: 0.4721 - acc: 0.7520 - val_loss: 0.8366 - val_mean_absolute_error: 0.4736 - val_acc: 0.6861\n",
      "Epoch 65/150\n",
      "240000/240000 [==============================] - 4s 18us/step - loss: 0.8251 - mean_absolute_error: 0.4721 - acc: 0.7517 - val_loss: 0.8366 - val_mean_absolute_error: 0.4737 - val_acc: 0.7644\n",
      "Epoch 66/150\n",
      "240000/240000 [==============================] - 4s 18us/step - loss: 0.8251 - mean_absolute_error: 0.4721 - acc: 0.7525 - val_loss: 0.8366 - val_mean_absolute_error: 0.4737 - val_acc: 0.7669\n",
      "Epoch 67/150\n",
      "240000/240000 [==============================] - 4s 18us/step - loss: 0.8251 - mean_absolute_error: 0.4721 - acc: 0.7500 - val_loss: 0.8366 - val_mean_absolute_error: 0.4736 - val_acc: 0.7659\n",
      "Epoch 68/150\n",
      "240000/240000 [==============================] - 4s 18us/step - loss: 0.8251 - mean_absolute_error: 0.4721 - acc: 0.7522 - val_loss: 0.8366 - val_mean_absolute_error: 0.4737 - val_acc: 0.7715\n",
      "Epoch 69/150\n",
      "240000/240000 [==============================] - 4s 17us/step - loss: 0.8251 - mean_absolute_error: 0.4721 - acc: 0.7537 - val_loss: 0.8366 - val_mean_absolute_error: 0.4737 - val_acc: 0.7747\n",
      "Epoch 70/150\n",
      "240000/240000 [==============================] - 4s 18us/step - loss: 0.8251 - mean_absolute_error: 0.4721 - acc: 0.7522 - val_loss: 0.8366 - val_mean_absolute_error: 0.4736 - val_acc: 0.7655\n",
      "Epoch 71/150\n",
      "240000/240000 [==============================] - 4s 17us/step - loss: 0.8251 - mean_absolute_error: 0.4721 - acc: 0.7520 - val_loss: 0.8366 - val_mean_absolute_error: 0.4736 - val_acc: 0.7722\n",
      "Epoch 72/150\n",
      "240000/240000 [==============================] - 4s 17us/step - loss: 0.8251 - mean_absolute_error: 0.4721 - acc: 0.7525 - val_loss: 0.8366 - val_mean_absolute_error: 0.4736 - val_acc: 0.7587\n",
      "Epoch 73/150\n",
      "240000/240000 [==============================] - 4s 17us/step - loss: 0.8251 - mean_absolute_error: 0.4721 - acc: 0.7539 - val_loss: 0.8366 - val_mean_absolute_error: 0.4737 - val_acc: 0.7658\n",
      "Epoch 74/150\n",
      "240000/240000 [==============================] - 4s 18us/step - loss: 0.8251 - mean_absolute_error: 0.4721 - acc: 0.7529 - val_loss: 0.8366 - val_mean_absolute_error: 0.4737 - val_acc: 0.7533\n",
      "Epoch 75/150\n",
      "240000/240000 [==============================] - 4s 17us/step - loss: 0.8251 - mean_absolute_error: 0.4721 - acc: 0.7524 - val_loss: 0.8366 - val_mean_absolute_error: 0.4736 - val_acc: 0.7704\n",
      "Epoch 76/150\n",
      "240000/240000 [==============================] - 4s 17us/step - loss: 0.8250 - mean_absolute_error: 0.4721 - acc: 0.7522 - val_loss: 0.8366 - val_mean_absolute_error: 0.4736 - val_acc: 0.6827\n",
      "Epoch 77/150\n",
      "240000/240000 [==============================] - 4s 16us/step - loss: 0.8250 - mean_absolute_error: 0.4721 - acc: 0.7505 - val_loss: 0.8365 - val_mean_absolute_error: 0.4736 - val_acc: 0.7714\n",
      "Epoch 78/150\n",
      "240000/240000 [==============================] - 4s 17us/step - loss: 0.8250 - mean_absolute_error: 0.4721 - acc: 0.7513 - val_loss: 0.8366 - val_mean_absolute_error: 0.4736 - val_acc: 0.7825\n",
      "Epoch 79/150\n",
      "240000/240000 [==============================] - 4s 16us/step - loss: 0.8250 - mean_absolute_error: 0.4721 - acc: 0.7506 - val_loss: 0.8365 - val_mean_absolute_error: 0.4737 - val_acc: 0.7658\n",
      "Epoch 80/150\n",
      "240000/240000 [==============================] - 4s 17us/step - loss: 0.8250 - mean_absolute_error: 0.4721 - acc: 0.7517 - val_loss: 0.8365 - val_mean_absolute_error: 0.4737 - val_acc: 0.6941\n"
     ]
    },
    {
     "name": "stdout",
     "output_type": "stream",
     "text": [
      "Epoch 81/150\n",
      "240000/240000 [==============================] - 4s 18us/step - loss: 0.8250 - mean_absolute_error: 0.4721 - acc: 0.7542 - val_loss: 0.8365 - val_mean_absolute_error: 0.4736 - val_acc: 0.6724\n",
      "Epoch 82/150\n",
      "240000/240000 [==============================] - 4s 18us/step - loss: 0.8250 - mean_absolute_error: 0.4721 - acc: 0.7496 - val_loss: 0.8365 - val_mean_absolute_error: 0.4737 - val_acc: 0.7630\n",
      "Epoch 83/150\n",
      "240000/240000 [==============================] - 4s 18us/step - loss: 0.8250 - mean_absolute_error: 0.4721 - acc: 0.7522 - val_loss: 0.8365 - val_mean_absolute_error: 0.4737 - val_acc: 0.7661\n",
      "Epoch 84/150\n",
      "240000/240000 [==============================] - 4s 18us/step - loss: 0.8250 - mean_absolute_error: 0.4721 - acc: 0.7524 - val_loss: 0.8364 - val_mean_absolute_error: 0.4736 - val_acc: 0.7668\n",
      "Epoch 85/150\n",
      "240000/240000 [==============================] - 4s 18us/step - loss: 0.8249 - mean_absolute_error: 0.4721 - acc: 0.7529 - val_loss: 0.8364 - val_mean_absolute_error: 0.4736 - val_acc: 0.7725\n",
      "Epoch 86/150\n",
      "240000/240000 [==============================] - 4s 17us/step - loss: 0.8249 - mean_absolute_error: 0.4720 - acc: 0.7501 - val_loss: 0.8364 - val_mean_absolute_error: 0.4736 - val_acc: 0.7834\n",
      "Epoch 87/150\n",
      "240000/240000 [==============================] - 4s 17us/step - loss: 0.8249 - mean_absolute_error: 0.4721 - acc: 0.7515 - val_loss: 0.8364 - val_mean_absolute_error: 0.4736 - val_acc: 0.7698\n",
      "Epoch 88/150\n",
      "240000/240000 [==============================] - 4s 17us/step - loss: 0.8249 - mean_absolute_error: 0.4720 - acc: 0.7522 - val_loss: 0.8364 - val_mean_absolute_error: 0.4737 - val_acc: 0.7745\n",
      "Epoch 89/150\n",
      "240000/240000 [==============================] - 4s 18us/step - loss: 0.8249 - mean_absolute_error: 0.4721 - acc: 0.7527 - val_loss: 0.8364 - val_mean_absolute_error: 0.4737 - val_acc: 0.7219\n",
      "Epoch 90/150\n",
      "240000/240000 [==============================] - 4s 17us/step - loss: 0.8249 - mean_absolute_error: 0.4720 - acc: 0.7512 - val_loss: 0.8364 - val_mean_absolute_error: 0.4736 - val_acc: 0.7499\n",
      "Epoch 91/150\n",
      "240000/240000 [==============================] - 4s 17us/step - loss: 0.8249 - mean_absolute_error: 0.4720 - acc: 0.7534 - val_loss: 0.8364 - val_mean_absolute_error: 0.4736 - val_acc: 0.7789\n",
      "Epoch 92/150\n",
      "240000/240000 [==============================] - 4s 17us/step - loss: 0.8249 - mean_absolute_error: 0.4720 - acc: 0.7514 - val_loss: 0.8364 - val_mean_absolute_error: 0.4736 - val_acc: 0.6775\n",
      "Epoch 93/150\n",
      "240000/240000 [==============================] - 4s 17us/step - loss: 0.8249 - mean_absolute_error: 0.4720 - acc: 0.7538 - val_loss: 0.8364 - val_mean_absolute_error: 0.4737 - val_acc: 0.7680\n",
      "Epoch 94/150\n",
      "240000/240000 [==============================] - 4s 17us/step - loss: 0.8249 - mean_absolute_error: 0.4720 - acc: 0.7541 - val_loss: 0.8364 - val_mean_absolute_error: 0.4736 - val_acc: 0.7687\n",
      "Epoch 95/150\n",
      "240000/240000 [==============================] - 4s 18us/step - loss: 0.8249 - mean_absolute_error: 0.4720 - acc: 0.7521 - val_loss: 0.8364 - val_mean_absolute_error: 0.4737 - val_acc: 0.6829\n",
      "Epoch 96/150\n",
      "240000/240000 [==============================] - 4s 17us/step - loss: 0.8249 - mean_absolute_error: 0.4720 - acc: 0.7532 - val_loss: 0.8364 - val_mean_absolute_error: 0.4736 - val_acc: 0.7839\n",
      "Epoch 97/150\n",
      "240000/240000 [==============================] - 4s 17us/step - loss: 0.8249 - mean_absolute_error: 0.4720 - acc: 0.7518 - val_loss: 0.8364 - val_mean_absolute_error: 0.4736 - val_acc: 0.7012\n",
      "Epoch 98/150\n",
      "240000/240000 [==============================] - 4s 17us/step - loss: 0.8249 - mean_absolute_error: 0.4721 - acc: 0.7551 - val_loss: 0.8364 - val_mean_absolute_error: 0.4736 - val_acc: 0.6849\n",
      "Epoch 99/150\n",
      "240000/240000 [==============================] - 4s 17us/step - loss: 0.8249 - mean_absolute_error: 0.4720 - acc: 0.7532 - val_loss: 0.8364 - val_mean_absolute_error: 0.4737 - val_acc: 0.6821\n",
      "Epoch 100/150\n",
      "240000/240000 [==============================] - 4s 17us/step - loss: 0.8249 - mean_absolute_error: 0.4721 - acc: 0.7523 - val_loss: 0.8364 - val_mean_absolute_error: 0.4736 - val_acc: 0.7567\n",
      "Epoch 101/150\n",
      "240000/240000 [==============================] - 4s 17us/step - loss: 0.8249 - mean_absolute_error: 0.4721 - acc: 0.7543 - val_loss: 0.8364 - val_mean_absolute_error: 0.4736 - val_acc: 0.7475\n",
      "Epoch 102/150\n",
      "240000/240000 [==============================] - 4s 17us/step - loss: 0.8249 - mean_absolute_error: 0.4720 - acc: 0.7518 - val_loss: 0.8364 - val_mean_absolute_error: 0.4736 - val_acc: 0.6801\n",
      "Epoch 103/150\n",
      "240000/240000 [==============================] - 4s 17us/step - loss: 0.8249 - mean_absolute_error: 0.4721 - acc: 0.7539 - val_loss: 0.8364 - val_mean_absolute_error: 0.4737 - val_acc: 0.7698\n",
      "Epoch 104/150\n",
      "240000/240000 [==============================] - 4s 17us/step - loss: 0.8249 - mean_absolute_error: 0.4721 - acc: 0.7528 - val_loss: 0.8364 - val_mean_absolute_error: 0.4736 - val_acc: 0.7832\n",
      "Epoch 105/150\n",
      "240000/240000 [==============================] - 4s 17us/step - loss: 0.8249 - mean_absolute_error: 0.4721 - acc: 0.7535 - val_loss: 0.8364 - val_mean_absolute_error: 0.4737 - val_acc: 0.7657\n",
      "Epoch 106/150\n",
      "240000/240000 [==============================] - 4s 17us/step - loss: 0.8249 - mean_absolute_error: 0.4721 - acc: 0.7514 - val_loss: 0.8364 - val_mean_absolute_error: 0.4737 - val_acc: 0.7838\n",
      "Epoch 107/150\n",
      "240000/240000 [==============================] - 4s 17us/step - loss: 0.8249 - mean_absolute_error: 0.4721 - acc: 0.7540 - val_loss: 0.8364 - val_mean_absolute_error: 0.4736 - val_acc: 0.7822\n",
      "Epoch 108/150\n",
      "240000/240000 [==============================] - 4s 17us/step - loss: 0.8249 - mean_absolute_error: 0.4721 - acc: 0.7524 - val_loss: 0.8364 - val_mean_absolute_error: 0.4737 - val_acc: 0.7601\n",
      "Epoch 109/150\n",
      "240000/240000 [==============================] - 4s 17us/step - loss: 0.8249 - mean_absolute_error: 0.4721 - acc: 0.7552 - val_loss: 0.8364 - val_mean_absolute_error: 0.4736 - val_acc: 0.7900\n",
      "Epoch 110/150\n",
      "240000/240000 [==============================] - 4s 17us/step - loss: 0.8249 - mean_absolute_error: 0.4721 - acc: 0.7548 - val_loss: 0.8365 - val_mean_absolute_error: 0.4736 - val_acc: 0.7648\n",
      "Epoch 111/150\n",
      "240000/240000 [==============================] - 4s 17us/step - loss: 0.8249 - mean_absolute_error: 0.4721 - acc: 0.7526 - val_loss: 0.8364 - val_mean_absolute_error: 0.4737 - val_acc: 0.7684\n",
      "Epoch 112/150\n",
      "240000/240000 [==============================] - 4s 17us/step - loss: 0.8249 - mean_absolute_error: 0.4721 - acc: 0.7538 - val_loss: 0.8364 - val_mean_absolute_error: 0.4737 - val_acc: 0.6968\n",
      "Epoch 113/150\n",
      "240000/240000 [==============================] - 4s 17us/step - loss: 0.8249 - mean_absolute_error: 0.4721 - acc: 0.7521 - val_loss: 0.8364 - val_mean_absolute_error: 0.4736 - val_acc: 0.7661\n",
      "Epoch 114/150\n",
      "240000/240000 [==============================] - 4s 17us/step - loss: 0.8249 - mean_absolute_error: 0.4721 - acc: 0.7528 - val_loss: 0.8364 - val_mean_absolute_error: 0.4736 - val_acc: 0.7654\n",
      "Epoch 115/150\n",
      "240000/240000 [==============================] - 4s 17us/step - loss: 0.8249 - mean_absolute_error: 0.4720 - acc: 0.7524 - val_loss: 0.8364 - val_mean_absolute_error: 0.4736 - val_acc: 0.7685\n",
      "Epoch 116/150\n",
      "240000/240000 [==============================] - 4s 17us/step - loss: 0.8249 - mean_absolute_error: 0.4720 - acc: 0.7539 - val_loss: 0.8364 - val_mean_absolute_error: 0.4737 - val_acc: 0.7511\n",
      "Epoch 117/150\n",
      "240000/240000 [==============================] - 4s 16us/step - loss: 0.8249 - mean_absolute_error: 0.4721 - acc: 0.7537 - val_loss: 0.8364 - val_mean_absolute_error: 0.4736 - val_acc: 0.7795\n",
      "Epoch 118/150\n",
      "240000/240000 [==============================] - 4s 17us/step - loss: 0.8249 - mean_absolute_error: 0.4721 - acc: 0.7530 - val_loss: 0.8364 - val_mean_absolute_error: 0.4737 - val_acc: 0.7663\n",
      "Epoch 119/150\n",
      "240000/240000 [==============================] - 4s 18us/step - loss: 0.8249 - mean_absolute_error: 0.4721 - acc: 0.7547 - val_loss: 0.8364 - val_mean_absolute_error: 0.4737 - val_acc: 0.7767\n",
      "Epoch 120/150\n",
      "240000/240000 [==============================] - 4s 17us/step - loss: 0.8249 - mean_absolute_error: 0.4721 - acc: 0.7542 - val_loss: 0.8364 - val_mean_absolute_error: 0.4736 - val_acc: 0.6933\n"
     ]
    },
    {
     "name": "stdout",
     "output_type": "stream",
     "text": [
      "Epoch 121/150\n",
      "240000/240000 [==============================] - 4s 18us/step - loss: 0.8249 - mean_absolute_error: 0.4721 - acc: 0.7529 - val_loss: 0.8364 - val_mean_absolute_error: 0.4736 - val_acc: 0.7607\n",
      "Epoch 122/150\n",
      "240000/240000 [==============================] - 4s 18us/step - loss: 0.8249 - mean_absolute_error: 0.4721 - acc: 0.7533 - val_loss: 0.8364 - val_mean_absolute_error: 0.4737 - val_acc: 0.7687\n",
      "Epoch 123/150\n",
      "240000/240000 [==============================] - 4s 18us/step - loss: 0.8249 - mean_absolute_error: 0.4721 - acc: 0.7520 - val_loss: 0.8364 - val_mean_absolute_error: 0.4737 - val_acc: 0.7706\n",
      "Epoch 124/150\n",
      "240000/240000 [==============================] - 4s 17us/step - loss: 0.8249 - mean_absolute_error: 0.4721 - acc: 0.7540 - val_loss: 0.8364 - val_mean_absolute_error: 0.4737 - val_acc: 0.7789\n",
      "Epoch 125/150\n",
      "240000/240000 [==============================] - 4s 18us/step - loss: 0.8249 - mean_absolute_error: 0.4721 - acc: 0.7522 - val_loss: 0.8364 - val_mean_absolute_error: 0.4737 - val_acc: 0.7696\n",
      "Epoch 126/150\n",
      "240000/240000 [==============================] - 4s 18us/step - loss: 0.8249 - mean_absolute_error: 0.4721 - acc: 0.7537 - val_loss: 0.8364 - val_mean_absolute_error: 0.4737 - val_acc: 0.7787\n",
      "Epoch 127/150\n",
      "240000/240000 [==============================] - 4s 18us/step - loss: 0.8249 - mean_absolute_error: 0.4721 - acc: 0.7539 - val_loss: 0.8364 - val_mean_absolute_error: 0.4736 - val_acc: 0.7660\n",
      "Epoch 128/150\n",
      "240000/240000 [==============================] - 4s 17us/step - loss: 0.8249 - mean_absolute_error: 0.4721 - acc: 0.7530 - val_loss: 0.8364 - val_mean_absolute_error: 0.4736 - val_acc: 0.7866\n",
      "Epoch 129/150\n",
      "240000/240000 [==============================] - 4s 18us/step - loss: 0.8249 - mean_absolute_error: 0.4721 - acc: 0.7519 - val_loss: 0.8364 - val_mean_absolute_error: 0.4737 - val_acc: 0.6982\n",
      "Epoch 130/150\n",
      "240000/240000 [==============================] - 4s 18us/step - loss: 0.8249 - mean_absolute_error: 0.4721 - acc: 0.7531 - val_loss: 0.8364 - val_mean_absolute_error: 0.4736 - val_acc: 0.7831\n",
      "Epoch 131/150\n",
      "240000/240000 [==============================] - 4s 18us/step - loss: 0.8249 - mean_absolute_error: 0.4721 - acc: 0.7541 - val_loss: 0.8364 - val_mean_absolute_error: 0.4737 - val_acc: 0.7704\n",
      "Epoch 132/150\n",
      "240000/240000 [==============================] - 4s 17us/step - loss: 0.8249 - mean_absolute_error: 0.4721 - acc: 0.7536 - val_loss: 0.8364 - val_mean_absolute_error: 0.4737 - val_acc: 0.7657\n",
      "Epoch 133/150\n",
      "240000/240000 [==============================] - 4s 17us/step - loss: 0.8249 - mean_absolute_error: 0.4721 - acc: 0.7544 - val_loss: 0.8364 - val_mean_absolute_error: 0.4737 - val_acc: 0.7182\n",
      "Epoch 134/150\n",
      "240000/240000 [==============================] - 4s 18us/step - loss: 0.8249 - mean_absolute_error: 0.4721 - acc: 0.7527 - val_loss: 0.8364 - val_mean_absolute_error: 0.4736 - val_acc: 0.7885\n",
      "Epoch 135/150\n",
      "240000/240000 [==============================] - 4s 18us/step - loss: 0.8249 - mean_absolute_error: 0.4721 - acc: 0.7532 - val_loss: 0.8364 - val_mean_absolute_error: 0.4737 - val_acc: 0.7808\n",
      "Epoch 136/150\n",
      "240000/240000 [==============================] - 4s 17us/step - loss: 0.8249 - mean_absolute_error: 0.4721 - acc: 0.7534 - val_loss: 0.8364 - val_mean_absolute_error: 0.4736 - val_acc: 0.7351\n",
      "Epoch 137/150\n",
      "240000/240000 [==============================] - 4s 18us/step - loss: 0.8249 - mean_absolute_error: 0.4721 - acc: 0.7535 - val_loss: 0.8364 - val_mean_absolute_error: 0.4736 - val_acc: 0.6677\n",
      "Epoch 138/150\n",
      "240000/240000 [==============================] - 4s 17us/step - loss: 0.8249 - mean_absolute_error: 0.4721 - acc: 0.7526 - val_loss: 0.8364 - val_mean_absolute_error: 0.4736 - val_acc: 0.7696\n",
      "Epoch 139/150\n",
      "240000/240000 [==============================] - 4s 17us/step - loss: 0.8249 - mean_absolute_error: 0.4721 - acc: 0.7545 - val_loss: 0.8364 - val_mean_absolute_error: 0.4737 - val_acc: 0.7754\n",
      "Epoch 140/150\n",
      "240000/240000 [==============================] - 4s 18us/step - loss: 0.8249 - mean_absolute_error: 0.4721 - acc: 0.7533 - val_loss: 0.8364 - val_mean_absolute_error: 0.4736 - val_acc: 0.6699\n",
      "Epoch 141/150\n",
      "240000/240000 [==============================] - 4s 17us/step - loss: 0.8249 - mean_absolute_error: 0.4721 - acc: 0.7531 - val_loss: 0.8364 - val_mean_absolute_error: 0.4736 - val_acc: 0.7758\n",
      "Epoch 142/150\n",
      "240000/240000 [==============================] - 4s 18us/step - loss: 0.8249 - mean_absolute_error: 0.4721 - acc: 0.7530 - val_loss: 0.8364 - val_mean_absolute_error: 0.4737 - val_acc: 0.7766\n",
      "Epoch 143/150\n",
      "240000/240000 [==============================] - 4s 17us/step - loss: 0.8249 - mean_absolute_error: 0.4721 - acc: 0.7561 - val_loss: 0.8364 - val_mean_absolute_error: 0.4736 - val_acc: 0.7653\n",
      "Epoch 144/150\n",
      "240000/240000 [==============================] - 4s 17us/step - loss: 0.8249 - mean_absolute_error: 0.4721 - acc: 0.7540 - val_loss: 0.8364 - val_mean_absolute_error: 0.4737 - val_acc: 0.7678\n",
      "Epoch 145/150\n",
      "240000/240000 [==============================] - 4s 18us/step - loss: 0.8249 - mean_absolute_error: 0.4721 - acc: 0.7521 - val_loss: 0.8364 - val_mean_absolute_error: 0.4736 - val_acc: 0.7838\n",
      "Epoch 146/150\n",
      "240000/240000 [==============================] - 4s 18us/step - loss: 0.8249 - mean_absolute_error: 0.4721 - acc: 0.7543 - val_loss: 0.8364 - val_mean_absolute_error: 0.4737 - val_acc: 0.7576\n",
      "Epoch 147/150\n",
      "240000/240000 [==============================] - 4s 18us/step - loss: 0.8249 - mean_absolute_error: 0.4721 - acc: 0.7526 - val_loss: 0.8364 - val_mean_absolute_error: 0.4737 - val_acc: 0.7737\n",
      "Epoch 148/150\n",
      "240000/240000 [==============================] - 4s 17us/step - loss: 0.8249 - mean_absolute_error: 0.4721 - acc: 0.7535 - val_loss: 0.8364 - val_mean_absolute_error: 0.4736 - val_acc: 0.7700\n",
      "Epoch 149/150\n",
      "240000/240000 [==============================] - 4s 18us/step - loss: 0.8249 - mean_absolute_error: 0.4721 - acc: 0.7533 - val_loss: 0.8364 - val_mean_absolute_error: 0.4737 - val_acc: 0.7785\n",
      "Epoch 150/150\n",
      "240000/240000 [==============================] - 4s 18us/step - loss: 0.8249 - mean_absolute_error: 0.4721 - acc: 0.7535 - val_loss: 0.8364 - val_mean_absolute_error: 0.4736 - val_acc: 0.7888\n"
     ]
    }
   ],
   "source": [
    "batch_size = 64\n",
    "epochs = 150\n",
    "\n",
    "history = aenc.auto_encoder_fit(model, x_train, x_test, epochs, batch_size)"
   ]
  },
  {
   "cell_type": "code",
   "execution_count": 50,
   "metadata": {},
   "outputs": [
    {
     "name": "stdout",
     "output_type": "stream",
     "text": [
      "60000/60000 [==============================] - 1s 9us/step\n",
      "Test loss: 0.8363865770657857\n",
      "Test mean_absolute_error: 0.473570302995046\n",
      "Test acc: 0.7887833333333333\n"
     ]
    }
   ],
   "source": [
    "score = model.evaluate(x_test, x_test, verbose=1)\n",
    "\n",
    "for i, metric in enumerate(model.metrics_names):\n",
    "    print('Test ' + metric + ':', score[i])"
   ]
  },
  {
   "cell_type": "markdown",
   "metadata": {},
   "source": [
    "# Model Evaluation"
   ]
  },
  {
   "cell_type": "markdown",
   "metadata": {},
   "source": [
    "## Model Loss"
   ]
  },
  {
   "cell_type": "code",
   "execution_count": 51,
   "metadata": {},
   "outputs": [
    {
     "data": {
      "image/png": "[encoded data removed]",
      "text/plain": [
       "<Figure size 432x288 with 1 Axes>"
      ]
     },
     "metadata": {},
     "output_type": "display_data"
    }
   ],
   "source": [
    "sns.set(style='whitegrid', palette='muted', font_scale=1.0)\n",
    "\n",
    "plt.plot(history.history['loss'], linewidth=2, label='Train')\n",
    "plt.plot(history.history['val_loss'], linewidth=2, label='Validation')\n",
    "plt.legend(loc='upper right')\n",
    "plt.title('Model loss')\n",
    "plt.ylabel('Loss')\n",
    "plt.xlabel('Epoch')\n",
    "#plt.ylim(ymin=0.70,ymax=1)\n",
    "plt.show()"
   ]
  },
  {
   "cell_type": "markdown",
   "metadata": {},
   "source": [
    "## Reconstruction Error Check"
   ]
  },
  {
   "cell_type": "code",
   "execution_count": 52,
   "metadata": {},
   "outputs": [
    {
     "data": {
      "text/html": [
       "<div>\n",
       "<style scoped>\n",
       "    .dataframe tbody tr th:only-of-type {\n",
       "        vertical-align: middle;\n",
       "    }\n",
       "\n",
       "    .dataframe tbody tr th {\n",
       "        vertical-align: top;\n",
       "    }\n",
       "\n",
       "    .dataframe thead th {\n",
       "        text-align: right;\n",
       "    }\n",
       "</style>\n",
       "<table border=\"1\" class=\"dataframe\">\n",
       "  <thead>\n",
       "    <tr style=\"text-align: right;\">\n",
       "      <th></th>\n",
       "      <th>Reconstruction_error</th>\n",
       "      <th>True_class</th>\n",
       "    </tr>\n",
       "  </thead>\n",
       "  <tbody>\n",
       "    <tr>\n",
       "      <th>count</th>\n",
       "      <td>60000.000000</td>\n",
       "      <td>60000.000000</td>\n",
       "    </tr>\n",
       "    <tr>\n",
       "      <th>mean</th>\n",
       "      <td>0.836387</td>\n",
       "      <td>0.004683</td>\n",
       "    </tr>\n",
       "    <tr>\n",
       "      <th>std</th>\n",
       "      <td>4.087485</td>\n",
       "      <td>0.068275</td>\n",
       "    </tr>\n",
       "    <tr>\n",
       "      <th>min</th>\n",
       "      <td>0.112288</td>\n",
       "      <td>0.000000</td>\n",
       "    </tr>\n",
       "    <tr>\n",
       "      <th>25%</th>\n",
       "      <td>0.203110</td>\n",
       "      <td>0.000000</td>\n",
       "    </tr>\n",
       "    <tr>\n",
       "      <th>50%</th>\n",
       "      <td>0.318091</td>\n",
       "      <td>0.000000</td>\n",
       "    </tr>\n",
       "    <tr>\n",
       "      <th>75%</th>\n",
       "      <td>0.484904</td>\n",
       "      <td>0.000000</td>\n",
       "    </tr>\n",
       "    <tr>\n",
       "      <th>max</th>\n",
       "      <td>248.223977</td>\n",
       "      <td>1.000000</td>\n",
       "    </tr>\n",
       "  </tbody>\n",
       "</table>\n",
       "</div>"
      ],
      "text/plain": [
       "       Reconstruction_error    True_class\n",
       "count          60000.000000  60000.000000\n",
       "mean               0.836387      0.004683\n",
       "std                4.087485      0.068275\n",
       "min                0.112288      0.000000\n",
       "25%                0.203110      0.000000\n",
       "50%                0.318091      0.000000\n",
       "75%                0.484904      0.000000\n",
       "max              248.223977      1.000000"
      ]
     },
     "execution_count": 52,
     "metadata": {},
     "output_type": "execute_result"
    }
   ],
   "source": [
    "x_test_predictions = model.predict(x_test)\n",
    "mse = np.mean(np.power(x_test - x_test_predictions, 2), axis=1)\n",
    "error_df = pd.DataFrame({'Reconstruction_error': mse, 'True_class': y_test})\n",
    "error_df.describe()"
   ]
  },
  {
   "cell_type": "markdown",
   "metadata": {},
   "source": [
    "## ROC Curve Check"
   ]
  },
  {
   "cell_type": "markdown",
   "metadata": {},
   "source": [
    "Receiver operating characteristic curves are an expected output of most binary classifiers. Since we have an imbalanced data set they are somewhat less useful. Why? Because you can generate a pretty good-looking curve by just simply guessing everything is the normal case because there are so proportionally few cases of fraud. Without getting into detail, this is something called the Accuracy Paradox."
   ]
  },
  {
   "cell_type": "code",
   "execution_count": 53,
   "metadata": {},
   "outputs": [],
   "source": [
    "from sklearn.metrics import confusion_matrix, precision_recall_curve\n",
    "from sklearn.metrics import recall_score, classification_report, auc, roc_curve\n",
    "from sklearn.metrics import precision_recall_fscore_support, f1_score"
   ]
  },
  {
   "cell_type": "code",
   "execution_count": 54,
   "metadata": {},
   "outputs": [
    {
     "data": {
      "image/png": "[encoded data removed]",
      "text/plain": [
       "<Figure size 432x288 with 1 Axes>"
      ]
     },
     "metadata": {},
     "output_type": "display_data"
    }
   ],
   "source": [
    "fpr, tpr, thresholds = roc_curve(error_df.True_class, error_df.Reconstruction_error)\n",
    "roc_auc = auc(fpr, tpr)\n",
    "\n",
    "plt.plot(fpr, tpr, linewidth=2, label='AUC = %0.3f'% roc_auc)\n",
    "plt.plot([0,1],[0,1], linewidth=2)\n",
    "\n",
    "plt.xlim([-0.01, 1])\n",
    "plt.ylim([0, 1.01])\n",
    "plt.legend(loc='lower right')\n",
    "plt.title('Receiver operating characteristic curve (ROC)')\n",
    "plt.ylabel('True Positive Rate')\n",
    "plt.xlabel('False Positive Rate')\n",
    "plt.show()"
   ]
  },
  {
   "cell_type": "markdown",
   "metadata": {},
   "source": [
    "## Recall vs. Precision Thresholding"
   ]
  },
  {
   "cell_type": "markdown",
   "metadata": {},
   "source": [
    "Precision and recall are the eternal tradeoff in data science, so at some point you have to draw an arbitrary line, or a threshold. Where this line will be drawn is essentially a business decision. In this case, you are trading off the cost between missing a fraudulent transaction and the cost of falsely flagging the transaction as a fraudulent even when it is not. Add those two weights to the calculation and you can come up with some theoretical optimal solution. This is rarely the way it is done in practice, however, as it is hard to quantify a lot of those costs (such as customer annoyance at getting fraud alerts too frequently), or because of various structural, technical, or business rules preventing the optimized solution from being chosen."
   ]
  },
  {
   "cell_type": "code",
   "execution_count": 55,
   "metadata": {},
   "outputs": [
    {
     "data": {
      "image/png": "[encoded data removed]",
      "text/plain": [
       "<Figure size 432x288 with 1 Axes>"
      ]
     },
     "metadata": {},
     "output_type": "display_data"
    }
   ],
   "source": [
    "precision_rt, recall_rt, threshold_rt = precision_recall_curve(error_df.True_class, error_df.Reconstruction_error)\n",
    "\n",
    "plt.plot(recall_rt, precision_rt, linewidth=2, label='Precision-Recall curve')\n",
    "plt.title('Recall vs Precision')\n",
    "plt.xlabel('Recall')\n",
    "plt.ylabel('Precision')\n",
    "plt.show()"
   ]
  },
  {
   "cell_type": "code",
   "execution_count": 56,
   "metadata": {},
   "outputs": [
    {
     "data": {
      "image/png": "[encoded data removed]",
      "text/plain": [
       "<Figure size 432x288 with 1 Axes>"
      ]
     },
     "metadata": {},
     "output_type": "display_data"
    }
   ],
   "source": [
    "plt.plot(threshold_rt, precision_rt[1:], label=\"Precision\",linewidth=2)\n",
    "plt.plot(threshold_rt, recall_rt[1:], label=\"Recall\",linewidth=2)\n",
    "plt.title('Precision and recall for different threshold values')\n",
    "plt.xlabel('Threshold')\n",
    "plt.ylabel('Precision/Recall')\n",
    "plt.legend()\n",
    "plt.show()"
   ]
  },
  {
   "cell_type": "markdown",
   "metadata": {},
   "source": [
    "## Balance of Data Visualization"
   ]
  },
  {
   "cell_type": "code",
   "execution_count": 57,
   "metadata": {},
   "outputs": [],
   "source": [
    "#x_val, y_val, encoder = du.build_normal_anomaly_balanced_sample_df(reduced_df, 40000, exclude)"
   ]
  },
  {
   "cell_type": "code",
   "execution_count": 58,
   "metadata": {},
   "outputs": [],
   "source": [
    "#y_pred = model.predict(x_val)"
   ]
  },
  {
   "cell_type": "code",
   "execution_count": 59,
   "metadata": {},
   "outputs": [],
   "source": [
    "#x_val.shape, y_pred.shape"
   ]
  },
  {
   "cell_type": "code",
   "execution_count": 60,
   "metadata": {},
   "outputs": [],
   "source": [
    "y_pred = model.predict(x_test)"
   ]
  },
  {
   "cell_type": "code",
   "execution_count": 61,
   "metadata": {},
   "outputs": [
    {
     "data": {
      "text/plain": [
       "(60000, 10)"
      ]
     },
     "execution_count": 61,
     "metadata": {},
     "output_type": "execute_result"
    }
   ],
   "source": [
    "y_pred.shape"
   ]
  },
  {
   "cell_type": "code",
   "execution_count": 62,
   "metadata": {},
   "outputs": [
    {
     "data": {
      "image/png": "[encoded data removed]",
      "text/plain": [
       "<Figure size 432x288 with 1 Axes>"
      ]
     },
     "metadata": {},
     "output_type": "display_data"
    }
   ],
   "source": [
    "#if you don't have an intuitive sense of how imbalanced these two classes are, let's go visual\n",
    "LABELS = [\"Normal\",\"Anomaly\"]\n",
    "\n",
    "count_classes = pd.value_counts(y_test, sort = True)\n",
    "count_classes.plot(kind = 'bar', rot=0)\n",
    "plt.xticks(range(2), LABELS)\n",
    "plt.title(\"Frequency by observation number\")\n",
    "plt.xlabel(\"Class\")\n",
    "plt.ylabel(\"Number of Observations\");"
   ]
  },
  {
   "cell_type": "code",
   "execution_count": 63,
   "metadata": {},
   "outputs": [
    {
     "name": "stderr",
     "output_type": "stream",
     "text": [
      "/home/administrator/anaconda3/envs/masterthesis/lib/python3.7/site-packages/sklearn/metrics/_classification.py:1268: UndefinedMetricWarning: Precision and F-score are ill-defined and being set to 0.0 in labels with no predicted samples. Use `zero_division` parameter to control this behavior.\n",
      "  _warn_prf(average, modifier, msg_start, len(result))\n"
     ]
    },
    {
     "name": "stdout",
     "output_type": "stream",
     "text": [
      "threshold: 9.499999999999982\n",
      "F1-Score: 0.7357237715803453\n",
      "Precision: 0.586864406779661\n",
      "Recall: 0.9857651245551602\n",
      "Support: 281\n",
      "Accuracy: 0.9966833333333334\n"
     ]
    }
   ],
   "source": [
    "#thres, f1_max, p, r, sup, acc = aenc.calc_metrics(x_val, y_val, y_pred)\n",
    "thres, f1_max, p, r, sup, acc = aenc.calc_metrics(x_test, y_test, y_pred)\n",
    "\n",
    "print(\"threshold: {}\".format(thres))\n",
    "print(\"F1-Score: {}\".format(f1_max))\n",
    "print(\"Precision: {}\".format(p))\n",
    "print(\"Recall: {}\".format(r))\n",
    "print(\"Support: {}\".format(sup))\n",
    "print(\"Accuracy: {}\".format(acc))"
   ]
  },
  {
   "cell_type": "code",
   "execution_count": 64,
   "metadata": {},
   "outputs": [],
   "source": [
    "y_class, errors = aenc.classify(x_test, y_pred, thres)\n",
    "#y_class, errors = aenc.classify(x_val, y_pred, thres)"
   ]
  },
  {
   "cell_type": "code",
   "execution_count": 65,
   "metadata": {},
   "outputs": [
    {
     "data": {
      "text/plain": [
       "0.991249916051086"
      ]
     },
     "execution_count": 65,
     "metadata": {},
     "output_type": "execute_result"
    }
   ],
   "source": [
    "roc_auc_score(y_test, y_class)"
   ]
  },
  {
   "cell_type": "markdown",
   "metadata": {},
   "source": [
    "## Confusion Matrix"
   ]
  },
  {
   "cell_type": "code",
   "execution_count": 66,
   "metadata": {},
   "outputs": [
    {
     "data": {
      "image/png": "[encoded data removed]",
      "text/plain": [
       "<Figure size 720x576 with 2 Axes>"
      ]
     },
     "metadata": {},
     "output_type": "display_data"
    }
   ],
   "source": [
    "viz = vis.Visualization()\n",
    "\n",
    "viz.draw_confusion_matrix(y_test, y_class)\n",
    "#viz.draw_confusion_matrix(y_val, y_class)"
   ]
  },
  {
   "cell_type": "markdown",
   "metadata": {},
   "source": [
    "## Reconstruction Error vs Threshold Check"
   ]
  },
  {
   "cell_type": "code",
   "execution_count": 67,
   "metadata": {
    "scrolled": false
   },
   "outputs": [
    {
     "data": {
      "image/png": "[encoded data removed]",
      "text/plain": [
       "<Figure size 864x576 with 1 Axes>"
      ]
     },
     "metadata": {},
     "output_type": "display_data"
    }
   ],
   "source": [
    "viz.draw_anomaly(y_test, errors, thres)\n",
    "#viz.draw_anomaly(y_val, errors, thres)"
   ]
  },
  {
   "cell_type": "code",
   "execution_count": 29,
   "metadata": {},
   "outputs": [
    {
     "data": {
      "text/plain": [
       "['./../../shared/models/autoencoder/sparse_autoencoder_encoder_all.pkl']"
      ]
     },
     "execution_count": 29,
     "metadata": {},
     "output_type": "execute_result"
    }
   ],
   "source": [
    "path_model = './../../shared/models/autoencoder/sparse_autoencoder_model.hdf5'\n",
    "path_enc = './../../shared/models/autoencoder/sparse_autoencoder_encoder_all.pkl'\n",
    "\n",
    "model.save(path_model)\n",
    "joblib.dump(encoder, path_enc)"
   ]
  },
  {
   "cell_type": "code",
   "execution_count": null,
   "metadata": {},
   "outputs": [],
   "source": []
  }
 ],
 "metadata": {
  "kernelspec": {
   "display_name": "Python 3",
   "language": "python",
   "name": "python3"
  },
  "language_info": {
   "codemirror_mode": {
    "name": "ipython",
    "version": 3
   },
   "file_extension": ".py",
   "mimetype": "text/x-python",
   "name": "python",
   "nbconvert_exporter": "python",
   "pygments_lexer": "ipython3",
   "version": "3.7.5"
  }
 },
 "nbformat": 4,
 "nbformat_minor": 2
}
