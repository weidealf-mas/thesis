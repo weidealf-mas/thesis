{
 "cells": [
  {
   "cell_type": "code",
   "execution_count": 1,
   "metadata": {
    "scrolled": true
   },
   "outputs": [
    {
     "name": "stderr",
     "output_type": "stream",
     "text": [
      "Using TensorFlow backend.\n",
      "/home/administrator/anaconda3/envs/masterthesis/lib/python3.7/site-packages/tensorflow/python/framework/dtypes.py:526: FutureWarning: Passing (type, 1) or '1type' as a synonym of type is deprecated; in a future version of numpy, it will be understood as (type, (1,)) / '(1,)type'.\n",
      "  _np_qint8 = np.dtype([(\"qint8\", np.int8, 1)])\n",
      "/home/administrator/anaconda3/envs/masterthesis/lib/python3.7/site-packages/tensorflow/python/framework/dtypes.py:527: FutureWarning: Passing (type, 1) or '1type' as a synonym of type is deprecated; in a future version of numpy, it will be understood as (type, (1,)) / '(1,)type'.\n",
      "  _np_quint8 = np.dtype([(\"quint8\", np.uint8, 1)])\n",
      "/home/administrator/anaconda3/envs/masterthesis/lib/python3.7/site-packages/tensorflow/python/framework/dtypes.py:528: FutureWarning: Passing (type, 1) or '1type' as a synonym of type is deprecated; in a future version of numpy, it will be understood as (type, (1,)) / '(1,)type'.\n",
      "  _np_qint16 = np.dtype([(\"qint16\", np.int16, 1)])\n",
      "/home/administrator/anaconda3/envs/masterthesis/lib/python3.7/site-packages/tensorflow/python/framework/dtypes.py:529: FutureWarning: Passing (type, 1) or '1type' as a synonym of type is deprecated; in a future version of numpy, it will be understood as (type, (1,)) / '(1,)type'.\n",
      "  _np_quint16 = np.dtype([(\"quint16\", np.uint16, 1)])\n",
      "/home/administrator/anaconda3/envs/masterthesis/lib/python3.7/site-packages/tensorflow/python/framework/dtypes.py:530: FutureWarning: Passing (type, 1) or '1type' as a synonym of type is deprecated; in a future version of numpy, it will be understood as (type, (1,)) / '(1,)type'.\n",
      "  _np_qint32 = np.dtype([(\"qint32\", np.int32, 1)])\n",
      "/home/administrator/anaconda3/envs/masterthesis/lib/python3.7/site-packages/tensorflow/python/framework/dtypes.py:535: FutureWarning: Passing (type, 1) or '1type' as a synonym of type is deprecated; in a future version of numpy, it will be understood as (type, (1,)) / '(1,)type'.\n",
      "  np_resource = np.dtype([(\"resource\", np.ubyte, 1)])\n"
     ]
    }
   ],
   "source": [
    "import sys\n",
    "sys.path.append('../../ml_utils')\n",
    "\n",
    "import config as cfg\n",
    "import data_utils as du\n",
    "import autoencoder as aenc\n",
    "import timeit\n",
    "\n",
    "import keras\n",
    "from keras import regularizers\n",
    "\n",
    "import sklearn\n",
    "from sklearn.model_selection import train_test_split\n",
    "\n",
    "import pandas as pd\n",
    "import numpy as np\n",
    "\n",
    "import os\n",
    "os.environ['CUDA_VISIBLE_DEVICES']='-1'"
   ]
  },
  {
   "cell_type": "code",
   "execution_count": 2,
   "metadata": {},
   "outputs": [
    {
     "name": "stdout",
     "output_type": "stream",
     "text": [
      "Python:  3.7.5 (default, Oct 25 2019, 15:51:11) \n",
      "[GCC 7.3.0]\n",
      "pandas:  0.25.3\n",
      "numpy:  1.17.4\n",
      "Keras:  2.2.4\n"
     ]
    }
   ],
   "source": [
    "print(\"Python: \", sys.version)\n",
    "print(\"pandas: \", pd.__version__)\n",
    "print(\"numpy: \", np.__version__)\n",
    "print(\"Keras: \", keras.__version__)"
   ]
  },
  {
   "cell_type": "markdown",
   "metadata": {},
   "source": [
    "### Load and clean the data"
   ]
  },
  {
   "cell_type": "code",
   "execution_count": 3,
   "metadata": {},
   "outputs": [
    {
     "name": "stdout",
     "output_type": "stream",
     "text": [
      "Original data frame size: (12417597, 31)\n",
      "\n",
      "Time: 40.427318611000004 seconds\n",
      "\n"
     ]
    }
   ],
   "source": [
    "log_data = './../../shared/data/swissid_authorize_logs_april_to_sept_2019.csv'\n",
    "\n",
    "start = timeit.default_timer()\n",
    "df = pd.read_csv(filepath_or_buffer=log_data, header=0, sep='\\t', names=cfg.complete_feature_list, index_col=None)\n",
    "stop = timeit.default_timer()\n",
    "\n",
    "print(\"Original data frame size: {}\\n\".format(df.shape))\n",
    "print(\"Time: {} seconds\\n\".format(stop - start))"
   ]
  },
  {
   "cell_type": "code",
   "execution_count": 4,
   "metadata": {},
   "outputs": [
    {
     "name": "stdout",
     "output_type": "stream",
     "text": [
      "columns with NaN: loc_country_code\n",
      "loc_country_code is fixed\n"
     ]
    }
   ],
   "source": [
    "df = du.clean_data(df)"
   ]
  },
  {
   "cell_type": "code",
   "execution_count": 5,
   "metadata": {},
   "outputs": [],
   "source": [
    "features = ['label_nr', 'src_software_sub_type', 'src_operating_system_name', 'src_hardware_type', 'response_status_code', \n",
    "            'oidc_client_id', 'oidc_scopes', 'oidc_ui_locales', 'loc_city', 'loc_country_code', 'date_weekday']\n",
    "\n",
    "excludes = list(set(df.columns.tolist()) - set(features))"
   ]
  },
  {
   "cell_type": "code",
   "execution_count": 6,
   "metadata": {},
   "outputs": [
    {
     "name": "stdout",
     "output_type": "stream",
     "text": [
      "reduced data frame size: (12204748, 11)\n",
      "\n"
     ]
    }
   ],
   "source": [
    "reduced_df = du.reduce_features(df, excludes)\n",
    "\n",
    "print(\"reduced data frame size: {}\\n\".format(reduced_df.shape))\n",
    "#display(reduced_df)"
   ]
  },
  {
   "cell_type": "code",
   "execution_count": 7,
   "metadata": {},
   "outputs": [
    {
     "name": "stdout",
     "output_type": "stream",
     "text": [
      "2    7412813\n",
      "0    4769169\n",
      "1      22766\n",
      "Name: label_nr, dtype: int64\n"
     ]
    }
   ],
   "source": [
    "print(reduced_df['label_nr'].value_counts())"
   ]
  },
  {
   "cell_type": "code",
   "execution_count": 8,
   "metadata": {},
   "outputs": [],
   "source": [
    "def create_model(optimizer='adam', activation='relu'):\n",
    "    \n",
    "    model = aenc.create_deep_auto_encoder(10, 8, 4, 2, activation)\n",
    "    model.compile(optimizer=optimizer, loss='mean_squared_error', metrics=['mae', 'accuracy'])\n",
    "\n",
    "    return model"
   ]
  },
  {
   "cell_type": "code",
   "execution_count": 9,
   "metadata": {},
   "outputs": [],
   "source": [
    "np.random.seed(7)\n",
    "\n",
    "sample_size= 200000\n",
    "exclude = ['label_nr']\n",
    "\n",
    "# load dataset\n",
    "X_df, y_df, anomaly_rate, encoder = du.build_normal_anomaly_sample_df(reduced_df, sample_size, exclude, True, True, False, True)\n",
    "x_train, x_test, y_train, y_test = train_test_split(X_df, y_df, test_size=0.2, random_state=42)"
   ]
  },
  {
   "cell_type": "code",
   "execution_count": 10,
   "metadata": {},
   "outputs": [
    {
     "name": "stdout",
     "output_type": "stream",
     "text": [
      "WARNING:tensorflow:From /home/administrator/anaconda3/envs/masterthesis/lib/python3.7/site-packages/tensorflow/python/framework/op_def_library.py:263: colocate_with (from tensorflow.python.framework.ops) is deprecated and will be removed in a future version.\n",
      "Instructions for updating:\n",
      "Colocations handled automatically by placer.\n",
      "WARNING:tensorflow:From /home/administrator/anaconda3/envs/masterthesis/lib/python3.7/site-packages/tensorflow/python/ops/math_ops.py:3066: to_int32 (from tensorflow.python.ops.math_ops) is deprecated and will be removed in a future version.\n",
      "Instructions for updating:\n",
      "Use tf.cast instead.\n",
      "Epoch 1/100\n",
      " - 4s - loss: 0.9188 - mean_absolute_error: 0.5131 - acc: 0.3748\n",
      "Epoch 2/100\n",
      " - 4s - loss: 0.8696 - mean_absolute_error: 0.4887 - acc: 0.6283\n",
      "Epoch 3/100\n",
      " - 4s - loss: 0.8635 - mean_absolute_error: 0.4862 - acc: 0.6635\n",
      "Epoch 4/100\n",
      " - 4s - loss: 0.8589 - mean_absolute_error: 0.4842 - acc: 0.6919\n",
      "Epoch 5/100\n",
      " - 4s - loss: 0.8566 - mean_absolute_error: 0.4830 - acc: 0.7067\n",
      "Epoch 6/100\n",
      " - 4s - loss: 0.8555 - mean_absolute_error: 0.4825 - acc: 0.7199\n",
      "Epoch 7/100\n",
      " - 4s - loss: 0.8542 - mean_absolute_error: 0.4817 - acc: 0.7238\n",
      "Epoch 8/100\n",
      " - 4s - loss: 0.8538 - mean_absolute_error: 0.4814 - acc: 0.7229\n",
      "Epoch 9/100\n",
      " - 4s - loss: 0.8537 - mean_absolute_error: 0.4813 - acc: 0.7170\n",
      "Epoch 10/100\n",
      " - 4s - loss: 0.8536 - mean_absolute_error: 0.4813 - acc: 0.7165\n",
      "Epoch 11/100\n",
      " - 4s - loss: 0.8532 - mean_absolute_error: 0.4813 - acc: 0.7173\n",
      "Epoch 12/100\n",
      " - 4s - loss: 0.8515 - mean_absolute_error: 0.4815 - acc: 0.7139\n",
      "Epoch 13/100\n",
      " - 4s - loss: 0.8507 - mean_absolute_error: 0.4814 - acc: 0.7139\n",
      "Epoch 14/100\n",
      " - 4s - loss: 0.8505 - mean_absolute_error: 0.4812 - acc: 0.7088\n",
      "Epoch 15/100\n",
      " - 4s - loss: 0.8503 - mean_absolute_error: 0.4811 - acc: 0.7036\n",
      "Epoch 16/100\n",
      " - 4s - loss: 0.8489 - mean_absolute_error: 0.4807 - acc: 0.7342\n",
      "Epoch 17/100\n",
      " - 4s - loss: 0.8422 - mean_absolute_error: 0.4762 - acc: 0.7825\n",
      "Epoch 18/100\n",
      " - 4s - loss: 0.8412 - mean_absolute_error: 0.4754 - acc: 0.7877\n",
      "Epoch 19/100\n",
      " - 4s - loss: 0.8409 - mean_absolute_error: 0.4752 - acc: 0.7988\n",
      "Epoch 20/100\n",
      " - 4s - loss: 0.8377 - mean_absolute_error: 0.4750 - acc: 0.8009\n",
      "Epoch 21/100\n",
      " - 4s - loss: 0.8365 - mean_absolute_error: 0.4748 - acc: 0.8029\n",
      "Epoch 22/100\n",
      " - 4s - loss: 0.8361 - mean_absolute_error: 0.4747 - acc: 0.7994\n",
      "Epoch 23/100\n",
      " - 4s - loss: 0.8359 - mean_absolute_error: 0.4747 - acc: 0.7954\n",
      "Epoch 24/100\n",
      " - 4s - loss: 0.8357 - mean_absolute_error: 0.4746 - acc: 0.7916\n",
      "Epoch 25/100\n",
      " - 4s - loss: 0.8356 - mean_absolute_error: 0.4746 - acc: 0.7914\n",
      "Epoch 26/100\n",
      " - 4s - loss: 0.8355 - mean_absolute_error: 0.4746 - acc: 0.7954\n",
      "Epoch 27/100\n",
      " - 4s - loss: 0.8355 - mean_absolute_error: 0.4746 - acc: 0.7929\n",
      "Epoch 28/100\n",
      " - 4s - loss: 0.8353 - mean_absolute_error: 0.4745 - acc: 0.7958\n",
      "Epoch 29/100\n",
      " - 4s - loss: 0.8352 - mean_absolute_error: 0.4745 - acc: 0.7947\n",
      "Epoch 30/100\n",
      " - 4s - loss: 0.8351 - mean_absolute_error: 0.4744 - acc: 0.7944\n",
      "Epoch 31/100\n",
      " - 4s - loss: 0.8350 - mean_absolute_error: 0.4744 - acc: 0.7971\n",
      "Epoch 32/100\n",
      " - 4s - loss: 0.8350 - mean_absolute_error: 0.4743 - acc: 0.7967\n",
      "Epoch 33/100\n",
      " - 4s - loss: 0.8350 - mean_absolute_error: 0.4743 - acc: 0.7979\n",
      "Epoch 34/100\n",
      " - 4s - loss: 0.8349 - mean_absolute_error: 0.4743 - acc: 0.7978\n",
      "Epoch 35/100\n",
      " - 4s - loss: 0.8349 - mean_absolute_error: 0.4743 - acc: 0.7966\n",
      "Epoch 36/100\n",
      " - 4s - loss: 0.8349 - mean_absolute_error: 0.4743 - acc: 0.8024\n",
      "Epoch 37/100\n",
      " - 4s - loss: 0.8349 - mean_absolute_error: 0.4743 - acc: 0.8020\n",
      "Epoch 38/100\n",
      " - 4s - loss: 0.8349 - mean_absolute_error: 0.4742 - acc: 0.7992\n",
      "Epoch 39/100\n",
      " - 4s - loss: 0.8349 - mean_absolute_error: 0.4742 - acc: 0.8001\n",
      "Epoch 40/100\n",
      " - 4s - loss: 0.8348 - mean_absolute_error: 0.4742 - acc: 0.7985\n",
      "Epoch 41/100\n",
      " - 4s - loss: 0.8348 - mean_absolute_error: 0.4741 - acc: 0.8015\n",
      "Epoch 42/100\n",
      " - 4s - loss: 0.8348 - mean_absolute_error: 0.4741 - acc: 0.8010\n",
      "Epoch 43/100\n",
      " - 4s - loss: 0.8348 - mean_absolute_error: 0.4741 - acc: 0.8014\n",
      "Epoch 44/100\n",
      " - 4s - loss: 0.8346 - mean_absolute_error: 0.4737 - acc: 0.8000\n",
      "Epoch 45/100\n",
      " - 4s - loss: 0.8346 - mean_absolute_error: 0.4735 - acc: 0.8023\n",
      "Epoch 46/100\n",
      " - 4s - loss: 0.8345 - mean_absolute_error: 0.4735 - acc: 0.8018\n",
      "Epoch 47/100\n",
      " - 4s - loss: 0.8345 - mean_absolute_error: 0.4735 - acc: 0.8024\n",
      "Epoch 48/100\n",
      " - 4s - loss: 0.8345 - mean_absolute_error: 0.4735 - acc: 0.8021\n",
      "Epoch 49/100\n",
      " - 4s - loss: 0.8345 - mean_absolute_error: 0.4735 - acc: 0.8007\n",
      "Epoch 50/100\n",
      " - 4s - loss: 0.8342 - mean_absolute_error: 0.4734 - acc: 0.8006\n",
      "Epoch 51/100\n",
      " - 4s - loss: 0.8341 - mean_absolute_error: 0.4734 - acc: 0.8030\n",
      "Epoch 52/100\n",
      " - 4s - loss: 0.8341 - mean_absolute_error: 0.4733 - acc: 0.8037\n",
      "Epoch 53/100\n",
      " - 4s - loss: 0.8341 - mean_absolute_error: 0.4733 - acc: 0.8042\n",
      "Epoch 54/100\n",
      " - 4s - loss: 0.8340 - mean_absolute_error: 0.4729 - acc: 0.8027\n",
      "Epoch 55/100\n",
      " - 4s - loss: 0.8340 - mean_absolute_error: 0.4728 - acc: 0.8010\n",
      "Epoch 56/100\n",
      " - 4s - loss: 0.8339 - mean_absolute_error: 0.4728 - acc: 0.8063\n",
      "Epoch 57/100\n",
      " - 4s - loss: 0.8339 - mean_absolute_error: 0.4727 - acc: 0.8082\n",
      "Epoch 58/100\n",
      " - 4s - loss: 0.8339 - mean_absolute_error: 0.4727 - acc: 0.8067\n",
      "Epoch 59/100\n",
      " - 4s - loss: 0.8339 - mean_absolute_error: 0.4727 - acc: 0.8087\n",
      "Epoch 60/100\n",
      " - 4s - loss: 0.8338 - mean_absolute_error: 0.4726 - acc: 0.8075\n",
      "Epoch 61/100\n",
      " - 4s - loss: 0.8338 - mean_absolute_error: 0.4726 - acc: 0.8054\n",
      "Epoch 62/100\n",
      " - 4s - loss: 0.8338 - mean_absolute_error: 0.4725 - acc: 0.8105\n",
      "Epoch 63/100\n",
      " - 4s - loss: 0.8337 - mean_absolute_error: 0.4724 - acc: 0.8073\n",
      "Epoch 64/100\n",
      " - 4s - loss: 0.8337 - mean_absolute_error: 0.4724 - acc: 0.8074\n",
      "Epoch 65/100\n",
      " - 4s - loss: 0.8337 - mean_absolute_error: 0.4724 - acc: 0.8100\n",
      "Epoch 66/100\n",
      " - 4s - loss: 0.8337 - mean_absolute_error: 0.4724 - acc: 0.8087\n",
      "Epoch 67/100\n",
      " - 4s - loss: 0.8337 - mean_absolute_error: 0.4724 - acc: 0.8067\n",
      "Epoch 68/100\n",
      " - 4s - loss: 0.8337 - mean_absolute_error: 0.4724 - acc: 0.8093\n",
      "Epoch 69/100\n",
      " - 4s - loss: 0.8337 - mean_absolute_error: 0.4723 - acc: 0.8113\n",
      "Epoch 70/100\n",
      " - 4s - loss: 0.8337 - mean_absolute_error: 0.4724 - acc: 0.8123\n",
      "Epoch 71/100\n",
      " - 4s - loss: 0.8336 - mean_absolute_error: 0.4723 - acc: 0.8075\n",
      "Epoch 72/100\n",
      " - 4s - loss: 0.8336 - mean_absolute_error: 0.4724 - acc: 0.8110\n",
      "Epoch 73/100\n",
      " - 4s - loss: 0.8336 - mean_absolute_error: 0.4724 - acc: 0.8134\n",
      "Epoch 74/100\n",
      " - 4s - loss: 0.8336 - mean_absolute_error: 0.4723 - acc: 0.8126\n",
      "Epoch 75/100\n",
      " - 4s - loss: 0.8336 - mean_absolute_error: 0.4723 - acc: 0.8162\n",
      "Epoch 76/100\n",
      " - 4s - loss: 0.8336 - mean_absolute_error: 0.4723 - acc: 0.8149\n",
      "Epoch 77/100\n",
      " - 4s - loss: 0.8336 - mean_absolute_error: 0.4723 - acc: 0.8158\n",
      "Epoch 78/100\n",
      " - 4s - loss: 0.8336 - mean_absolute_error: 0.4723 - acc: 0.8152\n",
      "Epoch 79/100\n",
      " - 4s - loss: 0.8336 - mean_absolute_error: 0.4723 - acc: 0.8180\n",
      "Epoch 80/100\n",
      " - 4s - loss: 0.8336 - mean_absolute_error: 0.4723 - acc: 0.8063\n",
      "Epoch 81/100\n",
      " - 4s - loss: 0.8336 - mean_absolute_error: 0.4723 - acc: 0.7982\n",
      "Epoch 82/100\n",
      " - 4s - loss: 0.8336 - mean_absolute_error: 0.4723 - acc: 0.8006\n",
      "Epoch 83/100\n",
      " - 4s - loss: 0.8336 - mean_absolute_error: 0.4723 - acc: 0.7981\n",
      "Epoch 84/100\n",
      " - 4s - loss: 0.8336 - mean_absolute_error: 0.4723 - acc: 0.7947\n",
      "Epoch 85/100\n",
      " - 4s - loss: 0.8335 - mean_absolute_error: 0.4724 - acc: 0.7912\n",
      "Epoch 86/100\n",
      " - 4s - loss: 0.8334 - mean_absolute_error: 0.4723 - acc: 0.7944\n",
      "Epoch 87/100\n",
      " - 4s - loss: 0.8333 - mean_absolute_error: 0.4722 - acc: 0.7953\n",
      "Epoch 88/100\n",
      " - 4s - loss: 0.8331 - mean_absolute_error: 0.4721 - acc: 0.7950\n",
      "Epoch 89/100\n",
      " - 4s - loss: 0.8331 - mean_absolute_error: 0.4722 - acc: 0.7964\n",
      "Epoch 90/100\n",
      " - 4s - loss: 0.8331 - mean_absolute_error: 0.4722 - acc: 0.7974\n",
      "Epoch 91/100\n",
      " - 4s - loss: 0.8330 - mean_absolute_error: 0.4722 - acc: 0.7940\n",
      "Epoch 92/100\n",
      " - 4s - loss: 0.8331 - mean_absolute_error: 0.4722 - acc: 0.7935\n",
      "Epoch 93/100\n",
      " - 4s - loss: 0.8330 - mean_absolute_error: 0.4722 - acc: 0.7913\n",
      "Epoch 94/100\n",
      " - 4s - loss: 0.8330 - mean_absolute_error: 0.4721 - acc: 0.7917\n",
      "Epoch 95/100\n",
      " - 4s - loss: 0.8330 - mean_absolute_error: 0.4722 - acc: 0.7894\n",
      "Epoch 96/100\n",
      " - 4s - loss: 0.8330 - mean_absolute_error: 0.4722 - acc: 0.7863\n",
      "Epoch 97/100\n",
      " - 4s - loss: 0.8330 - mean_absolute_error: 0.4721 - acc: 0.7874\n",
      "Epoch 98/100\n",
      " - 4s - loss: 0.8330 - mean_absolute_error: 0.4721 - acc: 0.7888\n"
     ]
    },
    {
     "name": "stdout",
     "output_type": "stream",
     "text": [
      "Epoch 99/100\n",
      " - 4s - loss: 0.8330 - mean_absolute_error: 0.4721 - acc: 0.7878\n",
      "Epoch 100/100\n",
      " - 4s - loss: 0.8330 - mean_absolute_error: 0.4721 - acc: 0.7852\n",
      "Time: 53.174567831900006 minutes\n",
      "\n",
      "Best: 0.568006 using {'batch_size': 64, 'epochs': 100, 'optimizer': 'Adadelta'}\n",
      "0.310893 (0.171404) with: {'batch_size': 32, 'epochs': 50, 'optimizer': 'RMSprop'}\n",
      "0.421069 (0.086142) with: {'batch_size': 32, 'epochs': 50, 'optimizer': 'Adadelta'}\n",
      "0.499713 (0.058051) with: {'batch_size': 32, 'epochs': 50, 'optimizer': 'Adam'}\n",
      "0.362712 (0.068582) with: {'batch_size': 32, 'epochs': 50, 'optimizer': 'Adamax'}\n",
      "0.485175 (0.122338) with: {'batch_size': 32, 'epochs': 100, 'optimizer': 'RMSprop'}\n",
      "0.469850 (0.059720) with: {'batch_size': 32, 'epochs': 100, 'optimizer': 'Adadelta'}\n",
      "0.257080 (0.188709) with: {'batch_size': 32, 'epochs': 100, 'optimizer': 'Adam'}\n",
      "0.445487 (0.045455) with: {'batch_size': 32, 'epochs': 100, 'optimizer': 'Adamax'}\n",
      "0.566519 (0.029511) with: {'batch_size': 32, 'epochs': 150, 'optimizer': 'RMSprop'}\n",
      "0.511193 (0.091121) with: {'batch_size': 32, 'epochs': 150, 'optimizer': 'Adadelta'}\n",
      "0.505431 (0.106456) with: {'batch_size': 32, 'epochs': 150, 'optimizer': 'Adam'}\n",
      "0.357931 (0.062805) with: {'batch_size': 32, 'epochs': 150, 'optimizer': 'Adamax'}\n",
      "0.369239 (0.116089) with: {'batch_size': 64, 'epochs': 50, 'optimizer': 'RMSprop'}\n",
      "0.385936 (0.210863) with: {'batch_size': 64, 'epochs': 50, 'optimizer': 'Adadelta'}\n",
      "0.494456 (0.055015) with: {'batch_size': 64, 'epochs': 50, 'optimizer': 'Adam'}\n",
      "0.417700 (0.036899) with: {'batch_size': 64, 'epochs': 50, 'optimizer': 'Adamax'}\n",
      "0.385501 (0.107908) with: {'batch_size': 64, 'epochs': 100, 'optimizer': 'RMSprop'}\n",
      "0.568006 (0.073934) with: {'batch_size': 64, 'epochs': 100, 'optimizer': 'Adadelta'}\n",
      "0.449555 (0.166895) with: {'batch_size': 64, 'epochs': 100, 'optimizer': 'Adam'}\n",
      "0.369694 (0.067558) with: {'batch_size': 64, 'epochs': 100, 'optimizer': 'Adamax'}\n",
      "0.507308 (0.236218) with: {'batch_size': 64, 'epochs': 150, 'optimizer': 'RMSprop'}\n",
      "0.348270 (0.109894) with: {'batch_size': 64, 'epochs': 150, 'optimizer': 'Adadelta'}\n",
      "0.350232 (0.094523) with: {'batch_size': 64, 'epochs': 150, 'optimizer': 'Adam'}\n",
      "0.357931 (0.053754) with: {'batch_size': 64, 'epochs': 150, 'optimizer': 'Adamax'}\n",
      "0.360231 (0.068829) with: {'batch_size': 128, 'epochs': 50, 'optimizer': 'RMSprop'}\n",
      "0.401487 (0.063477) with: {'batch_size': 128, 'epochs': 50, 'optimizer': 'Adadelta'}\n",
      "0.388982 (0.067677) with: {'batch_size': 128, 'epochs': 50, 'optimizer': 'Adam'}\n",
      "0.415837 (0.096868) with: {'batch_size': 128, 'epochs': 50, 'optimizer': 'Adamax'}\n",
      "0.557788 (0.103410) with: {'batch_size': 128, 'epochs': 100, 'optimizer': 'RMSprop'}\n",
      "0.416743 (0.030299) with: {'batch_size': 128, 'epochs': 100, 'optimizer': 'Adadelta'}\n",
      "0.357592 (0.227566) with: {'batch_size': 128, 'epochs': 100, 'optimizer': 'Adam'}\n",
      "0.366927 (0.207547) with: {'batch_size': 128, 'epochs': 100, 'optimizer': 'Adamax'}\n",
      "0.451857 (0.145957) with: {'batch_size': 128, 'epochs': 150, 'optimizer': 'RMSprop'}\n",
      "0.539468 (0.087861) with: {'batch_size': 128, 'epochs': 150, 'optimizer': 'Adadelta'}\n",
      "0.372918 (0.112916) with: {'batch_size': 128, 'epochs': 150, 'optimizer': 'Adam'}\n",
      "0.520181 (0.111889) with: {'batch_size': 128, 'epochs': 150, 'optimizer': 'Adamax'}\n"
     ]
    }
   ],
   "source": [
    "from sklearn.model_selection import GridSearchCV\n",
    "from keras.wrappers.scikit_learn import KerasClassifier\n",
    "\n",
    "model = KerasClassifier(build_fn=create_model, \n",
    "                        epochs=20, \n",
    "                        batch_size=32, \n",
    "                        verbose=2, \n",
    "                        shuffle=True)\n",
    "\n",
    "# define the grid search parameters\n",
    "optimizer = ['RMSprop', 'Adadelta', 'Adam', 'Adamax']\n",
    "activation = ['softmax', 'relu', 'tanh', 'sigmoid']\n",
    "batch_size = [32, 64, 128]\n",
    "epochs = [50, 100, 150]\n",
    "\n",
    "\n",
    "param_grid = dict(optimizer=optimizer, batch_size=batch_size, epochs=epochs)\n",
    "grid = GridSearchCV(estimator=model, param_grid=param_grid, n_jobs=-1, cv=3)\n",
    "\n",
    "start = timeit.default_timer()\n",
    "grid_result = grid.fit(x_train, x_train)\n",
    "stop = timeit.default_timer()\n",
    "\n",
    "# summarize results\n",
    "print(\"Time: {} minutes\\n\".format((stop - start)/60))\n",
    "print(\"Best: %f using %s\" % (grid_result.best_score_, grid_result.best_params_))\n",
    "means = grid_result.cv_results_['mean_test_score']\n",
    "stds = grid_result.cv_results_['std_test_score']\n",
    "params = grid_result.cv_results_['params']\n",
    "\n",
    "for mean, stdev, param in zip(means, stds, params):\n",
    "    print(\"%f (%f) with: %r\" % (mean, stdev, param))"
   ]
  },
  {
   "cell_type": "code",
   "execution_count": null,
   "metadata": {},
   "outputs": [],
   "source": []
  }
 ],
 "metadata": {
  "kernelspec": {
   "display_name": "Python 3",
   "language": "python",
   "name": "python3"
  },
  "language_info": {
   "codemirror_mode": {
    "name": "ipython",
    "version": 3
   },
   "file_extension": ".py",
   "mimetype": "text/x-python",
   "name": "python",
   "nbconvert_exporter": "python",
   "pygments_lexer": "ipython3",
   "version": "3.7.5"
  }
 },
 "nbformat": 4,
 "nbformat_minor": 2
}
