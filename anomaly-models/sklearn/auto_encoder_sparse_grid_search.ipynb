{
 "cells": [
  {
   "cell_type": "code",
   "execution_count": 1,
   "metadata": {
    "scrolled": true
   },
   "outputs": [
    {
     "name": "stderr",
     "output_type": "stream",
     "text": [
      "Using TensorFlow backend.\n",
      "/home/administrator/anaconda3/envs/masterthesis/lib/python3.7/site-packages/tensorflow/python/framework/dtypes.py:526: FutureWarning: Passing (type, 1) or '1type' as a synonym of type is deprecated; in a future version of numpy, it will be understood as (type, (1,)) / '(1,)type'.\n",
      "  _np_qint8 = np.dtype([(\"qint8\", np.int8, 1)])\n",
      "/home/administrator/anaconda3/envs/masterthesis/lib/python3.7/site-packages/tensorflow/python/framework/dtypes.py:527: FutureWarning: Passing (type, 1) or '1type' as a synonym of type is deprecated; in a future version of numpy, it will be understood as (type, (1,)) / '(1,)type'.\n",
      "  _np_quint8 = np.dtype([(\"quint8\", np.uint8, 1)])\n",
      "/home/administrator/anaconda3/envs/masterthesis/lib/python3.7/site-packages/tensorflow/python/framework/dtypes.py:528: FutureWarning: Passing (type, 1) or '1type' as a synonym of type is deprecated; in a future version of numpy, it will be understood as (type, (1,)) / '(1,)type'.\n",
      "  _np_qint16 = np.dtype([(\"qint16\", np.int16, 1)])\n",
      "/home/administrator/anaconda3/envs/masterthesis/lib/python3.7/site-packages/tensorflow/python/framework/dtypes.py:529: FutureWarning: Passing (type, 1) or '1type' as a synonym of type is deprecated; in a future version of numpy, it will be understood as (type, (1,)) / '(1,)type'.\n",
      "  _np_quint16 = np.dtype([(\"quint16\", np.uint16, 1)])\n",
      "/home/administrator/anaconda3/envs/masterthesis/lib/python3.7/site-packages/tensorflow/python/framework/dtypes.py:530: FutureWarning: Passing (type, 1) or '1type' as a synonym of type is deprecated; in a future version of numpy, it will be understood as (type, (1,)) / '(1,)type'.\n",
      "  _np_qint32 = np.dtype([(\"qint32\", np.int32, 1)])\n",
      "/home/administrator/anaconda3/envs/masterthesis/lib/python3.7/site-packages/tensorflow/python/framework/dtypes.py:535: FutureWarning: Passing (type, 1) or '1type' as a synonym of type is deprecated; in a future version of numpy, it will be understood as (type, (1,)) / '(1,)type'.\n",
      "  np_resource = np.dtype([(\"resource\", np.ubyte, 1)])\n"
     ]
    }
   ],
   "source": [
    "import sys\n",
    "sys.path.append('../../ml_utils')\n",
    "\n",
    "import config as cfg\n",
    "import data_utils as du\n",
    "import autoencoder as aenc\n",
    "import timeit\n",
    "\n",
    "import keras\n",
    "\n",
    "import sklearn\n",
    "from sklearn.model_selection import train_test_split\n",
    "from keras import regularizers\n",
    "\n",
    "import pandas as pd\n",
    "import numpy as np\n",
    "\n",
    "import os\n",
    "os.environ['CUDA_VISIBLE_DEVICES']='-1'"
   ]
  },
  {
   "cell_type": "code",
   "execution_count": 2,
   "metadata": {},
   "outputs": [
    {
     "name": "stdout",
     "output_type": "stream",
     "text": [
      "Python:  3.7.5 (default, Oct 25 2019, 15:51:11) \n",
      "[GCC 7.3.0]\n",
      "pandas:  0.25.3\n",
      "numpy:  1.17.4\n",
      "Keras:  2.2.4\n"
     ]
    }
   ],
   "source": [
    "print(\"Python: \", sys.version)\n",
    "print(\"pandas: \", pd.__version__)\n",
    "print(\"numpy: \", np.__version__)\n",
    "print(\"Keras: \", keras.__version__)"
   ]
  },
  {
   "cell_type": "markdown",
   "metadata": {},
   "source": [
    "### Load and clean the data"
   ]
  },
  {
   "cell_type": "code",
   "execution_count": 3,
   "metadata": {},
   "outputs": [
    {
     "name": "stdout",
     "output_type": "stream",
     "text": [
      "Original data frame size: (12417597, 31)\n",
      "\n",
      "Time: 39.967747579999994 seconds\n",
      "\n"
     ]
    }
   ],
   "source": [
    "log_data = './../../shared/data/swissid_authorize_logs_april_to_sept_2019.csv'\n",
    "\n",
    "start = timeit.default_timer()\n",
    "df = pd.read_csv(filepath_or_buffer=log_data, header=0, sep='\\t', names=cfg.complete_feature_list, index_col=None)\n",
    "stop = timeit.default_timer()\n",
    "\n",
    "print(\"Original data frame size: {}\\n\".format(df.shape))\n",
    "print(\"Time: {} seconds\\n\".format(stop - start))"
   ]
  },
  {
   "cell_type": "code",
   "execution_count": 4,
   "metadata": {},
   "outputs": [
    {
     "name": "stdout",
     "output_type": "stream",
     "text": [
      "columns with NaN: loc_country_code\n",
      "loc_country_code is fixed\n"
     ]
    }
   ],
   "source": [
    "df = du.clean_data(df)"
   ]
  },
  {
   "cell_type": "code",
   "execution_count": 5,
   "metadata": {},
   "outputs": [],
   "source": [
    "features = ['label_nr', 'src_software_sub_type', 'src_operating_system_name', 'src_hardware_type', 'response_status_code', \n",
    "            'oidc_client_id', 'oidc_scopes', 'oidc_ui_locales', 'loc_city', 'loc_country_code', 'date_weekday']\n",
    "\n",
    "excludes = list(set(df.columns.tolist()) - set(features))"
   ]
  },
  {
   "cell_type": "code",
   "execution_count": 6,
   "metadata": {},
   "outputs": [
    {
     "name": "stdout",
     "output_type": "stream",
     "text": [
      "reduced data frame size: (12204748, 11)\n",
      "\n"
     ]
    }
   ],
   "source": [
    "reduced_df = du.reduce_features(df, excludes)\n",
    "\n",
    "print(\"reduced data frame size: {}\\n\".format(reduced_df.shape))\n",
    "#display(reduced_df)"
   ]
  },
  {
   "cell_type": "code",
   "execution_count": 7,
   "metadata": {},
   "outputs": [
    {
     "name": "stdout",
     "output_type": "stream",
     "text": [
      "2    7412813\n",
      "0    4769169\n",
      "1      22766\n",
      "Name: label_nr, dtype: int64\n"
     ]
    }
   ],
   "source": [
    "print(reduced_df['label_nr'].value_counts())"
   ]
  },
  {
   "cell_type": "code",
   "execution_count": 8,
   "metadata": {},
   "outputs": [],
   "source": [
    "def create_model(optimizer='adam', activation='relu', regularizer=regularizers.l1(10e-5)):\n",
    "    \n",
    "    model = aenc.create_sparse_auto_encoder(10, 4, activation, regularizer)\n",
    "    model.compile(optimizer=optimizer, loss='mean_squared_error', metrics=['mae', 'accuracy'])\n",
    "\n",
    "    return model"
   ]
  },
  {
   "cell_type": "code",
   "execution_count": 9,
   "metadata": {},
   "outputs": [],
   "source": [
    "np.random.seed(7)\n",
    "\n",
    "sample_size= 200000\n",
    "exclude = ['label_nr']\n",
    "\n",
    "# load dataset\n",
    "X_df, y_df, anomaly_rate, encoder = du.build_normal_anomaly_sample_df(reduced_df, sample_size, exclude, True, True, False, True)\n",
    "x_train, x_test, y_train, y_test = train_test_split(X_df, y_df, test_size=0.2, random_state=42)"
   ]
  },
  {
   "cell_type": "code",
   "execution_count": 10,
   "metadata": {},
   "outputs": [
    {
     "name": "stdout",
     "output_type": "stream",
     "text": [
      "WARNING:tensorflow:From /home/administrator/anaconda3/envs/masterthesis/lib/python3.7/site-packages/tensorflow/python/framework/op_def_library.py:263: colocate_with (from tensorflow.python.framework.ops) is deprecated and will be removed in a future version.\n",
      "Instructions for updating:\n",
      "Colocations handled automatically by placer.\n",
      "WARNING:tensorflow:From /home/administrator/anaconda3/envs/masterthesis/lib/python3.7/site-packages/tensorflow/python/ops/math_ops.py:3066: to_int32 (from tensorflow.python.ops.math_ops) is deprecated and will be removed in a future version.\n",
      "Instructions for updating:\n",
      "Use tf.cast instead.\n",
      "Epoch 1/25\n",
      " - 5s - loss: 0.9080 - mean_absolute_error: 0.4994 - acc: 0.6336\n",
      "Epoch 2/25\n",
      " - 5s - loss: 0.8647 - mean_absolute_error: 0.4792 - acc: 0.8522\n",
      "Epoch 3/25\n",
      " - 5s - loss: 0.8581 - mean_absolute_error: 0.4792 - acc: 0.8761\n",
      "Epoch 4/25\n",
      " - 5s - loss: 0.8495 - mean_absolute_error: 0.4808 - acc: 0.8366\n",
      "Epoch 5/25\n",
      " - 5s - loss: 0.8404 - mean_absolute_error: 0.4778 - acc: 0.8092\n",
      "Epoch 6/25\n",
      " - 5s - loss: 0.8380 - mean_absolute_error: 0.4767 - acc: 0.8261\n",
      "Epoch 7/25\n",
      " - 5s - loss: 0.8363 - mean_absolute_error: 0.4757 - acc: 0.8359\n",
      "Epoch 8/25\n",
      " - 5s - loss: 0.8349 - mean_absolute_error: 0.4744 - acc: 0.8403\n",
      "Epoch 9/25\n",
      " - 5s - loss: 0.8338 - mean_absolute_error: 0.4739 - acc: 0.8571\n",
      "Epoch 10/25\n",
      " - 5s - loss: 0.8329 - mean_absolute_error: 0.4738 - acc: 0.8736\n",
      "Epoch 11/25\n",
      " - 5s - loss: 0.8321 - mean_absolute_error: 0.4735 - acc: 0.8901\n",
      "Epoch 12/25\n",
      " - 5s - loss: 0.8314 - mean_absolute_error: 0.4731 - acc: 0.8959\n",
      "Epoch 13/25\n",
      " - 5s - loss: 0.8309 - mean_absolute_error: 0.4727 - acc: 0.9044\n",
      "Epoch 14/25\n",
      " - 5s - loss: 0.8305 - mean_absolute_error: 0.4725 - acc: 0.9146\n",
      "Epoch 15/25\n",
      " - 5s - loss: 0.8301 - mean_absolute_error: 0.4724 - acc: 0.9168\n",
      "Epoch 16/25\n",
      " - 5s - loss: 0.8299 - mean_absolute_error: 0.4724 - acc: 0.9249\n",
      "Epoch 17/25\n",
      " - 5s - loss: 0.8296 - mean_absolute_error: 0.4723 - acc: 0.9316\n",
      "Epoch 18/25\n",
      " - 5s - loss: 0.8294 - mean_absolute_error: 0.4723 - acc: 0.9326\n",
      "Epoch 19/25\n",
      " - 5s - loss: 0.8293 - mean_absolute_error: 0.4723 - acc: 0.9327\n",
      "Epoch 20/25\n",
      " - 5s - loss: 0.8291 - mean_absolute_error: 0.4722 - acc: 0.9324\n",
      "Epoch 21/25\n",
      " - 5s - loss: 0.8289 - mean_absolute_error: 0.4722 - acc: 0.9329\n",
      "Epoch 22/25\n",
      " - 5s - loss: 0.8288 - mean_absolute_error: 0.4722 - acc: 0.9323\n",
      "Epoch 23/25\n",
      " - 5s - loss: 0.8286 - mean_absolute_error: 0.4722 - acc: 0.9320\n",
      "Epoch 24/25\n",
      " - 5s - loss: 0.8285 - mean_absolute_error: 0.4721 - acc: 0.9323\n",
      "Epoch 25/25\n",
      " - 5s - loss: 0.8284 - mean_absolute_error: 0.4721 - acc: 0.9325\n",
      "Time: 8.151425387566666 minutes\n",
      "\n",
      "Best: 0.560143 using {'activation': 'relu', 'batch_size': 32, 'epochs': 25, 'optimizer': 'Adamax'}\n",
      "0.528781 (0.054982) with: {'activation': 'softmax', 'batch_size': 32, 'epochs': 25, 'optimizer': 'RMSprop'}\n",
      "0.524305 (0.152273) with: {'activation': 'softmax', 'batch_size': 32, 'epochs': 25, 'optimizer': 'Adadelta'}\n",
      "0.550207 (0.071989) with: {'activation': 'softmax', 'batch_size': 32, 'epochs': 25, 'optimizer': 'Adam'}\n",
      "0.424575 (0.058503) with: {'activation': 'softmax', 'batch_size': 32, 'epochs': 25, 'optimizer': 'Adamax'}\n",
      "0.537657 (0.037039) with: {'activation': 'relu', 'batch_size': 32, 'epochs': 25, 'optimizer': 'RMSprop'}\n",
      "0.367799 (0.113440) with: {'activation': 'relu', 'batch_size': 32, 'epochs': 25, 'optimizer': 'Adadelta'}\n",
      "0.497469 (0.089769) with: {'activation': 'relu', 'batch_size': 32, 'epochs': 25, 'optimizer': 'Adam'}\n",
      "0.560143 (0.083644) with: {'activation': 'relu', 'batch_size': 32, 'epochs': 25, 'optimizer': 'Adamax'}\n",
      "0.533537 (0.029083) with: {'activation': 'tanh', 'batch_size': 32, 'epochs': 25, 'optimizer': 'RMSprop'}\n",
      "0.544581 (0.029503) with: {'activation': 'tanh', 'batch_size': 32, 'epochs': 25, 'optimizer': 'Adadelta'}\n",
      "0.555519 (0.013991) with: {'activation': 'tanh', 'batch_size': 32, 'epochs': 25, 'optimizer': 'Adam'}\n",
      "0.524269 (0.017955) with: {'activation': 'tanh', 'batch_size': 32, 'epochs': 25, 'optimizer': 'Adamax'}\n",
      "0.542669 (0.129302) with: {'activation': 'sigmoid', 'batch_size': 32, 'epochs': 25, 'optimizer': 'RMSprop'}\n",
      "0.500145 (0.181662) with: {'activation': 'sigmoid', 'batch_size': 32, 'epochs': 25, 'optimizer': 'Adadelta'}\n",
      "0.471525 (0.071245) with: {'activation': 'sigmoid', 'batch_size': 32, 'epochs': 25, 'optimizer': 'Adam'}\n",
      "0.557250 (0.017638) with: {'activation': 'sigmoid', 'batch_size': 32, 'epochs': 25, 'optimizer': 'Adamax'}\n"
     ]
    }
   ],
   "source": [
    "from sklearn.model_selection import GridSearchCV\n",
    "from keras.wrappers.scikit_learn import KerasClassifier\n",
    "\n",
    "model = KerasClassifier(build_fn=create_model, \n",
    "                        epochs=20, \n",
    "                        batch_size=32, \n",
    "                        verbose=2, \n",
    "                        shuffle=True)\n",
    "\n",
    "# define the grid search parameters\n",
    "optimizer = ['RMSprop', 'Adadelta', 'Adam', 'Adamax']\n",
    "activation = ['softmax', 'relu', 'tanh', 'sigmoid']\n",
    "#batch_size = [32, 64, 128]\n",
    "#epochs = [50, 100, 150]\n",
    "batch_size = [32]\n",
    "epochs = [25]\n",
    "\n",
    "regularizer = [regularizers.l1(10e-5), regularizers.l2(10e-5), regularizers.l1_l2(l1=10e-5, l2=10e-5)]\n",
    "\n",
    "\n",
    "param_grid = dict(optimizer=optimizer, batch_size=batch_size, epochs=epochs, activation=activation)\n",
    "grid = GridSearchCV(estimator=model, param_grid=param_grid, n_jobs=-1, cv=3)\n",
    "\n",
    "start = timeit.default_timer()\n",
    "grid_result = grid.fit(x_train, x_train)\n",
    "stop = timeit.default_timer()\n",
    "\n",
    "# summarize results\n",
    "print(\"Time: {} minutes\\n\".format((stop - start)/60))\n",
    "print(\"Best: %f using %s\" % (grid_result.best_score_, grid_result.best_params_))\n",
    "means = grid_result.cv_results_['mean_test_score']\n",
    "stds = grid_result.cv_results_['std_test_score']\n",
    "params = grid_result.cv_results_['params']\n",
    "\n",
    "for mean, stdev, param in zip(means, stds, params):\n",
    "    print(\"%f (%f) with: %r\" % (mean, stdev, param))"
   ]
  },
  {
   "cell_type": "code",
   "execution_count": null,
   "metadata": {},
   "outputs": [],
   "source": []
  }
 ],
 "metadata": {
  "kernelspec": {
   "display_name": "Python 3",
   "language": "python",
   "name": "python3"
  },
  "language_info": {
   "codemirror_mode": {
    "name": "ipython",
    "version": 3
   },
   "file_extension": ".py",
   "mimetype": "text/x-python",
   "name": "python",
   "nbconvert_exporter": "python",
   "pygments_lexer": "ipython3",
   "version": "3.7.5"
  }
 },
 "nbformat": 4,
 "nbformat_minor": 2
}
