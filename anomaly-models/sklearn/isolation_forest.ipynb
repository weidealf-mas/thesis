{
 "cells": [
  {
   "cell_type": "code",
   "execution_count": 1,
   "metadata": {},
   "outputs": [],
   "source": [
    "import sys\n",
    "sys.path.append('../../ml_utils')\n",
    "\n",
    "import config as cfg\n",
    "import data_utils as du\n",
    "import numpy as np\n",
    "import pandas as pd\n",
    "import timeit\n",
    "import matplotlib.pyplot as plt\n",
    "import joblib\n",
    "import sklearn\n",
    "\n",
    "from sklearn.ensemble import IsolationForest\n",
    "from sklearn.model_selection import train_test_split\n",
    "from sklearn.metrics import roc_auc_score, f1_score\n",
    "\n",
    "%matplotlib inline"
   ]
  },
  {
   "cell_type": "code",
   "execution_count": 2,
   "metadata": {
    "scrolled": true
   },
   "outputs": [
    {
     "name": "stdout",
     "output_type": "stream",
     "text": [
      "joblib (0.14.1): 0.14.0\n",
      "\n",
      "numpy (1.17.4): 1.17.4\n",
      "\n",
      "pandas (0.25.3): 0.25.3\n",
      "\n",
      "sklearn (0.22): 0.22\n",
      "\n"
     ]
    }
   ],
   "source": [
    "print(\"joblib (0.14.1): {}\\n\".format(joblib.__version__))\n",
    "print(\"numpy (1.17.4): {}\\n\".format(np.__version__))\n",
    "print(\"pandas (0.25.3): {}\\n\".format(pd.__version__))\n",
    "print(\"sklearn (0.22): {}\\n\".format(sklearn.__version__))"
   ]
  },
  {
   "cell_type": "code",
   "execution_count": 3,
   "metadata": {},
   "outputs": [
    {
     "name": "stdout",
     "output_type": "stream",
     "text": [
      "Original data frame size: (12417597, 31)\n",
      "\n",
      "Time: 48.607216495 seconds\n",
      "\n"
     ]
    }
   ],
   "source": [
    "log_data = './../../shared/data/swissid_authorize_logs_april_to_sept_2019.csv'\n",
    "\n",
    "start = timeit.default_timer()\n",
    "df = pd.read_csv(filepath_or_buffer=log_data, header=0, sep='\\t', names=cfg.complete_feature_list, index_col=None)\n",
    "stop = timeit.default_timer()\n",
    "\n",
    "print(\"Original data frame size: {}\\n\".format(df.shape))\n",
    "print(\"Time: {} seconds\\n\".format(stop - start))"
   ]
  },
  {
   "cell_type": "code",
   "execution_count": 4,
   "metadata": {},
   "outputs": [
    {
     "name": "stdout",
     "output_type": "stream",
     "text": [
      "columns with NaN: loc_country_code\n",
      "loc_country_code is fixed\n"
     ]
    }
   ],
   "source": [
    "df = du.clean_data(df)"
   ]
  },
  {
   "cell_type": "code",
   "execution_count": 5,
   "metadata": {},
   "outputs": [],
   "source": [
    "features = ['label_nr', 'src_software_sub_type', 'src_operating_system_name', 'src_hardware_type', 'response_status_code', \n",
    "            'oidc_client_id', 'oidc_scopes', 'oidc_ui_locales', 'loc_city', 'loc_country_code', 'date_weekday']\n",
    "\n",
    "excludes = list(set(df.columns.tolist()) - set(features))"
   ]
  },
  {
   "cell_type": "code",
   "execution_count": 6,
   "metadata": {},
   "outputs": [
    {
     "name": "stdout",
     "output_type": "stream",
     "text": [
      "reduced data frame size: (12204748, 11)\n",
      "\n"
     ]
    }
   ],
   "source": [
    "reduced_df = du.reduce_features(df, excludes)\n",
    "\n",
    "print(\"reduced data frame size: {}\\n\".format(reduced_df.shape))\n",
    "#display(reduced_df)"
   ]
  },
  {
   "cell_type": "code",
   "execution_count": 7,
   "metadata": {},
   "outputs": [],
   "source": [
    "#reduced_df.dtypes"
   ]
  },
  {
   "cell_type": "code",
   "execution_count": 8,
   "metadata": {},
   "outputs": [
    {
     "name": "stdout",
     "output_type": "stream",
     "text": [
      "2    7412813\n",
      "0    4769169\n",
      "1      22766\n",
      "Name: label_nr, dtype: int64\n"
     ]
    }
   ],
   "source": [
    "print(reduced_df['label_nr'].value_counts())"
   ]
  },
  {
   "cell_type": "code",
   "execution_count": 9,
   "metadata": {},
   "outputs": [
    {
     "name": "stdout",
     "output_type": "stream",
     "text": [
      "build data sets...\n",
      "shuffling data...\n",
      "encode dataframe...\n",
      "encoding src_operating_system_name\n",
      "encoding src_software_sub_type\n",
      "encoding src_hardware_type\n",
      "encoding oidc_client_id\n",
      "encoding oidc_scopes\n",
      "encoding oidc_ui_locales\n",
      "encoding loc_city\n",
      "encoding loc_country_code\n",
      "0    995226\n",
      "1      4774\n",
      "Name: label_nr, dtype: int64\n"
     ]
    }
   ],
   "source": [
    "sample_size= 1000000\n",
    "exclude = ['label_nr']\n",
    "\n",
    "X_df, y_df, anomaly_rate, encoder = du.build_normal_anomaly_sample_df(reduced_df, sample_size, exclude)\n",
    "\n",
    "print(y_df.value_counts())\n",
    "#display(X_df)"
   ]
  },
  {
   "cell_type": "code",
   "execution_count": 10,
   "metadata": {},
   "outputs": [
    {
     "name": "stdout",
     "output_type": "stream",
     "text": [
      "Shapes:\n",
      "x_train:(800000, 10)\n",
      "y_train:(800000,)\n",
      "\n",
      "x_test:(200000, 10)\n",
      "y_test:(200000,)\n",
      "\n"
     ]
    }
   ],
   "source": [
    "x_train, x_test, y_train, y_test = train_test_split(X_df, y_df, test_size = 0.2, random_state = 42)\n",
    "\n",
    "print(\"Shapes:\\nx_train:%s\\ny_train:%s\\n\" % (x_train.shape, y_train.shape))\n",
    "print(\"x_test:%s\\ny_test:%s\\n\" % (x_test.shape, y_test.shape))"
   ]
  },
  {
   "cell_type": "code",
   "execution_count": 11,
   "metadata": {},
   "outputs": [
    {
     "name": "stderr",
     "output_type": "stream",
     "text": [
      "[Parallel(n_jobs=5)]: Using backend LokyBackend with 5 concurrent workers.\n",
      "[Parallel(n_jobs=5)]: Done   2 out of   5 | elapsed:    1.9s remaining:    2.8s\n",
      "[Parallel(n_jobs=5)]: Done   5 out of   5 | elapsed:    1.9s remaining:    0.0s\n",
      "[Parallel(n_jobs=5)]: Done   5 out of   5 | elapsed:    1.9s finished\n",
      "[Parallel(n_jobs=5)]: Using backend LokyBackend with 5 concurrent workers.\n",
      "[Parallel(n_jobs=5)]: Done   2 out of   5 | elapsed:    1.5s remaining:    2.2s\n",
      "[Parallel(n_jobs=5)]: Done   5 out of   5 | elapsed:    1.5s remaining:    0.0s\n",
      "[Parallel(n_jobs=5)]: Done   5 out of   5 | elapsed:    1.5s finished\n",
      "[Parallel(n_jobs=5)]: Using backend LokyBackend with 5 concurrent workers.\n",
      "[Parallel(n_jobs=5)]: Done   2 out of   5 | elapsed:    1.5s remaining:    2.2s\n",
      "[Parallel(n_jobs=5)]: Done   5 out of   5 | elapsed:    1.6s remaining:    0.0s\n",
      "[Parallel(n_jobs=5)]: Done   5 out of   5 | elapsed:    1.6s finished\n",
      "[Parallel(n_jobs=5)]: Using backend LokyBackend with 5 concurrent workers.\n",
      "[Parallel(n_jobs=5)]: Done   2 out of   5 | elapsed:    1.6s remaining:    2.4s\n",
      "[Parallel(n_jobs=5)]: Done   5 out of   5 | elapsed:    1.7s remaining:    0.0s\n",
      "[Parallel(n_jobs=5)]: Done   5 out of   5 | elapsed:    1.7s finished\n",
      "[Parallel(n_jobs=5)]: Using backend LokyBackend with 5 concurrent workers.\n",
      "[Parallel(n_jobs=5)]: Done   2 out of   5 | elapsed:    1.6s remaining:    2.4s\n",
      "[Parallel(n_jobs=5)]: Done   5 out of   5 | elapsed:    1.7s remaining:    0.0s\n",
      "[Parallel(n_jobs=5)]: Done   5 out of   5 | elapsed:    1.7s finished\n",
      "[Parallel(n_jobs=5)]: Using backend LokyBackend with 5 concurrent workers.\n",
      "[Parallel(n_jobs=5)]: Done   2 out of   5 | elapsed:    1.6s remaining:    2.3s\n",
      "[Parallel(n_jobs=5)]: Done   5 out of   5 | elapsed:    1.6s remaining:    0.0s\n",
      "[Parallel(n_jobs=5)]: Done   5 out of   5 | elapsed:    1.6s finished\n",
      "[Parallel(n_jobs=5)]: Using backend LokyBackend with 5 concurrent workers.\n",
      "[Parallel(n_jobs=5)]: Done   2 out of   5 | elapsed:    1.7s remaining:    2.5s\n",
      "[Parallel(n_jobs=5)]: Done   5 out of   5 | elapsed:    1.8s remaining:    0.0s\n",
      "[Parallel(n_jobs=5)]: Done   5 out of   5 | elapsed:    1.8s finished\n",
      "[Parallel(n_jobs=5)]: Using backend LokyBackend with 5 concurrent workers.\n",
      "[Parallel(n_jobs=5)]: Done   2 out of   5 | elapsed:    1.6s remaining:    2.5s\n",
      "[Parallel(n_jobs=5)]: Done   5 out of   5 | elapsed:    1.7s remaining:    0.0s\n",
      "[Parallel(n_jobs=5)]: Done   5 out of   5 | elapsed:    1.7s finished\n",
      "[Parallel(n_jobs=5)]: Using backend LokyBackend with 5 concurrent workers.\n",
      "[Parallel(n_jobs=5)]: Done   2 out of   5 | elapsed:    1.7s remaining:    2.5s\n",
      "[Parallel(n_jobs=5)]: Done   5 out of   5 | elapsed:    1.8s remaining:    0.0s\n",
      "[Parallel(n_jobs=5)]: Done   5 out of   5 | elapsed:    1.8s finished\n",
      "[Parallel(n_jobs=5)]: Using backend LokyBackend with 5 concurrent workers.\n",
      "[Parallel(n_jobs=5)]: Done   2 out of   5 | elapsed:    1.8s remaining:    2.6s\n",
      "[Parallel(n_jobs=5)]: Done   5 out of   5 | elapsed:    1.8s remaining:    0.0s\n",
      "[Parallel(n_jobs=5)]: Done   5 out of   5 | elapsed:    1.8s finished\n",
      "[Parallel(n_jobs=5)]: Using backend LokyBackend with 5 concurrent workers.\n",
      "[Parallel(n_jobs=5)]: Done   2 out of   5 | elapsed:    1.8s remaining:    2.7s\n",
      "[Parallel(n_jobs=5)]: Done   5 out of   5 | elapsed:    1.8s remaining:    0.0s\n",
      "[Parallel(n_jobs=5)]: Done   5 out of   5 | elapsed:    1.8s finished\n",
      "[Parallel(n_jobs=5)]: Using backend LokyBackend with 5 concurrent workers.\n",
      "[Parallel(n_jobs=5)]: Done   2 out of   5 | elapsed:    1.8s remaining:    2.6s\n",
      "[Parallel(n_jobs=5)]: Done   5 out of   5 | elapsed:    1.8s remaining:    0.0s\n",
      "[Parallel(n_jobs=5)]: Done   5 out of   5 | elapsed:    1.8s finished\n",
      "[Parallel(n_jobs=5)]: Using backend LokyBackend with 5 concurrent workers.\n",
      "[Parallel(n_jobs=5)]: Done   2 out of   5 | elapsed:    1.9s remaining:    2.8s\n",
      "[Parallel(n_jobs=5)]: Done   5 out of   5 | elapsed:    1.9s remaining:    0.0s\n",
      "[Parallel(n_jobs=5)]: Done   5 out of   5 | elapsed:    1.9s finished\n",
      "[Parallel(n_jobs=5)]: Using backend LokyBackend with 5 concurrent workers.\n",
      "[Parallel(n_jobs=5)]: Done   2 out of   5 | elapsed:    1.9s remaining:    2.8s\n",
      "[Parallel(n_jobs=5)]: Done   5 out of   5 | elapsed:    2.0s remaining:    0.0s\n",
      "[Parallel(n_jobs=5)]: Done   5 out of   5 | elapsed:    2.0s finished\n",
      "[Parallel(n_jobs=5)]: Using backend LokyBackend with 5 concurrent workers.\n",
      "[Parallel(n_jobs=5)]: Done   2 out of   5 | elapsed:    1.8s remaining:    2.8s\n",
      "[Parallel(n_jobs=5)]: Done   5 out of   5 | elapsed:    1.9s remaining:    0.0s\n",
      "[Parallel(n_jobs=5)]: Done   5 out of   5 | elapsed:    1.9s finished\n",
      "[Parallel(n_jobs=5)]: Using backend LokyBackend with 5 concurrent workers.\n",
      "[Parallel(n_jobs=5)]: Done   2 out of   5 | elapsed:    1.5s remaining:    2.2s\n",
      "[Parallel(n_jobs=5)]: Done   5 out of   5 | elapsed:    1.6s remaining:    0.0s\n",
      "[Parallel(n_jobs=5)]: Done   5 out of   5 | elapsed:    1.6s finished\n",
      "[Parallel(n_jobs=5)]: Using backend LokyBackend with 5 concurrent workers.\n",
      "[Parallel(n_jobs=5)]: Done   2 out of   5 | elapsed:    1.5s remaining:    2.2s\n",
      "[Parallel(n_jobs=5)]: Done   5 out of   5 | elapsed:    1.6s remaining:    0.0s\n",
      "[Parallel(n_jobs=5)]: Done   5 out of   5 | elapsed:    1.6s finished\n",
      "[Parallel(n_jobs=5)]: Using backend LokyBackend with 5 concurrent workers.\n",
      "[Parallel(n_jobs=5)]: Done   2 out of   5 | elapsed:    1.5s remaining:    2.2s\n",
      "[Parallel(n_jobs=5)]: Done   5 out of   5 | elapsed:    1.6s remaining:    0.0s\n",
      "[Parallel(n_jobs=5)]: Done   5 out of   5 | elapsed:    1.6s finished\n",
      "[Parallel(n_jobs=5)]: Using backend LokyBackend with 5 concurrent workers.\n",
      "[Parallel(n_jobs=5)]: Done   2 out of   5 | elapsed:    1.6s remaining:    2.4s\n",
      "[Parallel(n_jobs=5)]: Done   5 out of   5 | elapsed:    1.7s remaining:    0.0s\n",
      "[Parallel(n_jobs=5)]: Done   5 out of   5 | elapsed:    1.7s finished\n",
      "[Parallel(n_jobs=5)]: Using backend LokyBackend with 5 concurrent workers.\n",
      "[Parallel(n_jobs=5)]: Done   2 out of   5 | elapsed:    1.6s remaining:    2.4s\n",
      "[Parallel(n_jobs=5)]: Done   5 out of   5 | elapsed:    1.7s remaining:    0.0s\n",
      "[Parallel(n_jobs=5)]: Done   5 out of   5 | elapsed:    1.7s finished\n",
      "[Parallel(n_jobs=5)]: Using backend LokyBackend with 5 concurrent workers.\n",
      "[Parallel(n_jobs=5)]: Done   2 out of   5 | elapsed:    1.6s remaining:    2.4s\n",
      "[Parallel(n_jobs=5)]: Done   5 out of   5 | elapsed:    1.7s remaining:    0.0s\n",
      "[Parallel(n_jobs=5)]: Done   5 out of   5 | elapsed:    1.7s finished\n",
      "[Parallel(n_jobs=5)]: Using backend LokyBackend with 5 concurrent workers.\n",
      "[Parallel(n_jobs=5)]: Done   2 out of   5 | elapsed:    1.7s remaining:    2.5s\n",
      "[Parallel(n_jobs=5)]: Done   5 out of   5 | elapsed:    1.8s remaining:    0.0s\n",
      "[Parallel(n_jobs=5)]: Done   5 out of   5 | elapsed:    1.8s finished\n",
      "[Parallel(n_jobs=5)]: Using backend LokyBackend with 5 concurrent workers.\n",
      "[Parallel(n_jobs=5)]: Done   2 out of   5 | elapsed:    1.7s remaining:    2.6s\n",
      "[Parallel(n_jobs=5)]: Done   5 out of   5 | elapsed:    1.8s remaining:    0.0s\n",
      "[Parallel(n_jobs=5)]: Done   5 out of   5 | elapsed:    1.8s finished\n",
      "[Parallel(n_jobs=5)]: Using backend LokyBackend with 5 concurrent workers.\n",
      "[Parallel(n_jobs=5)]: Done   2 out of   5 | elapsed:    1.7s remaining:    2.5s\n",
      "[Parallel(n_jobs=5)]: Done   5 out of   5 | elapsed:    1.8s remaining:    0.0s\n",
      "[Parallel(n_jobs=5)]: Done   5 out of   5 | elapsed:    1.8s finished\n",
      "[Parallel(n_jobs=5)]: Using backend LokyBackend with 5 concurrent workers.\n",
      "[Parallel(n_jobs=5)]: Done   2 out of   5 | elapsed:    1.8s remaining:    2.7s\n",
      "[Parallel(n_jobs=5)]: Done   5 out of   5 | elapsed:    1.9s remaining:    0.0s\n",
      "[Parallel(n_jobs=5)]: Done   5 out of   5 | elapsed:    1.9s finished\n",
      "[Parallel(n_jobs=5)]: Using backend LokyBackend with 5 concurrent workers.\n",
      "[Parallel(n_jobs=5)]: Done   2 out of   5 | elapsed:    1.8s remaining:    2.7s\n",
      "[Parallel(n_jobs=5)]: Done   5 out of   5 | elapsed:    1.9s remaining:    0.0s\n",
      "[Parallel(n_jobs=5)]: Done   5 out of   5 | elapsed:    1.9s finished\n",
      "[Parallel(n_jobs=5)]: Using backend LokyBackend with 5 concurrent workers.\n",
      "[Parallel(n_jobs=5)]: Done   2 out of   5 | elapsed:    1.8s remaining:    2.7s\n",
      "[Parallel(n_jobs=5)]: Done   5 out of   5 | elapsed:    1.9s remaining:    0.0s\n",
      "[Parallel(n_jobs=5)]: Done   5 out of   5 | elapsed:    1.9s finished\n"
     ]
    },
    {
     "name": "stderr",
     "output_type": "stream",
     "text": [
      "[Parallel(n_jobs=5)]: Using backend LokyBackend with 5 concurrent workers.\n",
      "[Parallel(n_jobs=5)]: Done   2 out of   5 | elapsed:    2.0s remaining:    2.9s\n",
      "[Parallel(n_jobs=5)]: Done   5 out of   5 | elapsed:    2.0s remaining:    0.0s\n",
      "[Parallel(n_jobs=5)]: Done   5 out of   5 | elapsed:    2.0s finished\n",
      "[Parallel(n_jobs=5)]: Using backend LokyBackend with 5 concurrent workers.\n",
      "[Parallel(n_jobs=5)]: Done   2 out of   5 | elapsed:    2.0s remaining:    3.0s\n",
      "[Parallel(n_jobs=5)]: Done   5 out of   5 | elapsed:    2.0s remaining:    0.0s\n",
      "[Parallel(n_jobs=5)]: Done   5 out of   5 | elapsed:    2.0s finished\n",
      "[Parallel(n_jobs=5)]: Using backend LokyBackend with 5 concurrent workers.\n",
      "[Parallel(n_jobs=5)]: Done   2 out of   5 | elapsed:    1.9s remaining:    2.9s\n",
      "[Parallel(n_jobs=5)]: Done   5 out of   5 | elapsed:    2.0s remaining:    0.0s\n",
      "[Parallel(n_jobs=5)]: Done   5 out of   5 | elapsed:    2.0s finished\n",
      "[Parallel(n_jobs=5)]: Using backend LokyBackend with 5 concurrent workers.\n",
      "[Parallel(n_jobs=5)]: Done   2 out of   5 | elapsed:    2.3s remaining:    3.5s\n",
      "[Parallel(n_jobs=5)]: Done   5 out of   5 | elapsed:    2.3s remaining:    0.0s\n",
      "[Parallel(n_jobs=5)]: Done   5 out of   5 | elapsed:    2.3s finished\n",
      "[Parallel(n_jobs=5)]: Using backend LokyBackend with 5 concurrent workers.\n",
      "[Parallel(n_jobs=5)]: Done   2 out of   5 | elapsed:    1.6s remaining:    2.4s\n",
      "[Parallel(n_jobs=5)]: Done   5 out of   5 | elapsed:    1.7s remaining:    0.0s\n",
      "[Parallel(n_jobs=5)]: Done   5 out of   5 | elapsed:    1.7s finished\n",
      "[Parallel(n_jobs=5)]: Using backend LokyBackend with 5 concurrent workers.\n",
      "[Parallel(n_jobs=5)]: Done   2 out of   5 | elapsed:    1.6s remaining:    2.3s\n",
      "[Parallel(n_jobs=5)]: Done   5 out of   5 | elapsed:    1.7s remaining:    0.0s\n",
      "[Parallel(n_jobs=5)]: Done   5 out of   5 | elapsed:    1.7s finished\n",
      "[Parallel(n_jobs=5)]: Using backend LokyBackend with 5 concurrent workers.\n",
      "[Parallel(n_jobs=5)]: Done   2 out of   5 | elapsed:    1.6s remaining:    2.4s\n",
      "[Parallel(n_jobs=5)]: Done   5 out of   5 | elapsed:    1.7s remaining:    0.0s\n",
      "[Parallel(n_jobs=5)]: Done   5 out of   5 | elapsed:    1.7s finished\n",
      "[Parallel(n_jobs=5)]: Using backend LokyBackend with 5 concurrent workers.\n",
      "[Parallel(n_jobs=5)]: Done   2 out of   5 | elapsed:    1.7s remaining:    2.5s\n",
      "[Parallel(n_jobs=5)]: Done   5 out of   5 | elapsed:    1.8s remaining:    0.0s\n",
      "[Parallel(n_jobs=5)]: Done   5 out of   5 | elapsed:    1.8s finished\n",
      "[Parallel(n_jobs=5)]: Using backend LokyBackend with 5 concurrent workers.\n",
      "[Parallel(n_jobs=5)]: Done   2 out of   5 | elapsed:    2.0s remaining:    3.0s\n",
      "[Parallel(n_jobs=5)]: Done   5 out of   5 | elapsed:    2.0s remaining:    0.0s\n",
      "[Parallel(n_jobs=5)]: Done   5 out of   5 | elapsed:    2.0s finished\n",
      "[Parallel(n_jobs=5)]: Using backend LokyBackend with 5 concurrent workers.\n",
      "[Parallel(n_jobs=5)]: Done   2 out of   5 | elapsed:    1.7s remaining:    2.6s\n",
      "[Parallel(n_jobs=5)]: Done   5 out of   5 | elapsed:    1.8s remaining:    0.0s\n",
      "[Parallel(n_jobs=5)]: Done   5 out of   5 | elapsed:    1.8s finished\n",
      "[Parallel(n_jobs=5)]: Using backend LokyBackend with 5 concurrent workers.\n",
      "[Parallel(n_jobs=5)]: Done   2 out of   5 | elapsed:    1.7s remaining:    2.6s\n",
      "[Parallel(n_jobs=5)]: Done   5 out of   5 | elapsed:    1.8s remaining:    0.0s\n",
      "[Parallel(n_jobs=5)]: Done   5 out of   5 | elapsed:    1.8s finished\n",
      "[Parallel(n_jobs=5)]: Using backend LokyBackend with 5 concurrent workers.\n",
      "[Parallel(n_jobs=5)]: Done   2 out of   5 | elapsed:    1.7s remaining:    2.6s\n",
      "[Parallel(n_jobs=5)]: Done   5 out of   5 | elapsed:    1.8s remaining:    0.0s\n",
      "[Parallel(n_jobs=5)]: Done   5 out of   5 | elapsed:    1.8s finished\n",
      "[Parallel(n_jobs=5)]: Using backend LokyBackend with 5 concurrent workers.\n",
      "[Parallel(n_jobs=5)]: Done   2 out of   5 | elapsed:    1.8s remaining:    2.8s\n",
      "[Parallel(n_jobs=5)]: Done   5 out of   5 | elapsed:    1.9s remaining:    0.0s\n",
      "[Parallel(n_jobs=5)]: Done   5 out of   5 | elapsed:    1.9s finished\n",
      "[Parallel(n_jobs=5)]: Using backend LokyBackend with 5 concurrent workers.\n",
      "[Parallel(n_jobs=5)]: Done   2 out of   5 | elapsed:    1.9s remaining:    2.9s\n",
      "[Parallel(n_jobs=5)]: Done   5 out of   5 | elapsed:    1.9s remaining:    0.0s\n",
      "[Parallel(n_jobs=5)]: Done   5 out of   5 | elapsed:    1.9s finished\n",
      "[Parallel(n_jobs=5)]: Using backend LokyBackend with 5 concurrent workers.\n",
      "[Parallel(n_jobs=5)]: Done   2 out of   5 | elapsed:    1.8s remaining:    2.7s\n",
      "[Parallel(n_jobs=5)]: Done   5 out of   5 | elapsed:    1.9s remaining:    0.0s\n",
      "[Parallel(n_jobs=5)]: Done   5 out of   5 | elapsed:    1.9s finished\n",
      "[Parallel(n_jobs=5)]: Using backend LokyBackend with 5 concurrent workers.\n",
      "[Parallel(n_jobs=5)]: Done   2 out of   5 | elapsed:    1.9s remaining:    2.8s\n",
      "[Parallel(n_jobs=5)]: Done   5 out of   5 | elapsed:    2.0s remaining:    0.0s\n",
      "[Parallel(n_jobs=5)]: Done   5 out of   5 | elapsed:    2.0s finished\n",
      "[Parallel(n_jobs=5)]: Using backend LokyBackend with 5 concurrent workers.\n",
      "[Parallel(n_jobs=5)]: Done   2 out of   5 | elapsed:    1.9s remaining:    2.9s\n",
      "[Parallel(n_jobs=5)]: Done   5 out of   5 | elapsed:    2.0s remaining:    0.0s\n",
      "[Parallel(n_jobs=5)]: Done   5 out of   5 | elapsed:    2.0s finished\n",
      "[Parallel(n_jobs=5)]: Using backend LokyBackend with 5 concurrent workers.\n",
      "[Parallel(n_jobs=5)]: Done   2 out of   5 | elapsed:    1.9s remaining:    2.9s\n",
      "[Parallel(n_jobs=5)]: Done   5 out of   5 | elapsed:    2.0s remaining:    0.0s\n",
      "[Parallel(n_jobs=5)]: Done   5 out of   5 | elapsed:    2.0s finished\n",
      "[Parallel(n_jobs=5)]: Using backend ThreadingBackend with 5 concurrent workers.\n"
     ]
    },
    {
     "name": "stdout",
     "output_type": "stream",
     "text": [
      "Building estimator 1 of 24 for this parallel run (total 120)...Building estimator 1 of 24 for this parallel run (total 120)...\n",
      "Building estimator 1 of 24 for this parallel run (total 120)...\n",
      "Building estimator 1 of 24 for this parallel run (total 120)...\n",
      "\n",
      "Building estimator 1 of 24 for this parallel run (total 120)...\n",
      "Building estimator 2 of 24 for this parallel run (total 120)...\n",
      "Building estimator 2 of 24 for this parallel run (total 120)...\n",
      "Building estimator 2 of 24 for this parallel run (total 120)...Building estimator 2 of 24 for this parallel run (total 120)...\n",
      "\n",
      "Building estimator 2 of 24 for this parallel run (total 120)...\n",
      "Building estimator 3 of 24 for this parallel run (total 120)...\n",
      "Building estimator 3 of 24 for this parallel run (total 120)...Building estimator 3 of 24 for this parallel run (total 120)...\n",
      "\n",
      "Building estimator 3 of 24 for this parallel run (total 120)...\n",
      "Building estimator 3 of 24 for this parallel run (total 120)...\n",
      "Building estimator 4 of 24 for this parallel run (total 120)...\n",
      "Building estimator 4 of 24 for this parallel run (total 120)...\n",
      "Building estimator 4 of 24 for this parallel run (total 120)...\n",
      "Building estimator 4 of 24 for this parallel run (total 120)...\n",
      "Building estimator 4 of 24 for this parallel run (total 120)...\n",
      "Building estimator 5 of 24 for this parallel run (total 120)...\n",
      "Building estimator 5 of 24 for this parallel run (total 120)...\n",
      "Building estimator 5 of 24 for this parallel run (total 120)...\n",
      "Building estimator 6 of 24 for this parallel run (total 120)...\n",
      "Building estimator 5 of 24 for this parallel run (total 120)...\n",
      "Building estimator 5 of 24 for this parallel run (total 120)...\n",
      "Building estimator 6 of 24 for this parallel run (total 120)...\n",
      "Building estimator 6 of 24 for this parallel run (total 120)...\n",
      "Building estimator 6 of 24 for this parallel run (total 120)...\n",
      "Building estimator 7 of 24 for this parallel run (total 120)...\n",
      "Building estimator 6 of 24 for this parallel run (total 120)...\n",
      "Building estimator 7 of 24 for this parallel run (total 120)...\n",
      "Building estimator 7 of 24 for this parallel run (total 120)...\n",
      "Building estimator 8 of 24 for this parallel run (total 120)...Building estimator 7 of 24 for this parallel run (total 120)...\n",
      "\n",
      "Building estimator 7 of 24 for this parallel run (total 120)...\n",
      "Building estimator 8 of 24 for this parallel run (total 120)...\n",
      "Building estimator 8 of 24 for this parallel run (total 120)...\n",
      "Building estimator 8 of 24 for this parallel run (total 120)...\n",
      "Building estimator 9 of 24 for this parallel run (total 120)...\n",
      "Building estimator 8 of 24 for this parallel run (total 120)...\n",
      "Building estimator 9 of 24 for this parallel run (total 120)...\n",
      "Building estimator 9 of 24 for this parallel run (total 120)...\n",
      "Building estimator 9 of 24 for this parallel run (total 120)...\n",
      "Building estimator 10 of 24 for this parallel run (total 120)...\n",
      "Building estimator 9 of 24 for this parallel run (total 120)...\n",
      "Building estimator 10 of 24 for this parallel run (total 120)...\n",
      "Building estimator 10 of 24 for this parallel run (total 120)...\n",
      "Building estimator 10 of 24 for this parallel run (total 120)...\n",
      "Building estimator 11 of 24 for this parallel run (total 120)...\n",
      "Building estimator 11 of 24 for this parallel run (total 120)...\n",
      "Building estimator 10 of 24 for this parallel run (total 120)...Building estimator 11 of 24 for this parallel run (total 120)...\n",
      "\n",
      "Building estimator 12 of 24 for this parallel run (total 120)...\n",
      "Building estimator 11 of 24 for this parallel run (total 120)...\n",
      "Building estimator 12 of 24 for this parallel run (total 120)...Building estimator 11 of 24 for this parallel run (total 120)...\n",
      "\n",
      "Building estimator 12 of 24 for this parallel run (total 120)...Building estimator 12 of 24 for this parallel run (total 120)...\n",
      "\n",
      "Building estimator 13 of 24 for this parallel run (total 120)...\n",
      "Building estimator 13 of 24 for this parallel run (total 120)...\n",
      "Building estimator 12 of 24 for this parallel run (total 120)...\n",
      "Building estimator 13 of 24 for this parallel run (total 120)...Building estimator 13 of 24 for this parallel run (total 120)...\n",
      "Building estimator 14 of 24 for this parallel run (total 120)...\n",
      "\n",
      "Building estimator 14 of 24 for this parallel run (total 120)...\n",
      "Building estimator 13 of 24 for this parallel run (total 120)...\n",
      "Building estimator 15 of 24 for this parallel run (total 120)...\n",
      "Building estimator 14 of 24 for this parallel run (total 120)...\n",
      "Building estimator 14 of 24 for this parallel run (total 120)...Building estimator 15 of 24 for this parallel run (total 120)...\n",
      "\n",
      "Building estimator 14 of 24 for this parallel run (total 120)...\n",
      "Building estimator 16 of 24 for this parallel run (total 120)...\n",
      "Building estimator 15 of 24 for this parallel run (total 120)...\n",
      "Building estimator 15 of 24 for this parallel run (total 120)...\n",
      "Building estimator 16 of 24 for this parallel run (total 120)...\n",
      "Building estimator 15 of 24 for this parallel run (total 120)...\n",
      "Building estimator 17 of 24 for this parallel run (total 120)...\n",
      "Building estimator 16 of 24 for this parallel run (total 120)...Building estimator 16 of 24 for this parallel run (total 120)...\n",
      "\n",
      "Building estimator 17 of 24 for this parallel run (total 120)...\n",
      "Building estimator 16 of 24 for this parallel run (total 120)...\n",
      "Building estimator 18 of 24 for this parallel run (total 120)...\n",
      "Building estimator 17 of 24 for this parallel run (total 120)...Building estimator 17 of 24 for this parallel run (total 120)...\n",
      "\n",
      "Building estimator 17 of 24 for this parallel run (total 120)...\n",
      "Building estimator 18 of 24 for this parallel run (total 120)...\n",
      "Building estimator 19 of 24 for this parallel run (total 120)...\n",
      "Building estimator 18 of 24 for this parallel run (total 120)...\n",
      "Building estimator 19 of 24 for this parallel run (total 120)...\n",
      "Building estimator 18 of 24 for this parallel run (total 120)...Building estimator 18 of 24 for this parallel run (total 120)...\n",
      "\n",
      "Building estimator 20 of 24 for this parallel run (total 120)...\n",
      "Building estimator 19 of 24 for this parallel run (total 120)...\n",
      "Building estimator 20 of 24 for this parallel run (total 120)...\n",
      "Building estimator 19 of 24 for this parallel run (total 120)...Building estimator 19 of 24 for this parallel run (total 120)...\n",
      "\n",
      "Building estimator 21 of 24 for this parallel run (total 120)...Building estimator 20 of 24 for this parallel run (total 120)...\n",
      "\n",
      "Building estimator 21 of 24 for this parallel run (total 120)...\n",
      "Building estimator 20 of 24 for this parallel run (total 120)...\n",
      "Building estimator 20 of 24 for this parallel run (total 120)...\n",
      "Building estimator 22 of 24 for this parallel run (total 120)...Building estimator 21 of 24 for this parallel run (total 120)...\n",
      "\n",
      "Building estimator 22 of 24 for this parallel run (total 120)...\n",
      "Building estimator 21 of 24 for this parallel run (total 120)...\n",
      "Building estimator 21 of 24 for this parallel run (total 120)...\n",
      "Building estimator 22 of 24 for this parallel run (total 120)...\n",
      "Building estimator 23 of 24 for this parallel run (total 120)...\n",
      "Building estimator 23 of 24 for this parallel run (total 120)...\n",
      "Building estimator 22 of 24 for this parallel run (total 120)...\n",
      "Building estimator 22 of 24 for this parallel run (total 120)...\n",
      "Building estimator 23 of 24 for this parallel run (total 120)...\n",
      "Building estimator 24 of 24 for this parallel run (total 120)...Building estimator 23 of 24 for this parallel run (total 120)...\n",
      "Building estimator 24 of 24 for this parallel run (total 120)...\n",
      "\n",
      "Building estimator 23 of 24 for this parallel run (total 120)...\n",
      "Building estimator 24 of 24 for this parallel run (total 120)...\n",
      "Building estimator 24 of 24 for this parallel run (total 120)...\n",
      "Building estimator 24 of 24 for this parallel run (total 120)...\n"
     ]
    },
    {
     "name": "stderr",
     "output_type": "stream",
     "text": [
      "[Parallel(n_jobs=5)]: Done   2 out of   5 | elapsed:    2.8s remaining:    4.1s\n",
      "[Parallel(n_jobs=5)]: Done   5 out of   5 | elapsed:    2.8s remaining:    0.0s\n",
      "[Parallel(n_jobs=5)]: Done   5 out of   5 | elapsed:    2.8s finished\n"
     ]
    },
    {
     "name": "stdout",
     "output_type": "stream",
     "text": [
      "Time: 986.2753418379999 seconds\n",
      "\n",
      "Time: 16.437922363966667 minutes\n",
      "\n"
     ]
    }
   ],
   "source": [
    "from sklearn.model_selection import GridSearchCV, StratifiedKFold\n",
    "from sklearn.metrics import f1_score, make_scorer\n",
    "\n",
    "# Grid Search over contamination fraction\n",
    "skf = StratifiedKFold(n_splits=3) \n",
    "folds = list(skf.split(x_train, y_train))\n",
    "\n",
    "forest = IsolationForest()\n",
    "forest.contamination = anomaly_rate\n",
    "\n",
    "f1sc = make_scorer(f1_score, average='micro')\n",
    "\n",
    "parameters = {'n_estimators': (80, 90, 100, 110, 120), 'max_samples':[256, 384, 'auto'], 'verbose':[2], 'n_jobs':[5]}\n",
    "search = GridSearchCV(estimator=forest, param_grid=parameters, scoring=f1sc, cv=folds)\n",
    "\n",
    "start = timeit.default_timer()\n",
    "search.fit(x_train, y_train)\n",
    "stop = timeit.default_timer()\n",
    "\n",
    "runtime = stop - start\n",
    "\n",
    "print(\"Time: {} seconds\\n\".format(runtime))\n",
    "print(\"Time: {} minutes\\n\".format(runtime/60))"
   ]
  },
  {
   "cell_type": "code",
   "execution_count": 12,
   "metadata": {},
   "outputs": [
    {
     "data": {
      "text/plain": [
       "{'max_samples': 'auto', 'n_estimators': 120, 'n_jobs': 5, 'verbose': 2}"
      ]
     },
     "execution_count": 12,
     "metadata": {},
     "output_type": "execute_result"
    }
   ],
   "source": [
    "param = search.best_params_\n",
    "param"
   ]
  },
  {
   "cell_type": "code",
   "execution_count": 13,
   "metadata": {},
   "outputs": [
    {
     "name": "stdout",
     "output_type": "stream",
     "text": [
      "Time: 28.34471996100001 seconds\n",
      "\n"
     ]
    }
   ],
   "source": [
    "iforest_clf = IsolationForest(n_estimators=param['n_estimators'], max_samples=param['max_samples'], contamination=anomaly_rate)\n",
    "\n",
    "start = timeit.default_timer()\n",
    "iforest_clf.fit(x_train)\n",
    "stop = timeit.default_timer()\n",
    "\n",
    "print(\"Time: {} seconds\\n\".format(stop - start))"
   ]
  },
  {
   "cell_type": "code",
   "execution_count": 14,
   "metadata": {},
   "outputs": [
    {
     "data": {
      "text/plain": [
       "{'best_auc': 0.9494228959763339,\n",
       " 'best_auc_threshold': 0.0823334457549226,\n",
       " 'best_f1_score': 0.8703271028037384,\n",
       " 'best_f1_score_threshold': -0.027666554245077402}"
      ]
     },
     "execution_count": 14,
     "metadata": {},
     "output_type": "execute_result"
    }
   ],
   "source": [
    "y_scores = iforest_clf.decision_function(x_test)\n",
    "y_truth = y_test.values == cfg.label_anomaly_idx\n",
    "\n",
    "res, fpr_values, tpr_values = du.calc_best_threshold(y_truth, y_scores)\n",
    "res"
   ]
  },
  {
   "cell_type": "code",
   "execution_count": 15,
   "metadata": {},
   "outputs": [
    {
     "data": {
      "image/png": "[encoded data removed]",
      "text/plain": [
       "<Figure size 1080x720 with 1 Axes>"
      ]
     },
     "metadata": {
      "needs_background": "light"
     },
     "output_type": "display_data"
    }
   ],
   "source": [
    "plt.figure(figsize=(15, 10))\n",
    "plt.hist(y_scores, bins=90)\n",
    "plt.xlabel('Mittlere Pfadlänge', fontsize=14)\n",
    "plt.ylabel('Anzahl Log-Statements', fontsize=14)\n",
    "plt.show()"
   ]
  },
  {
   "cell_type": "code",
   "execution_count": 16,
   "metadata": {},
   "outputs": [
    {
     "name": "stdout",
     "output_type": "stream",
     "text": [
      "AUC: 90.51%\n"
     ]
    }
   ],
   "source": [
    "y_predictions = y_scores < 0\n",
    "y_truth = y_test.values == cfg.label_anomaly_idx\n",
    "    \n",
    "auc = roc_auc_score(y_truth, y_predictions)\n",
    "print(\"AUC: {:.2%}\".format (auc))"
   ]
  },
  {
   "cell_type": "code",
   "execution_count": 17,
   "metadata": {},
   "outputs": [
    {
     "data": {
      "text/plain": [
       "{'total': 200000,\n",
       " 'tot_anomaly': 947,\n",
       " 'tot_normal': 199053,\n",
       " 'tpr_recall': 0.9450897571277719,\n",
       " 'precision': 0.08861386138613861,\n",
       " 'accuracy': 0.953715,\n",
       " 'f1_score': 0.1620349416131076,\n",
       " 'fnr': 0.054910242872228086,\n",
       " 'tnr': 0.9537560348248959,\n",
       " 'fpr': 0.04624396517510412,\n",
       " 'conf_matrix': [[895, 9205], [52, 189848]],\n",
       " 'auc': 0.9494228959763339}"
      ]
     },
     "execution_count": 17,
     "metadata": {},
     "output_type": "execute_result"
    }
   ],
   "source": [
    "y_predictions = y_scores < res['best_auc_threshold']\n",
    "res_2 = du.calc_metrics(y_truth, y_predictions)\n",
    "res_2"
   ]
  },
  {
   "cell_type": "code",
   "execution_count": 18,
   "metadata": {},
   "outputs": [
    {
     "data": {
      "text/plain": [
       "{'total': 200000,\n",
       " 'tot_anomaly': 947,\n",
       " 'tot_normal': 199053,\n",
       " 'tpr_recall': 0.7866948257655755,\n",
       " 'precision': 0.9738562091503268,\n",
       " 'accuracy': 0.99889,\n",
       " 'f1_score': 0.8703271028037384,\n",
       " 'fnr': 0.2133051742344245,\n",
       " 'tnr': 0.999899524247311,\n",
       " 'fpr': 0.00010047575268898233,\n",
       " 'conf_matrix': [[745, 20], [202, 199033]],\n",
       " 'auc': 0.8932971750064432}"
      ]
     },
     "execution_count": 18,
     "metadata": {},
     "output_type": "execute_result"
    }
   ],
   "source": [
    "y_predictions = y_scores < res['best_f1_score_threshold']\n",
    "res_3 = du.calc_metrics(y_truth, y_predictions)\n",
    "res_3"
   ]
  },
  {
   "cell_type": "code",
   "execution_count": 19,
   "metadata": {},
   "outputs": [
    {
     "data": {
      "image/png": "[encoded data removed]",
      "text/plain": [
       "<Figure size 432x288 with 1 Axes>"
      ]
     },
     "metadata": {
      "needs_background": "light"
     },
     "output_type": "display_data"
    }
   ],
   "source": [
    "plt.figure()\n",
    "plt.plot(fpr_values, tpr_values, color='darkorange',\n",
    "         lw=2, label='ROC curve (area = %0.2f)' % (100*res_3['auc']))\n",
    "plt.plot([0, 1], [0, 1], color='navy', lw=2, linestyle='--')\n",
    "plt.xlim([-0.05, 1.0])\n",
    "plt.ylim([0.0, 1.05])\n",
    "plt.xlabel('False Positive Rate')\n",
    "plt.ylabel('True Positive Rate')\n",
    "plt.title('Receiver operating characteristic')\n",
    "plt.legend(loc=\"lower right\")\n",
    "plt.show()"
   ]
  },
  {
   "cell_type": "markdown",
   "metadata": {},
   "source": [
    "## Persist the classifier"
   ]
  },
  {
   "cell_type": "code",
   "execution_count": 20,
   "metadata": {},
   "outputs": [
    {
     "data": {
      "text/plain": [
       "['./../shared/models/iforest/optimized_iforest_encoder_all.pkl']"
      ]
     },
     "execution_count": 20,
     "metadata": {},
     "output_type": "execute_result"
    }
   ],
   "source": [
    "path_clf = './../../shared/models/iforest/optimized_iforest_encoded_clf_all.pkl'\n",
    "path_enc = './../../shared/models/iforest/optimized_iforest_encoder_all.pkl'\n",
    "\n",
    "# save the classifier to disk\n",
    "joblib.dump(iforest_clf, path_clf)\n",
    "joblib.dump(encoder, path_enc)"
   ]
  },
  {
   "cell_type": "markdown",
   "metadata": {},
   "source": [
    "## Reload the classifier and predict\n",
    "predict again to test if all works fine"
   ]
  },
  {
   "cell_type": "code",
   "execution_count": 21,
   "metadata": {},
   "outputs": [],
   "source": [
    "# load the classifier from disk\n",
    "loaded_clf = joblib.load(path_clf)"
   ]
  },
  {
   "cell_type": "code",
   "execution_count": 22,
   "metadata": {},
   "outputs": [
    {
     "data": {
      "image/png": "[encoded data removed]",
      "text/plain": [
       "<Figure size 1080x720 with 1 Axes>"
      ]
     },
     "metadata": {
      "needs_background": "light"
     },
     "output_type": "display_data"
    }
   ],
   "source": [
    "y_scores = loaded_clf.decision_function(x_test)\n",
    "\n",
    "plt.figure(figsize=(15, 10))\n",
    "plt.hist(y_scores, bins=90)\n",
    "plt.xlabel('Mittlere Pfadlänge', fontsize=14)\n",
    "plt.ylabel('Anzahl Log-Statements', fontsize=14)\n",
    "plt.show()"
   ]
  },
  {
   "cell_type": "code",
   "execution_count": 23,
   "metadata": {},
   "outputs": [
    {
     "data": {
      "text/plain": [
       "{'total': 200000,\n",
       " 'tot_anomaly': 947,\n",
       " 'tot_normal': 199053,\n",
       " 'tpr_recall': 0.7866948257655755,\n",
       " 'precision': 0.9738562091503268,\n",
       " 'accuracy': 0.99889,\n",
       " 'f1_score': 0.8703271028037384,\n",
       " 'fnr': 0.2133051742344245,\n",
       " 'tnr': 0.999899524247311,\n",
       " 'fpr': 0.00010047575268898233,\n",
       " 'conf_matrix': [[745, 20], [202, 199033]],\n",
       " 'auc': 0.8932971750064432}"
      ]
     },
     "execution_count": 23,
     "metadata": {},
     "output_type": "execute_result"
    }
   ],
   "source": [
    "y_predictions = y_scores < res['best_f1_score_threshold']\n",
    "res_4 = du.calc_metrics(y_truth, y_predictions)\n",
    "res_4"
   ]
  },
  {
   "cell_type": "code",
   "execution_count": null,
   "metadata": {},
   "outputs": [],
   "source": []
  }
 ],
 "metadata": {
  "kernelspec": {
   "display_name": "Python 3",
   "language": "python",
   "name": "python3"
  },
  "language_info": {
   "codemirror_mode": {
    "name": "ipython",
    "version": 3
   },
   "file_extension": ".py",
   "mimetype": "text/x-python",
   "name": "python",
   "nbconvert_exporter": "python",
   "pygments_lexer": "ipython3",
   "version": "3.7.5"
  }
 },
 "nbformat": 4,
 "nbformat_minor": 2
}
