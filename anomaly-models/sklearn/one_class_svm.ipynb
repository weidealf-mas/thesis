{
 "cells": [
  {
   "cell_type": "code",
   "execution_count": 1,
   "metadata": {},
   "outputs": [],
   "source": [
    "import sys\n",
    "sys.path.append('../../ml_utils')\n",
    "\n",
    "import config as cfg\n",
    "import data_utils as du\n",
    "import numpy as np\n",
    "import pandas as pd\n",
    "import timeit\n",
    "import matplotlib.pyplot as plt\n",
    "import joblib\n",
    "import sklearn\n",
    "\n",
    "from sklearn.svm import OneClassSVM\n",
    "from sklearn.model_selection import train_test_split\n",
    "from sklearn.metrics import roc_auc_score, f1_score\n",
    "\n",
    "%matplotlib inline"
   ]
  },
  {
   "cell_type": "code",
   "execution_count": 2,
   "metadata": {},
   "outputs": [
    {
     "name": "stdout",
     "output_type": "stream",
     "text": [
      "joblib (0.14.1): 0.14.1\n",
      "\n",
      "numpy (1.17.4): 1.17.4\n",
      "\n",
      "pandas (0.25.3): 0.25.3\n",
      "\n",
      "sklearn (0.22): 0.22\n",
      "\n"
     ]
    }
   ],
   "source": [
    "print(\"joblib (0.14.1): {}\\n\".format(joblib.__version__))\n",
    "print(\"numpy (1.17.4): {}\\n\".format(np.__version__))\n",
    "print(\"pandas (0.25.3): {}\\n\".format(pd.__version__))\n",
    "print(\"sklearn (0.22): {}\\n\".format(sklearn.__version__))"
   ]
  },
  {
   "cell_type": "code",
   "execution_count": 3,
   "metadata": {},
   "outputs": [
    {
     "name": "stdout",
     "output_type": "stream",
     "text": [
      "Original data frame size: (12417597, 31)\n",
      "\n",
      "Time: 39.43312058299853 seconds\n",
      "\n"
     ]
    }
   ],
   "source": [
    "log_data = './../../shared/data/swissid_authorize_logs_april_to_sept_2019.csv'\n",
    "\n",
    "start = timeit.default_timer()\n",
    "df = pd.read_csv(filepath_or_buffer=log_data, header=0, sep='\\t', names=cfg.complete_feature_list, index_col=None)\n",
    "stop = timeit.default_timer()\n",
    "\n",
    "print(\"Original data frame size: {}\\n\".format(df.shape))\n",
    "print(\"Time: {} seconds\\n\".format(stop - start))"
   ]
  },
  {
   "cell_type": "code",
   "execution_count": 4,
   "metadata": {},
   "outputs": [
    {
     "name": "stdout",
     "output_type": "stream",
     "text": [
      "columns with NaN: loc_country_code\n",
      "loc_country_code is fixed\n"
     ]
    }
   ],
   "source": [
    "df = du.clean_data(df)"
   ]
  },
  {
   "cell_type": "markdown",
   "metadata": {},
   "source": [
    "Build the feature list"
   ]
  },
  {
   "cell_type": "code",
   "execution_count": 5,
   "metadata": {},
   "outputs": [],
   "source": [
    "features = ['label_nr', 'src_software_sub_type', 'src_operating_system_name', 'src_hardware_type', 'response_status_code', \n",
    "            'oidc_client_id', 'oidc_scopes', 'oidc_ui_locales', 'loc_city', 'loc_country_code', 'date_weekday']\n",
    "\n",
    "excludes = list(set(df.columns.tolist()) - set(features))"
   ]
  },
  {
   "cell_type": "code",
   "execution_count": 6,
   "metadata": {},
   "outputs": [
    {
     "name": "stdout",
     "output_type": "stream",
     "text": [
      "reduced data frame size: (12204748, 11)\n",
      "\n"
     ]
    }
   ],
   "source": [
    "reduced_df = du.reduce_features(df, excludes)\n",
    "\n",
    "print(\"reduced data frame size: {}\\n\".format(reduced_df.shape))\n",
    "#display(reduced_df)"
   ]
  },
  {
   "cell_type": "markdown",
   "metadata": {},
   "source": [
    "Look at the 'label' distribution"
   ]
  },
  {
   "cell_type": "code",
   "execution_count": 7,
   "metadata": {},
   "outputs": [
    {
     "name": "stdout",
     "output_type": "stream",
     "text": [
      "2    7412813\n",
      "0    4769169\n",
      "1      22766\n",
      "Name: label_nr, dtype: int64\n"
     ]
    }
   ],
   "source": [
    "print(reduced_df['label_nr'].value_counts())"
   ]
  },
  {
   "cell_type": "markdown",
   "metadata": {},
   "source": [
    "Build the training, test, validation and novelties data frames. But before we shuffling the data 3 times and encode all categorial data."
   ]
  },
  {
   "cell_type": "code",
   "execution_count": 8,
   "metadata": {},
   "outputs": [
    {
     "name": "stdout",
     "output_type": "stream",
     "text": [
      "shuffling data...\n",
      "encode dataframe...\n",
      "encoding src_operating_system_name\n",
      "encoding src_software_sub_type\n",
      "encoding src_hardware_type\n",
      "encoding oidc_client_id\n",
      "encoding oidc_scopes\n",
      "encoding oidc_ui_locales\n",
      "encoding loc_city\n",
      "encoding loc_country_code\n",
      "build data sets...\n",
      "Time: 31.774012989000767 seconds\n",
      "\n",
      "Time: 0.5295668831500128 minutes\n",
      "\n"
     ]
    }
   ],
   "source": [
    "training_size = 500000\n",
    "validation_size = 100000\n",
    "novelties_size = 40000\n",
    "\n",
    "exclude = ['label_nr']\n",
    "\n",
    "start = timeit.default_timer()\n",
    "X_df, y_df, X_val_df, y_val_df, X_nov_df, y_nov_df, encoder = du.build_normal_and_novelty_sample_df(reduced_df, training_size, validation_size, novelties_size, exclude)\n",
    "stop = timeit.default_timer()\n",
    "\n",
    "runtime = stop - start\n",
    "\n",
    "print(\"Time: {} seconds\\n\".format(runtime))\n",
    "print(\"Time: {} minutes\\n\".format(runtime/60))"
   ]
  },
  {
   "cell_type": "code",
   "execution_count": 9,
   "metadata": {},
   "outputs": [
    {
     "name": "stdout",
     "output_type": "stream",
     "text": [
      "x_df size: (500000, 10)\n",
      "\n",
      "0    500000\n",
      "Name: label_nr, dtype: int64\n",
      "\n",
      "x_val_df size: (100000, 10)\n",
      "\n",
      "0    100000\n",
      "Name: label_nr, dtype: int64\n",
      "\n",
      "x_nov_df size: (40000, 10)\n",
      "\n",
      "1    20000\n",
      "0    20000\n",
      "Name: label_nr, dtype: int64\n"
     ]
    }
   ],
   "source": [
    "print(\"x_df size: {}\\n\".format(X_df.shape))\n",
    "print(y_df.value_counts())\n",
    "print()\n",
    "\n",
    "print(\"x_val_df size: {}\\n\".format(X_val_df.shape))\n",
    "print(y_val_df.value_counts())\n",
    "print()\n",
    "\n",
    "print(\"x_nov_df size: {}\\n\".format(X_nov_df.shape))\n",
    "print(y_nov_df.value_counts())"
   ]
  },
  {
   "cell_type": "markdown",
   "metadata": {},
   "source": [
    "Split the training sample 80% / 20%"
   ]
  },
  {
   "cell_type": "code",
   "execution_count": 10,
   "metadata": {},
   "outputs": [
    {
     "name": "stdout",
     "output_type": "stream",
     "text": [
      "Shapes:\n",
      "x_train:(400000, 10)\n",
      "y_train:(400000,)\n",
      "\n",
      "x_test:(100000, 10)\n",
      "y_test:(100000,)\n",
      "\n"
     ]
    }
   ],
   "source": [
    "x_train, x_test, y_train, y_test = train_test_split(X_df, y_df, test_size = 0.2, random_state = 42)\n",
    "print(\"Shapes:\\nx_train:%s\\ny_train:%s\\n\" % (x_train.shape, y_train.shape))\n",
    "print(\"x_test:%s\\ny_test:%s\\n\" % (x_test.shape, y_test.shape))"
   ]
  },
  {
   "cell_type": "markdown",
   "metadata": {},
   "source": [
    "### Hyperparameter optimization"
   ]
  },
  {
   "cell_type": "code",
   "execution_count": 11,
   "metadata": {},
   "outputs": [
    {
     "name": "stdout",
     "output_type": "stream",
     "text": [
      "[LibSVM][LibSVM][LibSVM][LibSVM][LibSVM][LibSVM][LibSVM][LibSVM][LibSVM][LibSVM][LibSVM][LibSVM][LibSVM][LibSVM][LibSVM][LibSVM][LibSVM][LibSVM][LibSVM][LibSVM][LibSVM][LibSVM][LibSVM][LibSVM][LibSVM][LibSVM][LibSVM][LibSVM][LibSVM][LibSVM][LibSVM][LibSVM][LibSVM][LibSVM][LibSVM][LibSVM][LibSVM][LibSVM][LibSVM][LibSVM][LibSVM][LibSVM][LibSVM][LibSVM][LibSVM][LibSVM][LibSVM][LibSVM][LibSVM][LibSVM][LibSVM][LibSVM][LibSVM][LibSVM][LibSVM][LibSVM][LibSVM][LibSVM][LibSVM][LibSVM][LibSVM][LibSVM][LibSVM][LibSVM][LibSVM][LibSVM][LibSVM][LibSVM][LibSVM][LibSVM][LibSVM][LibSVM][LibSVM][LibSVM][LibSVM][LibSVM][LibSVM][LibSVM][LibSVM][LibSVM][LibSVM][LibSVM][LibSVM][LibSVM][LibSVM][LibSVM][LibSVM][LibSVM][LibSVM][LibSVM][LibSVM][LibSVM][LibSVM][LibSVM][LibSVM][LibSVM][LibSVM][LibSVM][LibSVM][LibSVM][LibSVM][LibSVM][LibSVM][LibSVM][LibSVM][LibSVM][LibSVM][LibSVM][LibSVM][LibSVM][LibSVM][LibSVM][LibSVM][LibSVM][LibSVM][LibSVM][LibSVM][LibSVM][LibSVM][LibSVM][LibSVM][LibSVM][LibSVM][LibSVM][LibSVM][LibSVM][LibSVM][LibSVM][LibSVM][LibSVM][LibSVM][LibSVM][LibSVM][LibSVM][LibSVM][LibSVM][LibSVM][LibSVM][LibSVM][LibSVM][LibSVM][LibSVM][LibSVM][LibSVM][LibSVM][LibSVM][LibSVM][LibSVM][LibSVM][LibSVM][LibSVM][LibSVM][LibSVM][LibSVM][LibSVM][LibSVM][LibSVM][LibSVM][LibSVM][LibSVM][LibSVM][LibSVM][LibSVM][LibSVM][LibSVM][LibSVM][LibSVM][LibSVM][LibSVM][LibSVM][LibSVM][LibSVM][LibSVM][LibSVM][LibSVM][LibSVM][LibSVM][LibSVM][LibSVM][LibSVM][LibSVM][LibSVM][LibSVM][LibSVM][LibSVM][LibSVM][LibSVM][LibSVM][LibSVM][LibSVM][LibSVM][LibSVM][LibSVM][LibSVM][LibSVM][LibSVM][LibSVM][LibSVM][LibSVM][LibSVM][LibSVM][LibSVM][LibSVM][LibSVM][LibSVM][LibSVM][LibSVM][LibSVM][LibSVM][LibSVM][LibSVM][LibSVM][LibSVM][LibSVM][LibSVM][LibSVM][LibSVM][LibSVM][LibSVM][LibSVM][LibSVM][LibSVM][LibSVM][LibSVM][LibSVM][LibSVM][LibSVM][LibSVM][LibSVM][LibSVM][LibSVM][LibSVM][LibSVM][LibSVM][LibSVM][LibSVM][LibSVM][LibSVM][LibSVM][LibSVM][LibSVM][LibSVM][LibSVM][LibSVM][LibSVM][LibSVM][LibSVM][LibSVM][LibSVM][LibSVM][LibSVM][LibSVM][LibSVM][LibSVM][LibSVM][LibSVM][LibSVM][LibSVM][LibSVM][LibSVM][LibSVM][LibSVM][LibSVM][LibSVM][LibSVM][LibSVM][LibSVM][LibSVM][LibSVM][LibSVM][LibSVM][LibSVM][LibSVM][LibSVM][LibSVM][LibSVM][LibSVM][LibSVM][LibSVM][LibSVM][LibSVM][LibSVM][LibSVM][LibSVM][LibSVM][LibSVM][LibSVM][LibSVM][LibSVM][LibSVM][LibSVM][LibSVM][LibSVM][LibSVM][LibSVM][LibSVM][LibSVM][LibSVM][LibSVM][LibSVM][LibSVM][LibSVM][LibSVM][LibSVM][LibSVM][LibSVM][LibSVM][LibSVM][LibSVM][LibSVM][LibSVM][LibSVM][LibSVM][LibSVM][LibSVM][LibSVM][LibSVM][LibSVM][LibSVM][LibSVM][LibSVM][LibSVM][LibSVM][LibSVM][LibSVM][LibSVM][LibSVM][LibSVM][LibSVM][LibSVM][LibSVM][LibSVM][LibSVM][LibSVM][LibSVM][LibSVM][LibSVM][LibSVM][LibSVM][LibSVM][LibSVM][LibSVM][LibSVM][LibSVM][LibSVM][LibSVM][LibSVM][LibSVM][LibSVM][LibSVM][LibSVM][LibSVM][LibSVM][LibSVM][LibSVM][LibSVM][LibSVM][LibSVM][LibSVM][LibSVM][LibSVM][LibSVM][LibSVM][LibSVM][LibSVM][LibSVM][LibSVM][LibSVM][LibSVM][LibSVM][LibSVM][LibSVM][LibSVM][LibSVM][LibSVM][LibSVM][LibSVM][LibSVM][LibSVM][LibSVM][LibSVM][LibSVM][LibSVM][LibSVM][LibSVM][LibSVM][LibSVM][LibSVM][LibSVM][LibSVM][LibSVM][LibSVM][LibSVM][LibSVM][LibSVM][LibSVM][LibSVM][LibSVM][LibSVM][LibSVM][LibSVM][LibSVM][LibSVM][LibSVM][LibSVM][LibSVM][LibSVM][LibSVM][LibSVM][LibSVM][LibSVM][LibSVM][LibSVM][LibSVM][LibSVM][LibSVM][LibSVM][LibSVM][LibSVM][LibSVM][LibSVM][LibSVM][LibSVM][LibSVM][LibSVM][LibSVM][LibSVM][LibSVM][LibSVM][LibSVM][LibSVM][LibSVM][LibSVM][LibSVM][LibSVM][LibSVM][LibSVM][LibSVM][LibSVM][LibSVM][LibSVM][LibSVM][LibSVM][LibSVM][LibSVM][LibSVM][LibSVM][LibSVM][LibSVM][LibSVM][LibSVM][LibSVM][LibSVM][LibSVM][LibSVM][LibSVM][LibSVM][LibSVM][LibSVM][LibSVM][LibSVM][LibSVM][LibSVM][LibSVM][LibSVM][LibSVM][LibSVM][LibSVM][LibSVM][LibSVM][LibSVM][LibSVM][LibSVM][LibSVM][LibSVM][LibSVM][LibSVM][LibSVM][LibSVM][LibSVM][LibSVM]Time: 969.2112539230002 seconds\n",
      "\n",
      "Time: 16.15352089871667 minutes\n",
      "\n",
      "Best parameters set:\n",
      "{'cache_size': 10000, 'gamma': 5e-05, 'kernel': 'rbf', 'nu': 0.001, 'verbose': 1}\n"
     ]
    }
   ],
   "source": [
    "from sklearn.model_selection import GridSearchCV\n",
    "from sklearn.metrics import f1_score\n",
    "\n",
    "parameters = {'kernel' : ['rbf', 'poly'], 'gamma' : [0.00005, 0.001, 0.01, 0.1, 1, 'scale'], 'nu': [0.001, 0.01, 0.1, 1],\n",
    "              'verbose':[1], 'cache_size' : [10000]}\n",
    "search = GridSearchCV(OneClassSVM(), parameters, cv=10, scoring='f1_micro', return_train_score=True)\n",
    "\n",
    "count = 15000\n",
    "\n",
    "start = timeit.default_timer()\n",
    "search.fit(x_train[:count], y_train[:count])\n",
    "stop = timeit.default_timer()\n",
    "\n",
    "runtime = stop - start\n",
    "\n",
    "print(\"Time: {} seconds\\n\".format(runtime))\n",
    "print(\"Time: {} minutes\\n\".format(runtime/60))\n",
    "\n",
    "result_df = pd.DataFrame(search.cv_results_)\n",
    "\n",
    "print(\"Best parameters set:\")\n",
    "params = search.best_params_\n",
    "print(params)\n",
    "\n",
    "#result_df"
   ]
  },
  {
   "cell_type": "markdown",
   "metadata": {},
   "source": [
    "### Fit the data with the One-Class-SVM algorithm based on GridSearchCV output"
   ]
  },
  {
   "cell_type": "code",
   "execution_count": 23,
   "metadata": {},
   "outputs": [
    {
     "name": "stdout",
     "output_type": "stream",
     "text": [
      "Time: 2207.910177672 seconds\n",
      "\n",
      "Time: 36.7985029612 minutes\n",
      "\n"
     ]
    }
   ],
   "source": [
    "ocsvm_clf = OneClassSVM(kernel='rbf', gamma=0.00005, nu=0.001, cache_size=5000)\n",
    "#ocsvm_clf = OneClassSVM(kernel='rbf', gamma=0.00005, nu=0.1, cache_size=5000)\n",
    "\n",
    "start = timeit.default_timer()\n",
    "ocsvm_clf.fit(x_train)\n",
    "stop = timeit.default_timer()\n",
    "\n",
    "runtime = stop - start\n",
    "\n",
    "print(\"Time: {} seconds\\n\".format(runtime))\n",
    "print(\"Time: {} minutes\\n\".format(runtime/60))"
   ]
  },
  {
   "cell_type": "markdown",
   "metadata": {},
   "source": [
    "Predict the test data set and calculate the accuracy.\n",
    "Normal are labeled 1, while anomalies are labeled -1"
   ]
  },
  {
   "cell_type": "code",
   "execution_count": 24,
   "metadata": {},
   "outputs": [
    {
     "name": "stdout",
     "output_type": "stream",
     "text": [
      "Accuracy: 89.75%\n",
      "Time: 90.37157414400099 seconds\n",
      "\n"
     ]
    }
   ],
   "source": [
    "start = timeit.default_timer()\n",
    "predictions = ocsvm_clf.predict(x_test)\n",
    "stop = timeit.default_timer()\n",
    "\n",
    "accuracy = du.calculate_accuracy_normal_df(y_test, predictions)\n",
    "print(\"Accuracy: {:.2%}\".format(accuracy))\n",
    "print(\"Time: {} seconds\\n\".format(stop - start))"
   ]
  },
  {
   "cell_type": "markdown",
   "metadata": {},
   "source": [
    "Predict the validation data set and calculate the accuracy."
   ]
  },
  {
   "cell_type": "code",
   "execution_count": 25,
   "metadata": {},
   "outputs": [
    {
     "name": "stdout",
     "output_type": "stream",
     "text": [
      "Accuracy: 89.68%\n",
      "Time: 90.23974452100083 seconds\n",
      "\n"
     ]
    }
   ],
   "source": [
    "start = timeit.default_timer()\n",
    "predictions = ocsvm_clf.predict(X_val_df)\n",
    "stop = timeit.default_timer()\n",
    "\n",
    "accuracy = du.calculate_accuracy_normal_df(y_val_df, predictions)\n",
    "print(\"Accuracy: {:.2%}\".format(accuracy))\n",
    "print(\"Time: {} seconds\\n\".format(stop - start))"
   ]
  },
  {
   "cell_type": "markdown",
   "metadata": {},
   "source": [
    "This shows the bad ones:"
   ]
  },
  {
   "cell_type": "code",
   "execution_count": 26,
   "metadata": {},
   "outputs": [
    {
     "data": {
      "text/plain": [
       "11384417    1\n",
       "12008254    1\n",
       "12027725    1\n",
       "5815366     1\n",
       "8403416     1\n",
       "Name: label_nr, dtype: int64"
      ]
     },
     "execution_count": 26,
     "metadata": {},
     "output_type": "execute_result"
    }
   ],
   "source": [
    "y_nov_df.head(5)"
   ]
  },
  {
   "cell_type": "markdown",
   "metadata": {},
   "source": [
    "This show the good ones:"
   ]
  },
  {
   "cell_type": "code",
   "execution_count": 27,
   "metadata": {},
   "outputs": [
    {
     "data": {
      "text/plain": [
       "1597323    0\n",
       "6850493    0\n",
       "6463607    0\n",
       "9670202    0\n",
       "965739     0\n",
       "Name: label_nr, dtype: int64"
      ]
     },
     "execution_count": 27,
     "metadata": {},
     "output_type": "execute_result"
    }
   ],
   "source": [
    "y_nov_df.tail(5)"
   ]
  },
  {
   "cell_type": "markdown",
   "metadata": {},
   "source": [
    "Now predict totally new and mixed data:"
   ]
  },
  {
   "cell_type": "code",
   "execution_count": 28,
   "metadata": {},
   "outputs": [],
   "source": [
    "predictions = ocsvm_clf.predict(X_nov_df)\n",
    "scores = ocsvm_clf.score_samples(X_nov_df)\n",
    "\n",
    "y_truth = y_nov_df.values == cfg.label_anomaly_idx"
   ]
  },
  {
   "cell_type": "code",
   "execution_count": 29,
   "metadata": {},
   "outputs": [
    {
     "data": {
      "text/plain": [
       "{'best_auc': 0.97535,\n",
       " 'best_auc_threshold': 258.2225635966174,\n",
       " 'best_f1_score': 0.9748212461695609,\n",
       " 'best_f1_score_threshold': 258.2225635966174}"
      ]
     },
     "execution_count": 29,
     "metadata": {},
     "output_type": "execute_result"
    }
   ],
   "source": [
    "res, fpr_values, tpr_values = du.calc_best_threshold(y_truth, scores, 2)\n",
    "res"
   ]
  },
  {
   "cell_type": "code",
   "execution_count": 30,
   "metadata": {},
   "outputs": [
    {
     "data": {
      "text/plain": [
       "{'total': 40000,\n",
       " 'tot_anomaly': 20000,\n",
       " 'tot_normal': 20000,\n",
       " 'tpr_recall': 0.98615,\n",
       " 'precision': 0.9053061599192141,\n",
       " 'accuracy': 0.9415,\n",
       " 'f1_score': 0.9440003829033646,\n",
       " 'fnr': 0.01385,\n",
       " 'tnr': 0.89685,\n",
       " 'fpr': 0.10315,\n",
       " 'conf_matrix': [[19723, 2063], [277, 17937]],\n",
       " 'auc': 0.9414999999999999}"
      ]
     },
     "execution_count": 30,
     "metadata": {},
     "output_type": "execute_result"
    }
   ],
   "source": [
    "res_1 = du.calc_metrics(y_truth, du.convert_predictions(predictions))\n",
    "res_1"
   ]
  },
  {
   "cell_type": "code",
   "execution_count": 31,
   "metadata": {},
   "outputs": [
    {
     "data": {
      "text/plain": [
       "{'total': 40000,\n",
       " 'tot_anomaly': 20000,\n",
       " 'tot_normal': 20000,\n",
       " 'tpr_recall': 0.95435,\n",
       " 'precision': 0.9961899791231733,\n",
       " 'accuracy': 0.97535,\n",
       " 'f1_score': 0.9748212461695609,\n",
       " 'fnr': 0.04565,\n",
       " 'tnr': 0.99635,\n",
       " 'fpr': 0.00365,\n",
       " 'conf_matrix': [[19087, 73], [913, 19927]],\n",
       " 'auc': 0.97535}"
      ]
     },
     "execution_count": 31,
     "metadata": {},
     "output_type": "execute_result"
    }
   ],
   "source": [
    "y_predictions = scores < res['best_auc_threshold']\n",
    "res_2 = du.calc_metrics(y_truth, y_predictions)\n",
    "res_2"
   ]
  },
  {
   "cell_type": "code",
   "execution_count": 32,
   "metadata": {},
   "outputs": [
    {
     "data": {
      "text/plain": [
       "{'total': 40000,\n",
       " 'tot_anomaly': 20000,\n",
       " 'tot_normal': 20000,\n",
       " 'tpr_recall': 0.95435,\n",
       " 'precision': 0.9961899791231733,\n",
       " 'accuracy': 0.97535,\n",
       " 'f1_score': 0.9748212461695609,\n",
       " 'fnr': 0.04565,\n",
       " 'tnr': 0.99635,\n",
       " 'fpr': 0.00365,\n",
       " 'conf_matrix': [[19087, 73], [913, 19927]],\n",
       " 'auc': 0.97535}"
      ]
     },
     "execution_count": 32,
     "metadata": {},
     "output_type": "execute_result"
    }
   ],
   "source": [
    "y_predictions = scores < res['best_f1_score_threshold']\n",
    "res_3 = du.calc_metrics(y_truth, y_predictions)\n",
    "res_3"
   ]
  },
  {
   "cell_type": "code",
   "execution_count": 33,
   "metadata": {},
   "outputs": [
    {
     "data": {
      "image/png": "[encoded data removed]",
      "text/plain": [
       "<Figure size 432x288 with 1 Axes>"
      ]
     },
     "metadata": {
      "needs_background": "light"
     },
     "output_type": "display_data"
    }
   ],
   "source": [
    "plt.figure()\n",
    "plt.plot(fpr_values, tpr_values, color='darkorange',\n",
    "         lw=2, label='ROC curve (area = %0.2f)' % (100*res_3['auc']))\n",
    "plt.plot([0, 1], [0, 1], color='navy', lw=2, linestyle='--')\n",
    "plt.xlim([-0.05, 1.0])\n",
    "plt.ylim([0.0, 1.05])\n",
    "plt.xlabel('False Positive Rate')\n",
    "plt.ylabel('True Positive Rate')\n",
    "plt.title('Receiver operating characteristic')\n",
    "plt.legend(loc=\"lower right\")\n",
    "plt.show()"
   ]
  },
  {
   "cell_type": "markdown",
   "metadata": {},
   "source": [
    "## Persist the classifier"
   ]
  },
  {
   "cell_type": "code",
   "execution_count": 34,
   "metadata": {},
   "outputs": [
    {
     "data": {
      "text/plain": [
       "['./../../shared/models/ocsvm/optimized_ocsvm_encoder_all.pkl']"
      ]
     },
     "execution_count": 34,
     "metadata": {},
     "output_type": "execute_result"
    }
   ],
   "source": [
    "path_clf = './../../shared/models/ocsvm/optimized_ocsvm_encoded_clf_all.pkl'\n",
    "path_enc = './../../shared/models/ocsvm/optimized_ocsvm_encoder_all.pkl'\n",
    "\n",
    "# save the classifier to disk\n",
    "joblib.dump(ocsvm_clf, path_clf)\n",
    "joblib.dump(encoder, path_enc)"
   ]
  },
  {
   "cell_type": "markdown",
   "metadata": {},
   "source": [
    "## Reload the classifier and predict\n",
    "predict again to test if all works fine"
   ]
  },
  {
   "cell_type": "code",
   "execution_count": 35,
   "metadata": {},
   "outputs": [],
   "source": [
    "# load the classifier from disk\n",
    "loaded_clf = joblib.load(path_clf)"
   ]
  },
  {
   "cell_type": "markdown",
   "metadata": {},
   "source": [
    "Test the performance with the reloaded model"
   ]
  },
  {
   "cell_type": "code",
   "execution_count": 36,
   "metadata": {},
   "outputs": [
    {
     "data": {
      "text/plain": [
       "{'total': 40000,\n",
       " 'tot_anomaly': 20000,\n",
       " 'tot_normal': 20000,\n",
       " 'tpr_recall': 0.98615,\n",
       " 'precision': 0.9053061599192141,\n",
       " 'accuracy': 0.9415,\n",
       " 'f1_score': 0.9440003829033646,\n",
       " 'fnr': 0.01385,\n",
       " 'tnr': 0.89685,\n",
       " 'fpr': 0.10315,\n",
       " 'conf_matrix': [[19723, 2063], [277, 17937]],\n",
       " 'auc': 0.9414999999999999}"
      ]
     },
     "execution_count": 36,
     "metadata": {},
     "output_type": "execute_result"
    }
   ],
   "source": [
    "predictions = loaded_clf.predict(X_nov_df)\n",
    "\n",
    "y_truth = y_nov_df.values == cfg.label_anomaly_idx\n",
    "res = du.calc_metrics(y_truth, du.convert_predictions(predictions))\n",
    "res"
   ]
  },
  {
   "cell_type": "code",
   "execution_count": null,
   "metadata": {},
   "outputs": [],
   "source": []
  }
 ],
 "metadata": {
  "kernelspec": {
   "display_name": "Python 3",
   "language": "python",
   "name": "python3"
  },
  "language_info": {
   "codemirror_mode": {
    "name": "ipython",
    "version": 3
   },
   "file_extension": ".py",
   "mimetype": "text/x-python",
   "name": "python",
   "nbconvert_exporter": "python",
   "pygments_lexer": "ipython3",
   "version": "3.7.5"
  }
 },
 "nbformat": 4,
 "nbformat_minor": 2
}
