{
 "cells": [
  {
   "cell_type": "code",
   "execution_count": 1,
   "metadata": {},
   "outputs": [],
   "source": [
    "import sys\n",
    "sys.path.append('../ml_utils')\n",
    "\n",
    "import data_utils\n",
    "\n",
    "import vaex\n",
    "from vaex.ui.colormaps import cm_plusmin\n",
    "\n",
    "import timeit\n",
    "import pandas as pd\n",
    "import numpy as np\n",
    "import pylab as plt\n",
    "import seaborn as sns\n",
    "\n",
    "import warnings\n",
    "warnings.filterwarnings(\"ignore\")"
   ]
  },
  {
   "cell_type": "code",
   "execution_count": 2,
   "metadata": {},
   "outputs": [],
   "source": [
    "base_dir = './../shared/data/'"
   ]
  },
  {
   "cell_type": "markdown",
   "metadata": {},
   "source": [
    "## Convert the pandas dataframe to a vaex dataframe\n",
    "\n",
    "1. Before we remove all the NaN values\n",
    "2. We convert the pandas dataframe\n",
    "3. We persist the vaex dataframe in hdf5 format for more performance"
   ]
  },
  {
   "cell_type": "code",
   "execution_count": 3,
   "metadata": {},
   "outputs": [],
   "source": [
    "all_columns = ['time_stamp','label_nr','date_day','date_month','date_month_nr','date_year','date_hour','date_minute',\n",
    "           'date_second','transaction_id','tracking_ids','src_ip','src_software_name','src_operating_system_name',\n",
    "           'src_software_type','src_software_sub_type','src_hardware_type','src_hardware_sub_type','dest_ip',\n",
    "           'uri_path','http_method','request_operation','request_protocol','http_referrer','response_status',\n",
    "           'response_status_code','response_detail_reason','response_time_ms','oidc_response_type','oidc_acr_values',\n",
    "           'oidc_login_hint','oidc_client_id','client_type','oidc_scopes','oidc_ui_locales','ido_id','ido_type',\n",
    "           'ido_email','client_name','am_realm','am_component','loc_country','loc_region','loc_city','loc_country_code',\n",
    "           'loc_latitude','loc_longitude','loc_zip_code','loc_time_zone','ldap_user','user_agent','http_query_parameters']"
   ]
  },
  {
   "cell_type": "code",
   "execution_count": 4,
   "metadata": {},
   "outputs": [],
   "source": [
    "unused_columns = ['transaction_id','tracking_ids','http_referrer','user_agent','http_query_parameters']"
   ]
  },
  {
   "cell_type": "code",
   "execution_count": 5,
   "metadata": {},
   "outputs": [],
   "source": [
    "columns = all_columns\n",
    "for col in unused_columns:\n",
    "    columns.remove(col)"
   ]
  },
  {
   "cell_type": "code",
   "execution_count": 6,
   "metadata": {},
   "outputs": [
    {
     "name": "stdout",
     "output_type": "stream",
     "text": [
      "Original data frame size: (23154543, 47)\n",
      "\n",
      "Time: 186.650869475 seconds\n",
      "\n",
      "Time: 3.1108478245833333 minutes\n",
      "\n"
     ]
    }
   ],
   "source": [
    "log_data = base_dir + 'swissid_oidc_logs_april_to_sept_2019.zip'\n",
    "\n",
    "start = timeit.default_timer()\n",
    "pandas_df = pd.read_csv(log_data, compression='zip', names=columns, header=0, sep='\\t', quotechar='\"', index_col=None)\n",
    "stop = timeit.default_timer()\n",
    "\n",
    "time_consumed = stop - start\n",
    "\n",
    "print(\"Original data frame size: {}\\n\".format(pandas_df.shape))\n",
    "print(\"Time: {} seconds\\n\".format(time_consumed))\n",
    "print(\"Time: {} minutes\\n\".format(time_consumed/60))"
   ]
  },
  {
   "cell_type": "code",
   "execution_count": 7,
   "metadata": {},
   "outputs": [],
   "source": [
    "#display(pandas_df)"
   ]
  },
  {
   "cell_type": "code",
   "execution_count": 8,
   "metadata": {},
   "outputs": [
    {
     "data": {
      "text/plain": [
       "['loc_country_code']"
      ]
     },
     "execution_count": 8,
     "metadata": {},
     "output_type": "execute_result"
    }
   ],
   "source": [
    "# show all columns having NaN\n",
    "pandas_df.columns[pandas_df.isna().any()].tolist()"
   ]
  },
  {
   "cell_type": "code",
   "execution_count": 9,
   "metadata": {},
   "outputs": [],
   "source": [
    "# Namibia has country code NA => NaN!!!\n",
    "nan_df = pandas_df[pandas_df.isna().any(axis=1)]\n",
    "#nan_df"
   ]
  },
  {
   "cell_type": "code",
   "execution_count": 10,
   "metadata": {},
   "outputs": [],
   "source": [
    "pandas_df['loc_country_code'].fillna('NA', inplace=True)"
   ]
  },
  {
   "cell_type": "code",
   "execution_count": 11,
   "metadata": {},
   "outputs": [
    {
     "data": {
      "text/plain": [
       "[]"
      ]
     },
     "execution_count": 11,
     "metadata": {},
     "output_type": "execute_result"
    }
   ],
   "source": [
    "# show all columns having NaN\n",
    "pandas_df.columns[pandas_df.isna().any()].tolist()"
   ]
  },
  {
   "cell_type": "code",
   "execution_count": 12,
   "metadata": {},
   "outputs": [],
   "source": [
    "# check visually if all is fine now\n",
    "#pandas_df[pandas_df['loc_country'] == 'Namibia']"
   ]
  },
  {
   "cell_type": "code",
   "execution_count": 29,
   "metadata": {},
   "outputs": [
    {
     "name": "stdout",
     "output_type": "stream",
     "text": [
      "Time: 40.23105924575 minutes\n",
      "\n"
     ]
    }
   ],
   "source": [
    "# Importing the data from pandas to vaex\n",
    "start = timeit.default_timer()\n",
    "vaex_df = vaex.from_pandas(pandas_df)\n",
    "stop = timeit.default_timer()\n",
    "\n",
    "print(\"Time: {} minutes\\n\".format((stop - start)/60))"
   ]
  },
  {
   "cell_type": "code",
   "execution_count": 31,
   "metadata": {
    "scrolled": true
   },
   "outputs": [
    {
     "name": "stderr",
     "output_type": "stream",
     "text": [
      "ERROR:MainThread:root:error creating dataset for 'response_status_code', with type dtype('O') \n",
      "Traceback (most recent call last):\n",
      "  File \"/home/administrator/anaconda3/envs/masterthesis/lib/python3.7/site-packages/vaex/hdf5/export.py\", line 201, in export_hdf5\n",
      "    array = h5column_output.require_dataset('data', shape=shape, dtype=dtype.newbyteorder(byteorder))\n",
      "  File \"/home/administrator/anaconda3/envs/masterthesis/lib/python3.7/site-packages/h5py/_hl/group.py\", line 189, in require_dataset\n",
      "    return self.create_dataset(name, *(shape, dtype), **kwds)\n",
      "  File \"/home/administrator/anaconda3/envs/masterthesis/lib/python3.7/site-packages/h5py/_hl/group.py\", line 136, in create_dataset\n",
      "    dsid = dataset.make_new_dset(self, shape, dtype, data, **kwds)\n",
      "  File \"/home/administrator/anaconda3/envs/masterthesis/lib/python3.7/site-packages/h5py/_hl/dataset.py\", line 118, in make_new_dset\n",
      "    tid = h5t.py_create(dtype, logical=1)\n",
      "  File \"h5py/h5t.pyx\", line 1630, in h5py.h5t.py_create\n",
      "  File \"h5py/h5t.pyx\", line 1652, in h5py.h5t.py_create\n",
      "  File \"h5py/h5t.pyx\", line 1707, in h5py.h5t.py_create\n",
      "TypeError: Object dtype dtype('O') has no native HDF5 equivalent\n"
     ]
    },
    {
     "name": "stdout",
     "output_type": "stream",
     "text": [
      "[########################################]:  99.76% estimated time:        0s =  0.0m =  0.0h                                      "
     ]
    }
   ],
   "source": [
    "converted_log_data = base_dir + 'swissid_oidc_logs_april_to_sept_2019.hdf5'\n",
    "\n",
    "# Export the data with vaex to hdf5\n",
    "vaex_df.export_hdf5(path=converted_log_data, progress=True)"
   ]
  }
 ],
 "metadata": {
  "kernelspec": {
   "display_name": "Python 3",
   "language": "python",
   "name": "python3"
  },
  "language_info": {
   "codemirror_mode": {
    "name": "ipython",
    "version": 3
   },
   "file_extension": ".py",
   "mimetype": "text/x-python",
   "name": "python",
   "nbconvert_exporter": "python",
   "pygments_lexer": "ipython3",
   "version": "3.7.5"
  }
 },
 "nbformat": 4,
 "nbformat_minor": 2
}
