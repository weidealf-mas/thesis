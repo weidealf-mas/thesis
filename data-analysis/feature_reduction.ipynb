{
 "cells": [
  {
   "cell_type": "code",
   "execution_count": 1,
   "metadata": {},
   "outputs": [],
   "source": [
    "import sys\n",
    "sys.path.append('../ml_utils')\n",
    "\n",
    "import config as cfg\n",
    "import data_utils as du\n",
    "\n",
    "import timeit\n",
    "import pandas as pd\n",
    "import numpy as np\n",
    "\n",
    "import matplotlib.pyplot as plt\n",
    "\n",
    "from pandas import read_csv\n",
    "from sklearn.model_selection import train_test_split\n",
    "\n",
    "from sklearn.feature_selection import SelectKBest, chi2, mutual_info_classif, RFE\n",
    "from sklearn.linear_model import LogisticRegression\n",
    "from sklearn.metrics import accuracy_score"
   ]
  },
  {
   "cell_type": "code",
   "execution_count": 2,
   "metadata": {},
   "outputs": [
    {
     "name": "stdout",
     "output_type": "stream",
     "text": [
      "Original data frame size: (12417597, 31)\n",
      "\n",
      "Time: 52.599039464 seconds\n",
      "\n"
     ]
    }
   ],
   "source": [
    "log_data = './../shared/data/swissid_authorize_logs_april_to_sept_2019.csv'\n",
    "\n",
    "start = timeit.default_timer()\n",
    "df = pd.read_csv(filepath_or_buffer=log_data, header=0, sep='\\t', names=cfg.complete_feature_list, index_col=None)\n",
    "stop = timeit.default_timer()\n",
    "\n",
    "print(\"Original data frame size: {}\\n\".format(df.shape))\n",
    "print(\"Time: {} seconds\\n\".format(stop - start))"
   ]
  },
  {
   "cell_type": "code",
   "execution_count": 3,
   "metadata": {},
   "outputs": [
    {
     "name": "stdout",
     "output_type": "stream",
     "text": [
      "columns with NaN: loc_country_code\n",
      "loc_country_code is fixed\n"
     ]
    }
   ],
   "source": [
    "# clean the dataframe\n",
    "df = du.clean_data(df)"
   ]
  },
  {
   "cell_type": "code",
   "execution_count": 4,
   "metadata": {},
   "outputs": [],
   "source": [
    "# show all columns having NaN => if empty, that's perfect!\n",
    "col_found = df.columns[df.isna().any()].tolist()\n",
    "assert len(col_found) == 0, \"found columns with NaN\""
   ]
  },
  {
   "cell_type": "code",
   "execution_count": 5,
   "metadata": {},
   "outputs": [],
   "source": [
    "# feature selection\n",
    "def select_features(X_train, y_train, X_test, func=chi2, top='all'):\n",
    "    fs = SelectKBest(score_func=func, k=top)\n",
    "    fs.fit(X_train, y_train)\n",
    "    X_train_fs = fs.transform(X_train)\n",
    "    X_test_fs = fs.transform(X_test)\n",
    "    return X_train_fs, X_test_fs, fs"
   ]
  },
  {
   "cell_type": "code",
   "execution_count": 6,
   "metadata": {},
   "outputs": [],
   "source": [
    "def score_barplot(feature_score):\n",
    "    # what are scores for the features\n",
    "    for i in range(len(fs.scores_)):\n",
    "        print('Feature %d: %f' % (i, fs.scores_[i]))\n",
    "\n",
    "    # plot the scores\n",
    "    plt.bar([i for i in range(len(fs.scores_))], fs.scores_)\n",
    "    plt.show()"
   ]
  },
  {
   "cell_type": "code",
   "execution_count": 7,
   "metadata": {},
   "outputs": [],
   "source": [
    "def score_sort(features, scores):\n",
    "    return sorted(list(zip(features,scores)), key=lambda t: t[1], reverse=True)"
   ]
  },
  {
   "cell_type": "code",
   "execution_count": 8,
   "metadata": {},
   "outputs": [],
   "source": [
    "def print_counts(axis, rotation=45, inverse=False):\n",
    "    \n",
    "    if inverse:\n",
    "        # set individual bar lables using above list\n",
    "        for i in axis.patches:\n",
    "            # get_width pulls left or right; get_y pushes up or down\n",
    "            axis.text(i.get_width()+.1, i.get_y()+.31, \\\n",
    "                    str(round((i.get_width()), 2)), fontsize=15, color='dimgrey')\n",
    "    else:\n",
    "        if rotation <= 0:\n",
    "            # set individual bar lables using above list        \n",
    "            for i in axis.patches:\n",
    "                # get_x pulls left or right; get_height pushes up or down\n",
    "                axis.text(i.get_x()-.03, i.get_height()+.5, \\\n",
    "                        str(round(i.get_height(), 2)), fontsize=12, color='dimgrey')\n",
    "        else:\n",
    "            for i in axis.patches:\n",
    "                # get_x pulls left or right; get_height pushes up or down\n",
    "                axis.text(i.get_x()+.04, i.get_height()+12000, \\\n",
    "                        str(round((i.get_height()), 2)), fontsize=11, color='dimgrey',\n",
    "                            rotation=rotation)"
   ]
  },
  {
   "cell_type": "code",
   "execution_count": 9,
   "metadata": {},
   "outputs": [],
   "source": [
    "def plot_bar(df, width, height, title='', counts=True, use_log=False, top=None):\n",
    "    \n",
    "    data = df['Score']\n",
    "    \n",
    "    if top:\n",
    "        data = data[:top]\n",
    "    \n",
    "    if use_log:\n",
    "        data = data.apply(lambda x : np.log(x))\n",
    "        \n",
    "    ax = data.plot(kind='barh', figsize=(width,height), fontsize=17)\n",
    "        \n",
    "    ax.set_alpha(0.8)\n",
    "    ax.set_title(title, fontsize=15, fontweight=\"bold\")\n",
    "    ax.set_yticklabels(df['Feature'].values, fontsize=13)\n",
    "        \n",
    "    if counts:\n",
    "        print_counts(ax, 0, True)\n",
    "        \n",
    "    ax.invert_yaxis()"
   ]
  },
  {
   "cell_type": "code",
   "execution_count": 10,
   "metadata": {},
   "outputs": [],
   "source": [
    "def extract_top_k_features(features, scores, k=None):\n",
    "    scores_list = list(zip(features,scores))\n",
    "    sorted_scores = sorted(scores_list, key=lambda t: t[1], reverse=True)\n",
    "    feature_ranking = list(map(lambda t: t[0], sorted_scores))\n",
    "    \n",
    "    if k:\n",
    "        return feature_ranking[:k]\n",
    "    else:\n",
    "        return feature_ranking"
   ]
  },
  {
   "cell_type": "code",
   "execution_count": 11,
   "metadata": {},
   "outputs": [],
   "source": [
    "def build_ranking_list(features, rfe_fit):\n",
    "    scores_list = list(zip(features,rfe_fit.ranking_))\n",
    "    sorted_scores = sorted(scores_list, key=lambda t: t[1], reverse=False)\n",
    "    feature_ranking = list(map(lambda t: t[0], sorted_scores))\n",
    "    top_k = features[rfe_fit.support_].tolist()\n",
    "    k = rfe_fit.n_features_\n",
    "    return k, top_k, feature_ranking"
   ]
  },
  {
   "cell_type": "code",
   "execution_count": 12,
   "metadata": {},
   "outputs": [],
   "source": [
    "excludes=['label', 'ido_id']\n",
    "excludes = list(set(excludes + cfg.unused_feature_list.copy()))\n",
    "excludes.remove('loc_country_code')\n",
    "excludes.remove('src_software_sub_type')\n",
    "excludes.remove('src_hardware_sub_type')\n",
    "excludes.remove('response_status_code')\n",
    "excludes.remove('response_time_ms')\n",
    "excludes.remove('loc_region')\n",
    "excludes.remove('loc_city')"
   ]
  },
  {
   "cell_type": "code",
   "execution_count": 13,
   "metadata": {},
   "outputs": [],
   "source": [
    "X, y, X_cols = du.build_normal_anomaly_feature_selection_sample_df(df, 70000, True, True, True, excludes)"
   ]
  },
  {
   "cell_type": "code",
   "execution_count": 14,
   "metadata": {},
   "outputs": [
    {
     "name": "stdout",
     "output_type": "stream",
     "text": [
      "Train (46900, 22) (46900,)\n",
      "Test (23100, 22) (23100,)\n"
     ]
    }
   ],
   "source": [
    "# split into train and test sets\n",
    "X_train, X_test, y_train, y_test = train_test_split(X, y, test_size=0.33, random_state=1)\n",
    "\n",
    "# summarize\n",
    "print('Train', X_train.shape, y_train.shape)\n",
    "print('Test', X_test.shape, y_test.shape)"
   ]
  },
  {
   "cell_type": "markdown",
   "metadata": {},
   "source": [
    "# Model evaluation with all features"
   ]
  },
  {
   "cell_type": "code",
   "execution_count": 15,
   "metadata": {},
   "outputs": [
    {
     "name": "stdout",
     "output_type": "stream",
     "text": [
      "Accuracy: 82.49\n"
     ]
    }
   ],
   "source": [
    "# evaluation of a model using all input features\n",
    "\n",
    "# fit the model\n",
    "model = LogisticRegression(solver='lbfgs', max_iter=1000)\n",
    "#model = LogisticRegression(solver='saga', max_iter=1000)\n",
    "\n",
    "model.fit(X_train, y_train)\n",
    "\n",
    "# evaluate the model\n",
    "yhat = model.predict(X_test)\n",
    "\n",
    "# evaluate predictions\n",
    "baseline_accuracy = accuracy_score(y_test, yhat)\n",
    "print('Accuracy: %.2f' % (baseline_accuracy*100))"
   ]
  },
  {
   "cell_type": "code",
   "execution_count": 16,
   "metadata": {},
   "outputs": [],
   "source": [
    "def round_accuracy(value):\n",
    "    \n",
    "    base = 100*value\n",
    "    acc = round(2*base)/2\n",
    "    \n",
    "    if acc > base:\n",
    "        acc -= 0.5\n",
    "    \n",
    "    return acc / 100"
   ]
  },
  {
   "cell_type": "code",
   "execution_count": 17,
   "metadata": {},
   "outputs": [],
   "source": [
    "def calc_top_k_features(k, method=chi2):\n",
    "    \n",
    "    X_train_fs, X_test_fs, fs = select_features(X_train, y_train, X_test, method, k)\n",
    "\n",
    "    # fit the model\n",
    "    model = LogisticRegression(solver='lbfgs', max_iter=1000)\n",
    "\n",
    "    model.fit(X_train_fs, y_train)\n",
    "\n",
    "    # evaluate the model\n",
    "    yhat = model.predict(X_test_fs)\n",
    "\n",
    "    # evaluate predictions\n",
    "    accuracy = accuracy_score(y_test, yhat)\n",
    "    print('k=' + str(k) + ', Accuracy=%.3f' % (accuracy*100))\n",
    "    \n",
    "    return accuracy, fs"
   ]
  },
  {
   "cell_type": "code",
   "execution_count": 18,
   "metadata": {},
   "outputs": [],
   "source": [
    "def find_top_k_features(baseline_accuracy, features, method=chi2):\n",
    "    \n",
    "    k = 1\n",
    "    accuracy = 0.0\n",
    "    num_of_features = len(features)\n",
    "    baseline_lower_limit = round_accuracy(baseline_accuracy)\n",
    "    \n",
    "    print(\"number of features=\" + str(num_of_features) + \", baseline=\" + str(100*baseline_accuracy) \n",
    "          + \", limit=\" + str(100*baseline_lower_limit))\n",
    "    \n",
    "    while accuracy < baseline_lower_limit and k <= num_of_features:\n",
    "        accuracy, fs = calc_top_k_features(k, method)\n",
    "        k+=1\n",
    "        \n",
    "    top_k_featrues = extract_top_k_features(features, fs.scores_, k-1)\n",
    "    return (k-1,accuracy,top_k_featrues), fs\n",
    "        "
   ]
  },
  {
   "cell_type": "code",
   "execution_count": 19,
   "metadata": {},
   "outputs": [],
   "source": [
    "def calc_top_k_features_rfe(k):\n",
    "    \n",
    "    model = LogisticRegression(solver='lbfgs', max_iter=1000)\n",
    "    rfe = RFE(model, k)\n",
    "    fit = rfe.fit(X_train, y_train)\n",
    "\n",
    "    #print(\"Num Features: %d\" % fit.n_features_)\n",
    "    #print(\"Selected Features: %s\" % fit.support_)\n",
    "    #print(\"Feature Ranking: %s\" % fit.ranking_)\n",
    "\n",
    "    # evaluate the model\n",
    "    yhat = fit.predict(X_test)\n",
    "\n",
    "    # evaluate predictions\n",
    "    accuracy = accuracy_score(y_test, yhat)\n",
    "    print('k=' + str(k) + ', Accuracy=%.3f' % (accuracy*100))\n",
    "    \n",
    "    return accuracy, fit"
   ]
  },
  {
   "cell_type": "code",
   "execution_count": 20,
   "metadata": {},
   "outputs": [],
   "source": [
    "def find_top_k_features_rfe(baseline_accuracy, features):\n",
    "    \n",
    "    k = 1\n",
    "    accuracy = 0.0\n",
    "    num_of_features = len(features)\n",
    "    baseline_lower_limit = round_accuracy(baseline_accuracy)\n",
    "    \n",
    "    print(\"number of features=\" + str(num_of_features) + \", baseline=\" + str(100*baseline_accuracy) \n",
    "          + \", limit=\" + str(100*baseline_lower_limit))\n",
    "    \n",
    "    while accuracy < baseline_lower_limit and k <= num_of_features:\n",
    "        accuracy, fit= calc_top_k_features_rfe(k)\n",
    "        k+=1\n",
    "        \n",
    "    rfe_k,top_k_featrues,feature_ranking = build_ranking_list(features, fit)\n",
    "    \n",
    "    return (rfe_k,accuracy,top_k_featrues), feature_ranking"
   ]
  },
  {
   "cell_type": "code",
   "execution_count": 21,
   "metadata": {},
   "outputs": [],
   "source": [
    "def intersection(lst1, lst2): \n",
    "    return list(set(lst1) & set(lst2))"
   ]
  },
  {
   "cell_type": "markdown",
   "metadata": {},
   "source": [
    "# Model evaluation with top k features and Chi2"
   ]
  },
  {
   "cell_type": "code",
   "execution_count": 22,
   "metadata": {},
   "outputs": [
    {
     "name": "stdout",
     "output_type": "stream",
     "text": [
      "number of features=22, baseline=82.4935064935065, limit=82.0\n",
      "k=1, Accuracy=75.511\n",
      "k=2, Accuracy=75.944\n",
      "k=3, Accuracy=77.251\n",
      "k=4, Accuracy=82.463\n"
     ]
    }
   ],
   "source": [
    "chi2_values, fs = find_top_k_features(baseline_accuracy, X_cols, chi2)"
   ]
  },
  {
   "cell_type": "code",
   "execution_count": 23,
   "metadata": {},
   "outputs": [
    {
     "name": "stdout",
     "output_type": "stream",
     "text": [
      "Feature 0: 106.858439\n",
      "Feature 1: 3.010441\n",
      "Feature 2: 325.100531\n",
      "Feature 3: 2819.346364\n",
      "Feature 4: 453.689543\n",
      "Feature 5: 1900.899841\n",
      "Feature 6: 1180.237885\n",
      "Feature 7: 1301.598515\n",
      "Feature 8: 822.635283\n",
      "Feature 9: 158.097880\n",
      "Feature 10: 1839.343534\n",
      "Feature 11: 20.260011\n",
      "Feature 12: 19.970272\n",
      "Feature 13: 5.473493\n",
      "Feature 14: 244.609073\n",
      "Feature 15: 9.154330\n",
      "Feature 16: 162.475885\n",
      "Feature 17: 523.232921\n",
      "Feature 18: 43.530061\n",
      "Feature 19: 576.052398\n",
      "Feature 20: 1457.164690\n",
      "Feature 21: 4812.669818\n"
     ]
    },
    {
     "data": {
      "image/png": "[encoded data removed]",
      "text/plain": [
       "<Figure size 432x288 with 1 Axes>"
      ]
     },
     "metadata": {
      "needs_background": "light"
     },
     "output_type": "display_data"
    }
   ],
   "source": [
    "score_barplot(fs)"
   ]
  },
  {
   "cell_type": "code",
   "execution_count": 24,
   "metadata": {},
   "outputs": [
    {
     "data": {
      "text/plain": [
       "(4,\n",
       " 0.8246320346320346,\n",
       " ['loc_country_code',\n",
       "  'src_operating_system_name',\n",
       "  'src_software_sub_type',\n",
       "  'response_status_code'])"
      ]
     },
     "execution_count": 24,
     "metadata": {},
     "output_type": "execute_result"
    }
   ],
   "source": [
    "chi2_values"
   ]
  },
  {
   "cell_type": "code",
   "execution_count": 25,
   "metadata": {},
   "outputs": [
    {
     "data": {
      "image/png": "[encoded data removed]",
      "text/plain": [
       "<Figure size 1008x864 with 1 Axes>"
      ]
     },
     "metadata": {
      "needs_background": "light"
     },
     "output_type": "display_data"
    }
   ],
   "source": [
    "scores = score_sort(X_cols, fs.scores_)\n",
    "score_df = pd.DataFrame.from_records(scores, columns =['Feature','Score'])\n",
    "#score_df\n",
    "plot_bar(score_df, 14, 12, 'Chi2', True)"
   ]
  },
  {
   "cell_type": "code",
   "execution_count": 26,
   "metadata": {},
   "outputs": [
    {
     "name": "stdout",
     "output_type": "stream",
     "text": [
      "k=10, Accuracy=82.446\n"
     ]
    },
    {
     "data": {
      "text/plain": [
       "(0.8244588744588744,\n",
       " ['loc_country_code',\n",
       "  'src_operating_system_name',\n",
       "  'src_software_sub_type',\n",
       "  'response_status_code',\n",
       "  'loc_city',\n",
       "  'src_hardware_sub_type',\n",
       "  'src_hardware_type',\n",
       "  'http_method',\n",
       "  'loc_region',\n",
       "  'oidc_ui_locales'])"
      ]
     },
     "execution_count": 26,
     "metadata": {},
     "output_type": "execute_result"
    }
   ],
   "source": [
    "accuracy, fs = calc_top_k_features(10, chi2)\n",
    "chi2_top_k_featrues = extract_top_k_features(X_cols, fs.scores_, 10)\n",
    "accuracy, chi2_top_k_featrues"
   ]
  },
  {
   "cell_type": "markdown",
   "metadata": {},
   "source": [
    "# Model evaluation with top k features and Mutual-Info"
   ]
  },
  {
   "cell_type": "code",
   "execution_count": 27,
   "metadata": {},
   "outputs": [
    {
     "name": "stdout",
     "output_type": "stream",
     "text": [
      "number of features=22, baseline=82.4935064935065, limit=82.0\n",
      "k=1, Accuracy=72.342\n",
      "k=2, Accuracy=78.684\n",
      "k=3, Accuracy=79.567\n",
      "k=4, Accuracy=79.394\n",
      "k=5, Accuracy=79.861\n",
      "k=6, Accuracy=79.714\n",
      "k=7, Accuracy=80.381\n",
      "k=8, Accuracy=79.606\n",
      "k=9, Accuracy=80.481\n",
      "k=10, Accuracy=80.424\n",
      "k=11, Accuracy=80.442\n",
      "k=12, Accuracy=80.455\n",
      "k=13, Accuracy=82.416\n"
     ]
    }
   ],
   "source": [
    "mic_values, fs = find_top_k_features(baseline_accuracy, X_cols, mutual_info_classif)"
   ]
  },
  {
   "cell_type": "code",
   "execution_count": 28,
   "metadata": {},
   "outputs": [
    {
     "name": "stdout",
     "output_type": "stream",
     "text": [
      "Feature 0: 0.007113\n",
      "Feature 1: 0.022784\n",
      "Feature 2: 0.239470\n",
      "Feature 3: 0.231729\n",
      "Feature 4: 0.242287\n",
      "Feature 5: 0.240092\n",
      "Feature 6: 0.237457\n",
      "Feature 7: 0.034393\n",
      "Feature 8: 0.021553\n",
      "Feature 9: 0.047349\n",
      "Feature 10: 0.040757\n",
      "Feature 11: 0.509858\n",
      "Feature 12: 0.007300\n",
      "Feature 13: 0.008566\n",
      "Feature 14: 0.268619\n",
      "Feature 15: 0.014680\n",
      "Feature 16: 0.237497\n",
      "Feature 17: 0.013785\n",
      "Feature 18: 0.223021\n",
      "Feature 19: 0.233453\n",
      "Feature 20: 0.234560\n",
      "Feature 21: 0.218724\n"
     ]
    },
    {
     "data": {
      "image/png": "[encoded data removed]",
      "text/plain": [
       "<Figure size 432x288 with 1 Axes>"
      ]
     },
     "metadata": {
      "needs_background": "light"
     },
     "output_type": "display_data"
    }
   ],
   "source": [
    "score_barplot(fs)"
   ]
  },
  {
   "cell_type": "code",
   "execution_count": 29,
   "metadata": {},
   "outputs": [
    {
     "data": {
      "text/plain": [
       "(13,\n",
       " 0.8241558441558442,\n",
       " ['response_time_ms',\n",
       "  'oidc_client_id',\n",
       "  'src_software_type',\n",
       "  'src_software_sub_type',\n",
       "  'src_software_name',\n",
       "  'oidc_scopes',\n",
       "  'src_hardware_type',\n",
       "  'loc_city',\n",
       "  'loc_region',\n",
       "  'src_operating_system_name',\n",
       "  'loc_country',\n",
       "  'loc_country_code',\n",
       "  'response_status'])"
      ]
     },
     "execution_count": 29,
     "metadata": {},
     "output_type": "execute_result"
    }
   ],
   "source": [
    "mic_values"
   ]
  },
  {
   "cell_type": "code",
   "execution_count": 30,
   "metadata": {},
   "outputs": [
    {
     "data": {
      "image/png": "[encoded data removed]",
      "text/plain": [
       "<Figure size 1008x864 with 1 Axes>"
      ]
     },
     "metadata": {
      "needs_background": "light"
     },
     "output_type": "display_data"
    }
   ],
   "source": [
    "scores = score_sort(X_cols, fs.scores_)\n",
    "score_df = pd.DataFrame.from_records(scores, columns =['Feature','Score'])\n",
    "#score_df\n",
    "plot_bar(score_df, 14, 12, 'Mutual Info', True)"
   ]
  },
  {
   "cell_type": "code",
   "execution_count": 31,
   "metadata": {},
   "outputs": [
    {
     "name": "stdout",
     "output_type": "stream",
     "text": [
      "k=10, Accuracy=80.424\n"
     ]
    },
    {
     "data": {
      "text/plain": [
       "(0.8042424242424242,\n",
       " ['response_time_ms',\n",
       "  'oidc_client_id',\n",
       "  'src_software_name',\n",
       "  'src_software_sub_type',\n",
       "  'src_software_type',\n",
       "  'src_hardware_type',\n",
       "  'loc_city',\n",
       "  'oidc_scopes',\n",
       "  'loc_region',\n",
       "  'src_operating_system_name'])"
      ]
     },
     "execution_count": 31,
     "metadata": {},
     "output_type": "execute_result"
    }
   ],
   "source": [
    "accuracy, fs = calc_top_k_features(10, mutual_info_classif)\n",
    "mic_top_k_featrues = extract_top_k_features(X_cols, fs.scores_, 10)\n",
    "accuracy, mic_top_k_featrues"
   ]
  },
  {
   "cell_type": "markdown",
   "metadata": {},
   "source": [
    "# Model evaluation with top k features and Recursive Feature Elimination (RFE)"
   ]
  },
  {
   "cell_type": "code",
   "execution_count": 32,
   "metadata": {},
   "outputs": [
    {
     "name": "stdout",
     "output_type": "stream",
     "text": [
      "number of features=22, baseline=82.4935064935065, limit=82.0\n",
      "k=1, Accuracy=77.528\n",
      "k=2, Accuracy=77.394\n",
      "k=3, Accuracy=82.515\n"
     ]
    }
   ],
   "source": [
    "rfe_values, rfe_ranking = find_top_k_features_rfe(baseline_accuracy, X_cols)"
   ]
  },
  {
   "cell_type": "code",
   "execution_count": 33,
   "metadata": {},
   "outputs": [
    {
     "data": {
      "text/plain": [
       "['src_software_type',\n",
       " 'src_software_sub_type',\n",
       " 'response_status',\n",
       " 'response_time_ms',\n",
       " 'response_status_code',\n",
       " 'http_method',\n",
       " 'oidc_ui_locales',\n",
       " 'oidc_client_id',\n",
       " 'oidc_scopes',\n",
       " 'loc_country_code',\n",
       " 'src_hardware_type',\n",
       " 'src_hardware_sub_type',\n",
       " 'loc_country',\n",
       " 'oidc_response_type',\n",
       " 'src_software_name',\n",
       " 'src_operating_system_name',\n",
       " 'date_weekday',\n",
       " 'loc_city',\n",
       " 'loc_region',\n",
       " 'client_type',\n",
       " 'oidc_acr_values',\n",
       " 'date_hour']"
      ]
     },
     "execution_count": 33,
     "metadata": {},
     "output_type": "execute_result"
    }
   ],
   "source": [
    "rfe_ranking"
   ]
  },
  {
   "cell_type": "code",
   "execution_count": 34,
   "metadata": {},
   "outputs": [
    {
     "data": {
      "text/plain": [
       "(3,\n",
       " 0.8251515151515152,\n",
       " ['src_software_type', 'src_software_sub_type', 'response_status'])"
      ]
     },
     "execution_count": 34,
     "metadata": {},
     "output_type": "execute_result"
    }
   ],
   "source": [
    "rfe_values"
   ]
  },
  {
   "cell_type": "code",
   "execution_count": 35,
   "metadata": {},
   "outputs": [
    {
     "name": "stdout",
     "output_type": "stream",
     "text": [
      "k=10, Accuracy=82.498\n"
     ]
    },
    {
     "data": {
      "text/plain": [
       "(0.824978354978355,\n",
       " ['src_software_type',\n",
       "  'src_software_sub_type',\n",
       "  'http_method',\n",
       "  'response_status',\n",
       "  'response_status_code',\n",
       "  'response_time_ms',\n",
       "  'oidc_client_id',\n",
       "  'oidc_scopes',\n",
       "  'oidc_ui_locales',\n",
       "  'loc_country_code'])"
      ]
     },
     "execution_count": 35,
     "metadata": {},
     "output_type": "execute_result"
    }
   ],
   "source": [
    "accuracy, fit = calc_top_k_features_rfe(10)\n",
    "rfe_k,rfe_top_k_featrues,feature_ranking = build_ranking_list(X_cols, fit)\n",
    "accuracy, rfe_top_k_featrues"
   ]
  },
  {
   "cell_type": "markdown",
   "metadata": {},
   "source": [
    "# Common features"
   ]
  },
  {
   "cell_type": "code",
   "execution_count": 36,
   "metadata": {},
   "outputs": [
    {
     "data": {
      "text/plain": [
       "['loc_country_code', 'src_software_sub_type', 'src_operating_system_name']"
      ]
     },
     "execution_count": 36,
     "metadata": {},
     "output_type": "execute_result"
    }
   ],
   "source": [
    "chi2_mic_features = intersection(chi2_values[2], mic_values[2])\n",
    "chi2_mic_features"
   ]
  },
  {
   "cell_type": "code",
   "execution_count": 37,
   "metadata": {},
   "outputs": [
    {
     "data": {
      "text/plain": [
       "['src_software_sub_type']"
      ]
     },
     "execution_count": 37,
     "metadata": {},
     "output_type": "execute_result"
    }
   ],
   "source": [
    "chi2_rfe_features = intersection(chi2_values[2], rfe_values[2])\n",
    "chi2_rfe_features"
   ]
  },
  {
   "cell_type": "code",
   "execution_count": 38,
   "metadata": {},
   "outputs": [
    {
     "data": {
      "text/plain": [
       "['src_software_type', 'response_status', 'src_software_sub_type']"
      ]
     },
     "execution_count": 38,
     "metadata": {},
     "output_type": "execute_result"
    }
   ],
   "source": [
    "mic_rfe_features = intersection(mic_values[2], rfe_values[2])\n",
    "mic_rfe_features"
   ]
  },
  {
   "cell_type": "code",
   "execution_count": 39,
   "metadata": {},
   "outputs": [
    {
     "data": {
      "text/plain": [
       "['src_software_sub_type']"
      ]
     },
     "execution_count": 39,
     "metadata": {},
     "output_type": "execute_result"
    }
   ],
   "source": [
    "common_selected_features = intersection(chi2_mic_features, rfe_values[2])\n",
    "common_selected_features"
   ]
  },
  {
   "cell_type": "markdown",
   "metadata": {},
   "source": [
    "# Common top 10 features"
   ]
  },
  {
   "cell_type": "code",
   "execution_count": 40,
   "metadata": {},
   "outputs": [
    {
     "data": {
      "text/plain": [
       "['src_operating_system_name',\n",
       " 'loc_city',\n",
       " 'loc_region',\n",
       " 'src_hardware_type',\n",
       " 'src_software_sub_type']"
      ]
     },
     "execution_count": 40,
     "metadata": {},
     "output_type": "execute_result"
    }
   ],
   "source": [
    "chi2_mic_features = intersection(chi2_top_k_featrues, mic_top_k_featrues)\n",
    "chi2_mic_features"
   ]
  },
  {
   "cell_type": "code",
   "execution_count": 41,
   "metadata": {},
   "outputs": [
    {
     "data": {
      "text/plain": [
       "['http_method',\n",
       " 'oidc_ui_locales',\n",
       " 'response_status_code',\n",
       " 'loc_country_code',\n",
       " 'src_software_sub_type']"
      ]
     },
     "execution_count": 41,
     "metadata": {},
     "output_type": "execute_result"
    }
   ],
   "source": [
    "chi2_rfe_features = intersection(chi2_top_k_featrues, rfe_top_k_featrues)\n",
    "chi2_rfe_features"
   ]
  },
  {
   "cell_type": "code",
   "execution_count": 42,
   "metadata": {},
   "outputs": [
    {
     "data": {
      "text/plain": [
       "['src_software_type',\n",
       " 'oidc_scopes',\n",
       " 'response_time_ms',\n",
       " 'src_software_sub_type',\n",
       " 'oidc_client_id']"
      ]
     },
     "execution_count": 42,
     "metadata": {},
     "output_type": "execute_result"
    }
   ],
   "source": [
    "mic_rfe_features = intersection(mic_top_k_featrues, rfe_top_k_featrues)\n",
    "mic_rfe_features"
   ]
  },
  {
   "cell_type": "code",
   "execution_count": 43,
   "metadata": {},
   "outputs": [
    {
     "data": {
      "text/plain": [
       "['src_software_sub_type']"
      ]
     },
     "execution_count": 43,
     "metadata": {},
     "output_type": "execute_result"
    }
   ],
   "source": [
    "common_selected_features = intersection(chi2_mic_features, rfe_top_k_featrues)\n",
    "common_selected_features"
   ]
  },
  {
   "cell_type": "markdown",
   "metadata": {},
   "source": [
    "## Used Feature List"
   ]
  },
  {
   "cell_type": "code",
   "execution_count": 44,
   "metadata": {},
   "outputs": [
    {
     "data": {
      "text/plain": [
       "['date_weekday',\n",
       " 'date_hour',\n",
       " 'src_software_name',\n",
       " 'src_operating_system_name',\n",
       " 'src_software_type',\n",
       " 'src_software_sub_type',\n",
       " 'src_hardware_type',\n",
       " 'src_hardware_sub_type',\n",
       " 'http_method',\n",
       " 'response_status',\n",
       " 'response_status_code',\n",
       " 'response_time_ms',\n",
       " 'oidc_response_type',\n",
       " 'oidc_acr_values',\n",
       " 'oidc_client_id',\n",
       " 'client_type',\n",
       " 'oidc_scopes',\n",
       " 'oidc_ui_locales',\n",
       " 'loc_country',\n",
       " 'loc_region',\n",
       " 'loc_city',\n",
       " 'loc_country_code']"
      ]
     },
     "execution_count": 44,
     "metadata": {},
     "output_type": "execute_result"
    }
   ],
   "source": [
    "X_cols.tolist()"
   ]
  },
  {
   "cell_type": "code",
   "execution_count": null,
   "metadata": {},
   "outputs": [],
   "source": []
  }
 ],
 "metadata": {
  "kernelspec": {
   "display_name": "Python 3",
   "language": "python",
   "name": "python3"
  },
  "language_info": {
   "codemirror_mode": {
    "name": "ipython",
    "version": 3
   },
   "file_extension": ".py",
   "mimetype": "text/x-python",
   "name": "python",
   "nbconvert_exporter": "python",
   "pygments_lexer": "ipython3",
   "version": "3.7.5"
  }
 },
 "nbformat": 4,
 "nbformat_minor": 2
}
