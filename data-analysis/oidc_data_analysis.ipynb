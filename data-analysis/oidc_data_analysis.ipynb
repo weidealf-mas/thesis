{
 "cells": [
  {
   "cell_type": "code",
   "execution_count": 1,
   "metadata": {},
   "outputs": [],
   "source": [
    "import sys\n",
    "sys.path.append('../ml_utils')\n",
    "\n",
    "import data_utils\n",
    "\n",
    "import vaex\n",
    "from vaex.ui.colormaps import cm_plusmin\n",
    "\n",
    "import timeit\n",
    "import pandas as pd\n",
    "import numpy as np\n",
    "import pylab as plt\n",
    "import seaborn as sns\n",
    "\n",
    "import warnings\n",
    "warnings.filterwarnings(\"ignore\")"
   ]
  },
  {
   "cell_type": "code",
   "execution_count": 2,
   "metadata": {},
   "outputs": [],
   "source": [
    "base_dir = './../shared/data/'"
   ]
  },
  {
   "cell_type": "code",
   "execution_count": 3,
   "metadata": {},
   "outputs": [],
   "source": [
    "# Open the converted data\n",
    "\n",
    "log_data = base_dir + 'swissid_oidc_logs_april_to_sept_2019.hdf5'\n",
    "\n",
    "# Read in the data from disk\n",
    "oidc_df = vaex.open(log_data)"
   ]
  },
  {
   "cell_type": "code",
   "execution_count": 4,
   "metadata": {},
   "outputs": [],
   "source": [
    "#oidc_df"
   ]
  },
  {
   "cell_type": "markdown",
   "metadata": {},
   "source": [
    "## Start the Analysis"
   ]
  },
  {
   "cell_type": "code",
   "execution_count": 5,
   "metadata": {},
   "outputs": [
    {
     "data": {
      "text/plain": [
       "array(23154543)"
      ]
     },
     "execution_count": 5,
     "metadata": {},
     "output_type": "execute_result"
    }
   ],
   "source": [
    "oidc_df.count()"
   ]
  },
  {
   "cell_type": "code",
   "execution_count": 6,
   "metadata": {},
   "outputs": [
    {
     "data": {
      "text/html": [
       "<div>\n",
       "<style scoped>\n",
       "    .dataframe tbody tr th:only-of-type {\n",
       "        vertical-align: middle;\n",
       "    }\n",
       "\n",
       "    .dataframe tbody tr th {\n",
       "        vertical-align: top;\n",
       "    }\n",
       "\n",
       "    .dataframe thead th {\n",
       "        text-align: right;\n",
       "    }\n",
       "</style>\n",
       "<table border=\"1\" class=\"dataframe\">\n",
       "  <thead>\n",
       "    <tr style=\"text-align: right;\">\n",
       "      <th></th>\n",
       "      <th>time_stamp</th>\n",
       "      <th>label_nr</th>\n",
       "      <th>date_day</th>\n",
       "      <th>date_month</th>\n",
       "      <th>date_month_nr</th>\n",
       "      <th>date_year</th>\n",
       "      <th>date_hour</th>\n",
       "      <th>date_minute</th>\n",
       "      <th>date_second</th>\n",
       "      <th>src_ip</th>\n",
       "      <th>...</th>\n",
       "      <th>loc_country</th>\n",
       "      <th>loc_region</th>\n",
       "      <th>loc_city</th>\n",
       "      <th>loc_country_code</th>\n",
       "      <th>loc_latitude</th>\n",
       "      <th>loc_longitude</th>\n",
       "      <th>loc_zip_code</th>\n",
       "      <th>loc_time_zone</th>\n",
       "      <th>ldap_user</th>\n",
       "      <th>index</th>\n",
       "    </tr>\n",
       "  </thead>\n",
       "  <tbody>\n",
       "    <tr>\n",
       "      <th>dtype</th>\n",
       "      <td>str</td>\n",
       "      <td>int64</td>\n",
       "      <td>int64</td>\n",
       "      <td>str</td>\n",
       "      <td>int64</td>\n",
       "      <td>int64</td>\n",
       "      <td>int64</td>\n",
       "      <td>int64</td>\n",
       "      <td>int64</td>\n",
       "      <td>str</td>\n",
       "      <td>...</td>\n",
       "      <td>str</td>\n",
       "      <td>str</td>\n",
       "      <td>str</td>\n",
       "      <td>str</td>\n",
       "      <td>float64</td>\n",
       "      <td>float64</td>\n",
       "      <td>str</td>\n",
       "      <td>str</td>\n",
       "      <td>str</td>\n",
       "      <td>int64</td>\n",
       "    </tr>\n",
       "    <tr>\n",
       "      <th>count</th>\n",
       "      <td>23154543</td>\n",
       "      <td>23154543</td>\n",
       "      <td>23154543</td>\n",
       "      <td>23154543</td>\n",
       "      <td>23154543</td>\n",
       "      <td>23154543</td>\n",
       "      <td>23154543</td>\n",
       "      <td>23154543</td>\n",
       "      <td>23154543</td>\n",
       "      <td>23154543</td>\n",
       "      <td>...</td>\n",
       "      <td>23154543</td>\n",
       "      <td>23154543</td>\n",
       "      <td>23154543</td>\n",
       "      <td>23154543</td>\n",
       "      <td>23154543</td>\n",
       "      <td>23154543</td>\n",
       "      <td>23154543</td>\n",
       "      <td>23154543</td>\n",
       "      <td>23154543</td>\n",
       "      <td>23154543</td>\n",
       "    </tr>\n",
       "    <tr>\n",
       "      <th>NA</th>\n",
       "      <td>0</td>\n",
       "      <td>0</td>\n",
       "      <td>0</td>\n",
       "      <td>0</td>\n",
       "      <td>0</td>\n",
       "      <td>0</td>\n",
       "      <td>0</td>\n",
       "      <td>0</td>\n",
       "      <td>0</td>\n",
       "      <td>0</td>\n",
       "      <td>...</td>\n",
       "      <td>0</td>\n",
       "      <td>0</td>\n",
       "      <td>0</td>\n",
       "      <td>0</td>\n",
       "      <td>0</td>\n",
       "      <td>0</td>\n",
       "      <td>0</td>\n",
       "      <td>0</td>\n",
       "      <td>0</td>\n",
       "      <td>0</td>\n",
       "    </tr>\n",
       "    <tr>\n",
       "      <th>mean</th>\n",
       "      <td>--</td>\n",
       "      <td>0.0</td>\n",
       "      <td>15.921054153390115</td>\n",
       "      <td>--</td>\n",
       "      <td>6.684708827982483</td>\n",
       "      <td>2019.0</td>\n",
       "      <td>12.053703759128393</td>\n",
       "      <td>29.447479917871842</td>\n",
       "      <td>29.32275070166576</td>\n",
       "      <td>--</td>\n",
       "      <td>...</td>\n",
       "      <td>--</td>\n",
       "      <td>--</td>\n",
       "      <td>--</td>\n",
       "      <td>--</td>\n",
       "      <td>25.733640693893648</td>\n",
       "      <td>4.2368079201403575</td>\n",
       "      <td>--</td>\n",
       "      <td>--</td>\n",
       "      <td>--</td>\n",
       "      <td>11577271.0</td>\n",
       "    </tr>\n",
       "    <tr>\n",
       "      <th>std</th>\n",
       "      <td>--</td>\n",
       "      <td>0</td>\n",
       "      <td>8.56857</td>\n",
       "      <td>--</td>\n",
       "      <td>1.73137</td>\n",
       "      <td>0</td>\n",
       "      <td>5.09993</td>\n",
       "      <td>17.3112</td>\n",
       "      <td>17.3617</td>\n",
       "      <td>--</td>\n",
       "      <td>...</td>\n",
       "      <td>--</td>\n",
       "      <td>--</td>\n",
       "      <td>--</td>\n",
       "      <td>--</td>\n",
       "      <td>23.5603</td>\n",
       "      <td>11.5566</td>\n",
       "      <td>--</td>\n",
       "      <td>--</td>\n",
       "      <td>--</td>\n",
       "      <td>6.68414e+06</td>\n",
       "    </tr>\n",
       "    <tr>\n",
       "      <th>min</th>\n",
       "      <td>--</td>\n",
       "      <td>0</td>\n",
       "      <td>1</td>\n",
       "      <td>--</td>\n",
       "      <td>4</td>\n",
       "      <td>2019</td>\n",
       "      <td>0</td>\n",
       "      <td>0</td>\n",
       "      <td>0</td>\n",
       "      <td>--</td>\n",
       "      <td>...</td>\n",
       "      <td>--</td>\n",
       "      <td>--</td>\n",
       "      <td>--</td>\n",
       "      <td>--</td>\n",
       "      <td>-54.8</td>\n",
       "      <td>-178.967</td>\n",
       "      <td>--</td>\n",
       "      <td>--</td>\n",
       "      <td>--</td>\n",
       "      <td>0</td>\n",
       "    </tr>\n",
       "    <tr>\n",
       "      <th>max</th>\n",
       "      <td>--</td>\n",
       "      <td>0</td>\n",
       "      <td>31</td>\n",
       "      <td>--</td>\n",
       "      <td>9</td>\n",
       "      <td>2019</td>\n",
       "      <td>23</td>\n",
       "      <td>59</td>\n",
       "      <td>59</td>\n",
       "      <td>--</td>\n",
       "      <td>...</td>\n",
       "      <td>--</td>\n",
       "      <td>--</td>\n",
       "      <td>--</td>\n",
       "      <td>--</td>\n",
       "      <td>72.7868</td>\n",
       "      <td>178.441</td>\n",
       "      <td>--</td>\n",
       "      <td>--</td>\n",
       "      <td>--</td>\n",
       "      <td>23154542</td>\n",
       "    </tr>\n",
       "  </tbody>\n",
       "</table>\n",
       "<p>7 rows × 47 columns</p>\n",
       "</div>"
      ],
      "text/plain": [
       "      time_stamp  label_nr            date_day date_month      date_month_nr  \\\n",
       "dtype        str     int64               int64        str              int64   \n",
       "count   23154543  23154543            23154543   23154543           23154543   \n",
       "NA             0         0                   0          0                  0   \n",
       "mean          --       0.0  15.921054153390115         --  6.684708827982483   \n",
       "std           --         0             8.56857         --            1.73137   \n",
       "min           --         0                   1         --                  4   \n",
       "max           --         0                  31         --                  9   \n",
       "\n",
       "      date_year           date_hour         date_minute        date_second  \\\n",
       "dtype     int64               int64               int64              int64   \n",
       "count  23154543            23154543            23154543           23154543   \n",
       "NA            0                   0                   0                  0   \n",
       "mean     2019.0  12.053703759128393  29.447479917871842  29.32275070166576   \n",
       "std           0             5.09993             17.3112            17.3617   \n",
       "min        2019                   0                   0                  0   \n",
       "max        2019                  23                  59                 59   \n",
       "\n",
       "         src_ip  ... loc_country loc_region  loc_city loc_country_code  \\\n",
       "dtype       str  ...         str        str       str              str   \n",
       "count  23154543  ...    23154543   23154543  23154543         23154543   \n",
       "NA            0  ...           0          0         0                0   \n",
       "mean         --  ...          --         --        --               --   \n",
       "std          --  ...          --         --        --               --   \n",
       "min          --  ...          --         --        --               --   \n",
       "max          --  ...          --         --        --               --   \n",
       "\n",
       "             loc_latitude       loc_longitude loc_zip_code loc_time_zone  \\\n",
       "dtype             float64             float64          str           str   \n",
       "count            23154543            23154543     23154543      23154543   \n",
       "NA                      0                   0            0             0   \n",
       "mean   25.733640693893648  4.2368079201403575           --            --   \n",
       "std               23.5603             11.5566           --            --   \n",
       "min                 -54.8            -178.967           --            --   \n",
       "max               72.7868             178.441           --            --   \n",
       "\n",
       "      ldap_user        index  \n",
       "dtype       str        int64  \n",
       "count  23154543     23154543  \n",
       "NA            0            0  \n",
       "mean         --   11577271.0  \n",
       "std          --  6.68414e+06  \n",
       "min          --            0  \n",
       "max          --     23154542  \n",
       "\n",
       "[7 rows x 47 columns]"
      ]
     },
     "execution_count": 6,
     "metadata": {},
     "output_type": "execute_result"
    }
   ],
   "source": [
    "# Get a high level overview of the DataFrame\n",
    "oidc_df.describe()"
   ]
  },
  {
   "cell_type": "code",
   "execution_count": 7,
   "metadata": {},
   "outputs": [],
   "source": [
    "# Helper Function to sort the data based on the months\n",
    "\n",
    "month_list=['january','february','march','april','may','june','july',\n",
    "            'august','september','october','november','december']\n",
    "\n",
    "def sort(df, month_col, value_col):\n",
    "    \n",
    "    m_list = df[month_col].tolist()\n",
    "    v_list = df[value_col].tolist()\n",
    "    \n",
    "    x = []\n",
    "    y = []\n",
    "    \n",
    "    for m in month_list:\n",
    "        if m in m_list:\n",
    "            x.append(m)\n",
    "            y.append(v_list[m_list.index(m)])\n",
    "        \n",
    "    return x,y"
   ]
  },
  {
   "cell_type": "markdown",
   "metadata": {},
   "source": [
    "## API Zugriffe pro Monat"
   ]
  },
  {
   "cell_type": "code",
   "execution_count": 8,
   "metadata": {},
   "outputs": [
    {
     "data": {
      "text/html": [
       "<table>\n",
       "<thead>\n",
       "<tr><th>#                            </th><th>date_month  </th><th style=\"text-align: right;\">      count</th></tr>\n",
       "</thead>\n",
       "<tbody>\n",
       "<tr><td><i style='opacity: 0.6'>0</i></td><td>september   </td><td style=\"text-align: right;\">4.66405e+06</td></tr>\n",
       "<tr><td><i style='opacity: 0.6'>1</i></td><td>august      </td><td style=\"text-align: right;\">4.27707e+06</td></tr>\n",
       "<tr><td><i style='opacity: 0.6'>2</i></td><td>july        </td><td style=\"text-align: right;\">3.86119e+06</td></tr>\n",
       "<tr><td><i style='opacity: 0.6'>3</i></td><td>may         </td><td style=\"text-align: right;\">3.78828e+06</td></tr>\n",
       "<tr><td><i style='opacity: 0.6'>4</i></td><td>april       </td><td style=\"text-align: right;\">3.38254e+06</td></tr>\n",
       "<tr><td><i style='opacity: 0.6'>5</i></td><td>june        </td><td style=\"text-align: right;\">3.18142e+06</td></tr>\n",
       "</tbody>\n",
       "</table>"
      ],
      "text/plain": [
       "  #  date_month          count\n",
       "  0  september     4.66405e+06\n",
       "  1  august        4.27707e+06\n",
       "  2  july          3.86119e+06\n",
       "  3  may           3.78828e+06\n",
       "  4  april         3.38254e+06\n",
       "  5  june          3.18142e+06"
      ]
     },
     "execution_count": 8,
     "metadata": {},
     "output_type": "execute_result"
    }
   ],
   "source": [
    "# Create a ranking list\n",
    "calls_per_month = oidc_df.groupby(oidc_df.date_month, agg='count').sort('count', ascending=False)\n",
    "calls_per_month"
   ]
  },
  {
   "cell_type": "code",
   "execution_count": 9,
   "metadata": {},
   "outputs": [
    {
     "data": {
      "text/plain": [
       "['september', 'august', 'july', 'may', 'april', 'june']"
      ]
     },
     "execution_count": 9,
     "metadata": {},
     "output_type": "execute_result"
    }
   ],
   "source": [
    "# just to show how to work with vaex data\n",
    "calls_per_month['date_month'].tolist()"
   ]
  },
  {
   "cell_type": "code",
   "execution_count": 10,
   "metadata": {},
   "outputs": [
    {
     "data": {
      "text/plain": [
       "vaex.dataframe.DataFrameArrays"
      ]
     },
     "execution_count": 10,
     "metadata": {},
     "output_type": "execute_result"
    }
   ],
   "source": [
    "# just to show how to work with vaex data\n",
    "type(calls_per_month)"
   ]
  },
  {
   "cell_type": "code",
   "execution_count": 11,
   "metadata": {},
   "outputs": [
    {
     "data": {
      "text/plain": [
       "OrderedDict([('date_month', <vaex.column.ColumnIndexed at 0x7fd02023f750>),\n",
       "             ('count', <vaex.column.ColumnIndexed at 0x7fd07051aad0>),\n",
       "             ('__count_1', <vaex.column.ColumnIndexed at 0x7fd07051a7d0>)])"
      ]
     },
     "execution_count": 11,
     "metadata": {},
     "output_type": "execute_result"
    }
   ],
   "source": [
    "# just to show how to work with vaex data\n",
    "calls_per_month.columns"
   ]
  },
  {
   "cell_type": "code",
   "execution_count": 12,
   "metadata": {},
   "outputs": [
    {
     "data": {
      "text/plain": [
       "[4664050, 4277066, 3861191, 3788275, 3382539, 3181422]"
      ]
     },
     "execution_count": 12,
     "metadata": {},
     "output_type": "execute_result"
    }
   ],
   "source": [
    "# just to show how to work with vaex data\n",
    "y = calls_per_month['count'].tolist()\n",
    "y"
   ]
  },
  {
   "cell_type": "code",
   "execution_count": 13,
   "metadata": {},
   "outputs": [
    {
     "data": {
      "text/plain": [
       "['september', 'august', 'july', 'may', 'april', 'june']"
      ]
     },
     "execution_count": 13,
     "metadata": {},
     "output_type": "execute_result"
    }
   ],
   "source": [
    "# just to show how to work with vaex data\n",
    "x = calls_per_month.date_month.values.tolist()\n",
    "x"
   ]
  },
  {
   "cell_type": "code",
   "execution_count": 14,
   "metadata": {},
   "outputs": [
    {
     "data": {
      "text/plain": [
       "(['april', 'may', 'june', 'july', 'august', 'september'],\n",
       " [3382539, 3788275, 3181422, 3861191, 4277066, 4664050])"
      ]
     },
     "execution_count": 14,
     "metadata": {},
     "output_type": "execute_result"
    }
   ],
   "source": [
    "x,y = sort(calls_per_month, 'date_month', 'count')\n",
    "x,y"
   ]
  },
  {
   "cell_type": "code",
   "execution_count": 15,
   "metadata": {},
   "outputs": [
    {
     "data": {
      "image/png": "[encoded data removed]",
      "text/plain": [
       "<Figure size 576x360 with 1 Axes>"
      ]
     },
     "metadata": {
      "needs_background": "light"
     },
     "output_type": "display_data"
    }
   ],
   "source": [
    "# Plot the result\n",
    "plt.figure(figsize=(8, 5))\n",
    "sns.barplot(x=x, y=y, color='steelblue')\n",
    "plt.xlabel('Monat')\n",
    "plt.ylabel('Anzahl OIDC Endpoint Zugriffe')\n",
    "plt.xticks(rotation='45')\n",
    "plt.show()"
   ]
  },
  {
   "cell_type": "code",
   "execution_count": 16,
   "metadata": {},
   "outputs": [
    {
     "name": "stdout",
     "output_type": "stream",
     "text": [
      "[########################################]:  100.00% elapsed time  :        0s =  0.0m =  0.0h\n",
      " "
     ]
    },
    {
     "data": {
      "image/png": "[encoded data removed]",
      "text/plain": [
       "<Figure size 1152x288 with 1 Axes>"
      ]
     },
     "metadata": {
      "needs_background": "light"
     },
     "output_type": "display_data"
    }
   ],
   "source": [
    "# just to show how to work with vaex data\n",
    "# The same as above but the easier way\n",
    "num_calls_per_month = oidc_df.date_month.value_counts(progress=True)\n",
    "\n",
    "# Plot the result\n",
    "plt.figure(figsize=(16, 4))\n",
    "sns.barplot(x=num_calls_per_month.index, y=num_calls_per_month.values)\n",
    "plt.xlabel('Month')\n",
    "plt.ylabel('Number of API calls')\n",
    "plt.xticks(rotation='45')\n",
    "plt.show()"
   ]
  },
  {
   "cell_type": "markdown",
   "metadata": {},
   "source": [
    "## Anzahl OIDC-EP Zugriffe"
   ]
  },
  {
   "cell_type": "code",
   "execution_count": 17,
   "metadata": {},
   "outputs": [
    {
     "name": "stdout",
     "output_type": "stream",
     "text": [
      "[########################################]:  100.00% elapsed time  :        0s =  0.0m =  0.0h\n",
      " "
     ]
    },
    {
     "data": {
      "text/plain": [
       "authorize                           12434708\n",
       "access_token                         6067829\n",
       "connect/jwk_uri                      4123474\n",
       ".well-known/openid-configuration      188975\n",
       "userinfo                              135718\n",
       "introspect                            128612\n",
       "users/applications                     55006\n",
       "connect/endSession                     20030\n",
       "users/applications/client                187\n",
       "-                                          4\n",
       "dtype: int64"
      ]
     },
     "execution_count": 17,
     "metadata": {},
     "output_type": "execute_result"
    }
   ],
   "source": [
    "num_calls_per_ep = oidc_df.uri_path.value_counts(progress=True)\n",
    "num_calls_per_ep"
   ]
  },
  {
   "cell_type": "code",
   "execution_count": 18,
   "metadata": {},
   "outputs": [
    {
     "data": {
      "image/png": "[encoded data removed]",
      "text/plain": [
       "<Figure size 1152x576 with 1 Axes>"
      ]
     },
     "metadata": {
      "needs_background": "light"
     },
     "output_type": "display_data"
    }
   ],
   "source": [
    "# Plot the result\n",
    "plt.figure(figsize=(16, 8))\n",
    "sns.barplot(x=num_calls_per_ep.index, y=num_calls_per_ep.values, palette='Spectral')\n",
    "plt.xlabel('Month')\n",
    "plt.ylabel('Number of API calls')\n",
    "plt.xticks(rotation='45')\n",
    "plt.show()"
   ]
  },
  {
   "cell_type": "markdown",
   "metadata": {},
   "source": [
    "## Geographische Verteilung der SwissID Zugriffe"
   ]
  },
  {
   "cell_type": "code",
   "execution_count": 19,
   "metadata": {},
   "outputs": [
    {
     "data": {
      "text/html": [
       "<table>\n",
       "<thead>\n",
       "<tr><th>#                              </th><th>loc_country                    </th><th>count   </th></tr>\n",
       "</thead>\n",
       "<tbody>\n",
       "<tr><td><i style='opacity: 0.6'>0</i>  </td><td>Switzerland                    </td><td>11478670</td></tr>\n",
       "<tr><td><i style='opacity: 0.6'>1</i>  </td><td>-                              </td><td>10360033</td></tr>\n",
       "<tr><td><i style='opacity: 0.6'>2</i>  </td><td>Germany                        </td><td>371102  </td></tr>\n",
       "<tr><td><i style='opacity: 0.6'>3</i>  </td><td>Italy                          </td><td>116565  </td></tr>\n",
       "<tr><td><i style='opacity: 0.6'>4</i>  </td><td>France                         </td><td>115331  </td></tr>\n",
       "<tr><td>...                            </td><td>...                            </td><td>...     </td></tr>\n",
       "<tr><td><i style='opacity: 0.6'>213</i></td><td>Samoa                          </td><td>5       </td></tr>\n",
       "<tr><td><i style='opacity: 0.6'>214</i></td><td>Marshall Islands               </td><td>3       </td></tr>\n",
       "<tr><td><i style='opacity: 0.6'>215</i></td><td>Micronesia, Federated States of</td><td>2       </td></tr>\n",
       "<tr><td><i style='opacity: 0.6'>216</i></td><td>Wallis and Futuna              </td><td>2       </td></tr>\n",
       "<tr><td><i style='opacity: 0.6'>217</i></td><td>Anguilla                       </td><td>2       </td></tr>\n",
       "</tbody>\n",
       "</table>"
      ],
      "text/plain": [
       "#    loc_country                      count\n",
       "0    Switzerland                      11478670\n",
       "1    -                                10360033\n",
       "2    Germany                          371102\n",
       "3    Italy                            116565\n",
       "4    France                           115331\n",
       "...  ...                              ...\n",
       "213  Samoa                            5\n",
       "214  Marshall Islands                 3\n",
       "215  Micronesia, Federated States of  2\n",
       "216  Wallis and Futuna                2\n",
       "217  Anguilla                         2"
      ]
     },
     "execution_count": 19,
     "metadata": {},
     "output_type": "execute_result"
    }
   ],
   "source": [
    "# Create a ranking list\n",
    "calls_per_country = oidc_df.groupby(oidc_df.loc_country, agg='count').sort('count', ascending=False)\n",
    "calls_per_country"
   ]
  },
  {
   "cell_type": "code",
   "execution_count": 20,
   "metadata": {},
   "outputs": [
    {
     "data": {
      "image/png": "[encoded data removed]",
      "text/plain": [
       "<Figure size 1152x576 with 1 Axes>"
      ]
     },
     "metadata": {
      "needs_background": "light"
     },
     "output_type": "display_data"
    }
   ],
   "source": [
    "# Plot the result\n",
    "country_top_10 = calls_per_country[calls_per_country['count'] > 30000]\n",
    "\n",
    "plt.figure(figsize=(16, 8))\n",
    "sns.barplot(y=country_top_10['loc_country'].tolist(), \n",
    "            x=country_top_10['count'].tolist(), palette='Spectral')\n",
    "plt.xlabel('Number of API calls')\n",
    "plt.ylabel('Country')\n",
    "plt.xticks(rotation='45')\n",
    "plt.show()"
   ]
  },
  {
   "cell_type": "code",
   "execution_count": 21,
   "metadata": {},
   "outputs": [
    {
     "data": {
      "application/vnd.jupyter.widget-view+json": {
       "model_id": "0fab83842923422e8a6f486d81ea0609",
       "version_major": 2,
       "version_minor": 0
      },
      "text/plain": [
       "PlotTemplate(components={'main-widget': VBox(children=(VBox(children=(Figure(axes=[Axis(color='#666', grid_col…"
      ]
     },
     "metadata": {},
     "output_type": "display_data"
    },
    {
     "data": {
      "text/plain": [
       "Plot2dDefault(w=None, what='count(*)', x='loc_longitude', y='loc_latitude', z=None)"
      ]
     },
     "metadata": {},
     "output_type": "display_data"
    }
   ],
   "source": [
    "oidc_df.plot_widget(oidc_df.loc_longitude, \n",
    "               oidc_df.loc_latitude, \n",
    "               shape=256, \n",
    "               limits='minmax',\n",
    "               f='log1p', \n",
    "               colormap='plasma')"
   ]
  },
  {
   "cell_type": "code",
   "execution_count": 22,
   "metadata": {},
   "outputs": [],
   "source": [
    "swiss_df = oidc_df[oidc_df['loc_country_code'] =='CH']"
   ]
  },
  {
   "cell_type": "code",
   "execution_count": 23,
   "metadata": {},
   "outputs": [
    {
     "data": {
      "application/vnd.jupyter.widget-view+json": {
       "model_id": "e3365aa720a942f6a379f9431b8c5cee",
       "version_major": 2,
       "version_minor": 0
      },
      "text/plain": [
       "PlotTemplate(components={'main-widget': VBox(children=(VBox(children=(Figure(axes=[Axis(color='#666', grid_col…"
      ]
     },
     "metadata": {},
     "output_type": "display_data"
    },
    {
     "data": {
      "text/plain": [
       "Plot2dDefault(w=None, what='count(*)', x='loc_longitude', y='loc_latitude', z=None)"
      ]
     },
     "metadata": {},
     "output_type": "display_data"
    }
   ],
   "source": [
    "swiss_df.plot_widget(swiss_df.loc_longitude, \n",
    "               swiss_df.loc_latitude, \n",
    "               shape=128, \n",
    "               limits='minmax',\n",
    "               f='log1p', \n",
    "               colormap='plasma')"
   ]
  },
  {
   "cell_type": "markdown",
   "metadata": {},
   "source": [
    "# Nun betrachten wir nur noch den Authorize Endpunkt"
   ]
  },
  {
   "cell_type": "code",
   "execution_count": 24,
   "metadata": {},
   "outputs": [],
   "source": [
    "auth_df = oidc_df[oidc_df['uri_path'] == 'authorize']\n",
    "auth_df = auth_df[auth_df['am_realm'] == 'sesam'] # nur Login ohne Support"
   ]
  },
  {
   "cell_type": "markdown",
   "metadata": {},
   "source": [
    "## Welche Relying Party hat am meisten Benutzer?"
   ]
  },
  {
   "cell_type": "code",
   "execution_count": 25,
   "metadata": {},
   "outputs": [],
   "source": [
    "# Create a client ranking ranking list\n",
    "calls_per_client = auth_df.groupby(auth_df.client_name, agg='count').sort('count', ascending=False)\n",
    "#calls_per_client"
   ]
  },
  {
   "cell_type": "code",
   "execution_count": 27,
   "metadata": {},
   "outputs": [
    {
     "name": "stdout",
     "output_type": "stream",
     "text": [
      "[########################################]:  100.00% elapsed time  :        0s =  0.0m =  0.0h\n",
      " "
     ]
    }
   ],
   "source": [
    "calls_per_client = auth_df.client_name.value_counts(progress=True)\n",
    "\n",
    "# Plot the result\n",
    "#plt.figure(figsize=(16, 12))\n",
    "#sns.barplot(y=calls_per_client.index, x=calls_per_client.values)\n",
    "#plt.xlabel('Number of API calls')\n",
    "#plt.ylabel('Relying Party')\n",
    "#plt.xticks(rotation='45')\n",
    "#plt.show()"
   ]
  },
  {
   "cell_type": "code",
   "execution_count": 28,
   "metadata": {},
   "outputs": [],
   "source": [
    "# Log-Plot\n",
    "#plt.figure(figsize=(16, 12))\n",
    "#sns.barplot(y=calls_per_client.index, x=np.log(calls_per_client.values))\n",
    "#plt.xlabel('log(Number of API calls)')\n",
    "#plt.ylabel('Relying Party')\n",
    "#plt.xticks(rotation='45')\n",
    "#plt.show()"
   ]
  },
  {
   "cell_type": "markdown",
   "metadata": {},
   "source": [
    "## Was geschah am 16. Mai und am 11. September?"
   ]
  },
  {
   "cell_type": "code",
   "execution_count": 29,
   "metadata": {},
   "outputs": [],
   "source": [
    "may_peak_df = auth_df[auth_df['date_month_nr'] == 5]\n",
    "may_peak_df = may_peak_df[may_peak_df['date_day'] == 16]"
   ]
  },
  {
   "cell_type": "code",
   "execution_count": 30,
   "metadata": {},
   "outputs": [],
   "source": [
    "# Create a ranking list\n",
    "calls_per_client = may_peak_df.groupby(may_peak_df.client_name, agg='count').sort('count', ascending=False)\n",
    "#calls_per_client"
   ]
  },
  {
   "cell_type": "code",
   "execution_count": 31,
   "metadata": {},
   "outputs": [],
   "source": [
    "may_df = auth_df[auth_df['date_month_nr'] == 5]\n",
    "may_post_df = may_df[may_df['oidc_client_id'] == 'klp-client']"
   ]
  },
  {
   "cell_type": "code",
   "execution_count": 32,
   "metadata": {},
   "outputs": [],
   "source": [
    "post_calls = may_post_df.groupby(may_post_df.date_day, agg='count').sort('date_day', ascending=True)\n",
    "all_calls = may_df.groupby(may_df.date_day, agg='count').sort('date_day', ascending=True)\n",
    "not_post_values = list(np.array(all_calls['count'].tolist()) - np.array(post_calls['count'].tolist()))\n",
    "days = post_calls['date_day'].tolist()\n",
    "post_values = post_calls['count'].tolist()"
   ]
  },
  {
   "cell_type": "code",
   "execution_count": 33,
   "metadata": {},
   "outputs": [
    {
     "data": {
      "image/png": "[encoded data removed]",
      "text/plain": [
       "<Figure size 864x432 with 1 Axes>"
      ]
     },
     "metadata": {
      "needs_background": "light"
     },
     "output_type": "display_data"
    }
   ],
   "source": [
    "plt.figure(figsize=(12,6))\n",
    "\n",
    "plt.plot(days, post_values, lw=3, color='C0', label='Dominator')\n",
    "plt.plot(days, not_post_values, lw=3, color='C2', label='Rest')\n",
    "\n",
    "plt.xlabel('Mai')\n",
    "plt.ylabel('Authorize Zugriffe')\n",
    "plt.legend()\n",
    "\n",
    "plt.show()"
   ]
  },
  {
   "cell_type": "code",
   "execution_count": 34,
   "metadata": {},
   "outputs": [],
   "source": [
    "sept_df = auth_df[auth_df['date_month_nr'] == 9]\n",
    "sept_post_df = sept_df[sept_df['oidc_client_id'] == 'klp-client']"
   ]
  },
  {
   "cell_type": "code",
   "execution_count": 35,
   "metadata": {},
   "outputs": [],
   "source": [
    "post_calls = sept_post_df.groupby(sept_post_df.date_day, agg='count').sort('date_day', ascending=True)\n",
    "all_calls = sept_df.groupby(sept_df.date_day, agg='count').sort('date_day', ascending=True)\n",
    "not_post_values = list(np.array(all_calls['count'].tolist()) - np.array(post_calls['count'].tolist()))\n",
    "days = post_calls['date_day'].tolist()\n",
    "post_values = post_calls['count'].tolist()"
   ]
  },
  {
   "cell_type": "code",
   "execution_count": 36,
   "metadata": {},
   "outputs": [
    {
     "data": {
      "image/png": "[encoded data removed]",
      "text/plain": [
       "<Figure size 864x432 with 1 Axes>"
      ]
     },
     "metadata": {
      "needs_background": "light"
     },
     "output_type": "display_data"
    }
   ],
   "source": [
    "plt.figure(figsize=(12,6))\n",
    "\n",
    "plt.plot(days, post_values, lw=3, color='C0', label='Dominator')\n",
    "plt.plot(days, not_post_values, lw=3, color='C2', label='Rest')\n",
    "\n",
    "plt.xlabel('September')\n",
    "plt.ylabel('Authorize Zugriffe')\n",
    "plt.legend()\n",
    "\n",
    "plt.show()"
   ]
  },
  {
   "cell_type": "markdown",
   "metadata": {},
   "source": [
    "## Durchschnittliche Zugriffsverteilung innerhalb 24 Stunden"
   ]
  },
  {
   "cell_type": "code",
   "execution_count": 37,
   "metadata": {},
   "outputs": [
    {
     "data": {
      "text/html": [
       "<table>\n",
       "<thead>\n",
       "<tr><th>#                             </th><th>date_hour  </th><th>count  </th></tr>\n",
       "</thead>\n",
       "<tbody>\n",
       "<tr><td><i style='opacity: 0.6'>0</i> </td><td>0          </td><td>64896  </td></tr>\n",
       "<tr><td><i style='opacity: 0.6'>1</i> </td><td>1          </td><td>61265  </td></tr>\n",
       "<tr><td><i style='opacity: 0.6'>2</i> </td><td>2          </td><td>67571  </td></tr>\n",
       "<tr><td><i style='opacity: 0.6'>3</i> </td><td>3          </td><td>116494 </td></tr>\n",
       "<tr><td><i style='opacity: 0.6'>4</i> </td><td>4          </td><td>272920 </td></tr>\n",
       "<tr><td>...                           </td><td>...        </td><td>...    </td></tr>\n",
       "<tr><td><i style='opacity: 0.6'>19</i></td><td>19         </td><td>629847 </td></tr>\n",
       "<tr><td><i style='opacity: 0.6'>20</i></td><td>20         </td><td>504533 </td></tr>\n",
       "<tr><td><i style='opacity: 0.6'>21</i></td><td>21         </td><td>291257 </td></tr>\n",
       "<tr><td><i style='opacity: 0.6'>22</i></td><td>22         </td><td>149960 </td></tr>\n",
       "<tr><td><i style='opacity: 0.6'>23</i></td><td>23         </td><td>85120  </td></tr>\n",
       "</tbody>\n",
       "</table>"
      ],
      "text/plain": [
       "#    date_hour    count\n",
       "0    0            64896\n",
       "1    1            61265\n",
       "2    2            67571\n",
       "3    3            116494\n",
       "4    4            272920\n",
       "...  ...          ...\n",
       "19   19           629847\n",
       "20   20           504533\n",
       "21   21           291257\n",
       "22   22           149960\n",
       "23   23           85120"
      ]
     },
     "execution_count": 37,
     "metadata": {},
     "output_type": "execute_result"
    }
   ],
   "source": [
    "# Create a client ranking ranking list\n",
    "calls_per_hour = auth_df.groupby(auth_df.date_hour, agg='count').sort('date_hour', ascending=True)\n",
    "calls_per_hour"
   ]
  },
  {
   "cell_type": "code",
   "execution_count": 38,
   "metadata": {},
   "outputs": [],
   "source": [
    "days = 30 + 31 + 30 + 31 + 31 + 30\n",
    "calls_per_hour_2 = [x // days for x in calls_per_hour['count'].tolist()]"
   ]
  },
  {
   "cell_type": "code",
   "execution_count": 39,
   "metadata": {},
   "outputs": [
    {
     "data": {
      "image/png": "[encoded data removed]",
      "text/plain": [
       "<Figure size 1152x576 with 1 Axes>"
      ]
     },
     "metadata": {
      "needs_background": "light"
     },
     "output_type": "display_data"
    }
   ],
   "source": [
    "# Plot the result\n",
    "plt.figure(figsize=(16, 8))\n",
    "sns.barplot(x=calls_per_hour['date_hour'].tolist(), \n",
    "            y=calls_per_hour_2, palette='Spectral')\n",
    "plt.xlabel('Stunde')\n",
    "plt.ylabel('Anzahl Authorize AUfrufe')\n",
    "plt.xticks(rotation='45')\n",
    "plt.show()"
   ]
  },
  {
   "cell_type": "markdown",
   "metadata": {},
   "source": [
    "## Wie sieht das für die Wochentage aus?"
   ]
  },
  {
   "cell_type": "code",
   "execution_count": 40,
   "metadata": {},
   "outputs": [],
   "source": [
    "# Load the authorize dataframe\n",
    "\n",
    "log_data_2 = base_dir + 'swissid_authorize_logs_april_to_sept_2019.hdf5'\n",
    "\n",
    "# Read in the data from disk\n",
    "auth_df_2 = vaex.open(log_data_2)"
   ]
  },
  {
   "cell_type": "code",
   "execution_count": 41,
   "metadata": {},
   "outputs": [],
   "source": [
    "#auth_df_2"
   ]
  },
  {
   "cell_type": "code",
   "execution_count": 42,
   "metadata": {},
   "outputs": [],
   "source": [
    "# Helper lists for labelling the plots \n",
    "label_month_list = ['Jan', 'Feb', 'Mar', 'Apr', 'May', 'Jun', 'Jul', 'Aug', 'Sep', 'Oct', 'Nov', 'Dec']\n",
    "label_day_list = ['Mon', 'Tue', 'Wed', 'Thu', 'Fri', 'Sat', 'Sun']"
   ]
  },
  {
   "cell_type": "code",
   "execution_count": 43,
   "metadata": {},
   "outputs": [],
   "source": [
    "# Treat these columns as label/ordinal encoded values\n",
    "auth_df_2.categorize(column='date_hour')\n",
    "auth_df_2.categorize(column='date_weekday')"
   ]
  },
  {
   "cell_type": "code",
   "execution_count": 44,
   "metadata": {},
   "outputs": [
    {
     "data": {
      "image/png": "[encoded data removed]",
      "text/plain": [
       "<Figure size 1080x360 with 2 Axes>"
      ]
     },
     "metadata": {
      "needs_background": "light"
     },
     "output_type": "display_data"
    }
   ],
   "source": [
    "# Plot heatmap with total number of logins\n",
    "plt.figure(figsize=(15, 5))\n",
    "auth_df_2.plot('date_hour', 'date_weekday', colorbar=True, colorbar_label='Anzahl Zugriffe', colormap=cm_plusmin)\n",
    "plt.xticks(np.arange(24), np.arange(24))\n",
    "plt.yticks(np.arange(7), label_day_list)\n",
    "plt.xlabel('Hour of Day')\n",
    "plt.ylabel('Day of week')\n",
    "plt.tick_params(labelsize=12)\n",
    "plt.show()"
   ]
  },
  {
   "cell_type": "code",
   "execution_count": 45,
   "metadata": {},
   "outputs": [
    {
     "data": {
      "image/png": "[encoded data removed]",
      "text/plain": [
       "<Figure size 1080x360 with 2 Axes>"
      ]
     },
     "metadata": {
      "needs_background": "light"
     },
     "output_type": "display_data"
    }
   ],
   "source": [
    "# Plot heatmap, this time with mean values\n",
    "plt.figure(figsize=(15, 5))\n",
    "auth_df_2.plot('date_hour', 'date_weekday', what=vaex.stat.count(auth_df_2.date_hour)/26, colorbar=True, colorbar_label='Anzahl Zugriffe', colormap=cm_plusmin)\n",
    "plt.xticks(np.arange(24), np.arange(24))\n",
    "plt.yticks(np.arange(7), label_day_list)\n",
    "plt.xlabel('Hour of Day')\n",
    "plt.ylabel('Day of week')\n",
    "plt.tick_params(labelsize=12)\n",
    "plt.show()"
   ]
  },
  {
   "cell_type": "code",
   "execution_count": 46,
   "metadata": {},
   "outputs": [],
   "source": [
    "xycounts = auth_df_2.count(binby=[auth_df_2.date_hour, auth_df_2.date_weekday], limits=[[0, 23], [0, 6]], shape=(24, 7))\n",
    "#xycounts"
   ]
  },
  {
   "cell_type": "code",
   "execution_count": 47,
   "metadata": {},
   "outputs": [
    {
     "data": {
      "image/png": "[encoded data removed]",
      "text/plain": [
       "<Figure size 432x288 with 1 Axes>"
      ]
     },
     "metadata": {
      "needs_background": "light"
     },
     "output_type": "display_data"
    }
   ],
   "source": [
    "plt.imshow(xycounts.T, origin='lower', extent=[0, 23, 0, 6])\n",
    "plt.show()"
   ]
  },
  {
   "cell_type": "markdown",
   "metadata": {},
   "source": [
    "## Klassenverteilung"
   ]
  },
  {
   "cell_type": "code",
   "execution_count": 48,
   "metadata": {},
   "outputs": [
    {
     "data": {
      "text/html": [
       "<table>\n",
       "<thead>\n",
       "<tr><th>#                            </th><th>label  </th><th style=\"text-align: right;\">          count</th></tr>\n",
       "</thead>\n",
       "<tbody>\n",
       "<tr><td><i style='opacity: 0.6'>0</i></td><td>suspect</td><td style=\"text-align: right;\">    7.41281e+06</td></tr>\n",
       "<tr><td><i style='opacity: 0.6'>1</i></td><td>normal </td><td style=\"text-align: right;\">    4.98202e+06</td></tr>\n",
       "<tr><td><i style='opacity: 0.6'>2</i></td><td>anomaly</td><td style=\"text-align: right;\">22769          </td></tr>\n",
       "</tbody>\n",
       "</table>"
      ],
      "text/plain": [
       "  #  label              count\n",
       "  0  suspect      7.41281e+06\n",
       "  1  normal       4.98202e+06\n",
       "  2  anomaly  22769"
      ]
     },
     "execution_count": 48,
     "metadata": {},
     "output_type": "execute_result"
    }
   ],
   "source": [
    "auth_df_2.groupby(auth_df_2['label'], agg='count').sort('count', ascending=False)"
   ]
  },
  {
   "cell_type": "code",
   "execution_count": 49,
   "metadata": {},
   "outputs": [
    {
     "data": {
      "text/plain": [
       "array(12417597)"
      ]
     },
     "execution_count": 49,
     "metadata": {},
     "output_type": "execute_result"
    }
   ],
   "source": [
    "auth_df_2.count()"
   ]
  },
  {
   "cell_type": "code",
   "execution_count": null,
   "metadata": {},
   "outputs": [],
   "source": []
  }
 ],
 "metadata": {
  "kernelspec": {
   "display_name": "Python 3",
   "language": "python",
   "name": "python3"
  },
  "language_info": {
   "codemirror_mode": {
    "name": "ipython",
    "version": 3
   },
   "file_extension": ".py",
   "mimetype": "text/x-python",
   "name": "python",
   "nbconvert_exporter": "python",
   "pygments_lexer": "ipython3",
   "version": "3.7.5"
  }
 },
 "nbformat": 4,
 "nbformat_minor": 2
}
